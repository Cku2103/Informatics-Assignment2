{
 "cells": [
  {
   "cell_type": "markdown",
   "id": "a0b0e50f",
   "metadata": {},
   "source": [
    "# PLA6619 Introduction to Urban Data and Informatics\n",
    "\n",
    "### Assignment 2\n",
    "Catharina Utami (cku2103)"
   ]
  },
  {
   "cell_type": "code",
   "execution_count": 3,
   "id": "24789cfe",
   "metadata": {},
   "outputs": [],
   "source": [
    "#initial call for API, includes notes from assignment brief\n",
    "\n",
    "import requests\n",
    "import pandas as pd\n",
    "import json\n",
    "\n",
    "# Yelp API documentation\n",
    "url = 'https://api.yelp.com/v3/businesses/search'\n",
    "api_key = 'Awp3-QrYhMO_a_il-2P5WekrLymOLV_-Gth5_yBzK16yQlsm_4WzPBu8QP71MzhZLE4z7mEannAzlT0XsDmsdoMDsWVaoe3c0G5nKeBEaw8BzLsbPj8q872AvoMtZXYx'  # replace with your actual API key\n",
    "headers = {'Authorization': f'Bearer {api_key}'}\n",
    "\n",
    "params = {\n",
    "    'limit': 50,  # 50 is the max per request\n",
    "    'location': 'newyork'\n",
    "}\n",
    "\n",
    "# offset works like paging, if you want more responses use this and adjust as needed.\n",
    "# Here we aim to fetch 1000 businesses\n",
    "all_businesses = []\n",
    "\n",
    "for offset in range(0, 1000, 50):\n",
    "    params['offset'] = offset\n",
    "    response = requests.get(url, headers=headers, params=params)\n",
    "    \n",
    "    # Check if the request was successful\n",
    "    if response.status_code == 200:\n",
    "        data = response.json()\n",
    "        businesses = data.get('businesses', [])\n",
    "        all_businesses.extend(businesses)\n",
    "        \n",
    "        # Break out of loop if we receive fewer businesses than expected\n",
    "        # indicating we've fetched all available businesses\n",
    "        if len(businesses) < 50:\n",
    "            break\n",
    "    else:\n",
    "        print(f\"Error {response.status_code}: {response.text}\")\n",
    "        break\n",
    "\n",
    "# Convert businesses to DataFrame for a structured view\n",
    "df = pd.DataFrame(all_businesses)\n"
   ]
  },
  {
   "cell_type": "code",
   "execution_count": 4,
   "id": "3ae060cb",
   "metadata": {},
   "outputs": [],
   "source": [
    "df.to_json('yelp_data_nyc.json', orient='records', lines=True)"
   ]
  },
  {
   "cell_type": "code",
   "execution_count": 5,
   "id": "00780ef3",
   "metadata": {},
   "outputs": [],
   "source": [
    "df = pd.read_json('yelp_data_nyc.json', lines=True)"
   ]
  },
  {
   "cell_type": "code",
   "execution_count": 6,
   "id": "1fab29bc",
   "metadata": {},
   "outputs": [
    {
     "name": "stdout",
     "output_type": "stream",
     "text": [
      "1000\n"
     ]
    },
    {
     "data": {
      "text/html": [
       "<div>\n",
       "<style scoped>\n",
       "    .dataframe tbody tr th:only-of-type {\n",
       "        vertical-align: middle;\n",
       "    }\n",
       "\n",
       "    .dataframe tbody tr th {\n",
       "        vertical-align: top;\n",
       "    }\n",
       "\n",
       "    .dataframe thead th {\n",
       "        text-align: right;\n",
       "    }\n",
       "</style>\n",
       "<table border=\"1\" class=\"dataframe\">\n",
       "  <thead>\n",
       "    <tr style=\"text-align: right;\">\n",
       "      <th></th>\n",
       "      <th>id</th>\n",
       "      <th>alias</th>\n",
       "      <th>name</th>\n",
       "      <th>image_url</th>\n",
       "      <th>is_closed</th>\n",
       "      <th>url</th>\n",
       "      <th>review_count</th>\n",
       "      <th>categories</th>\n",
       "      <th>rating</th>\n",
       "      <th>coordinates</th>\n",
       "      <th>transactions</th>\n",
       "      <th>price</th>\n",
       "      <th>location</th>\n",
       "      <th>phone</th>\n",
       "      <th>display_phone</th>\n",
       "      <th>distance</th>\n",
       "    </tr>\n",
       "  </thead>\n",
       "  <tbody>\n",
       "    <tr>\n",
       "      <th>0</th>\n",
       "      <td>nRO136GRieGtxz18uD61DA</td>\n",
       "      <td>eleven-madison-park-new-york</td>\n",
       "      <td>Eleven Madison Park</td>\n",
       "      <td>https://s3-media1.fl.yelpcdn.com/bphoto/s_H7gm...</td>\n",
       "      <td>False</td>\n",
       "      <td>https://www.yelp.com/biz/eleven-madison-park-n...</td>\n",
       "      <td>2451</td>\n",
       "      <td>[{'alias': 'newamerican', 'title': 'American (...</td>\n",
       "      <td>4.5</td>\n",
       "      <td>{'latitude': 40.7416907417, 'longitude': -73.9...</td>\n",
       "      <td>[]</td>\n",
       "      <td>$$$$</td>\n",
       "      <td>{'address1': '11 Madison Ave', 'address2': '',...</td>\n",
       "      <td>+12128890905</td>\n",
       "      <td>(212) 889-0905</td>\n",
       "      <td>5035.227660</td>\n",
       "    </tr>\n",
       "    <tr>\n",
       "      <th>1</th>\n",
       "      <td>SaYTVG7wHCMDBofHCgXPaA</td>\n",
       "      <td>dutch-freds-new-york-2</td>\n",
       "      <td>Dutch Freds</td>\n",
       "      <td>https://s3-media2.fl.yelpcdn.com/bphoto/312T_G...</td>\n",
       "      <td>False</td>\n",
       "      <td>https://www.yelp.com/biz/dutch-freds-new-york-...</td>\n",
       "      <td>2039</td>\n",
       "      <td>[{'alias': 'cocktailbars', 'title': 'Cocktail ...</td>\n",
       "      <td>4.5</td>\n",
       "      <td>{'latitude': 40.760835, 'longitude': -73.987823}</td>\n",
       "      <td>[delivery, pickup]</td>\n",
       "      <td>$$</td>\n",
       "      <td>{'address1': '307 W 47th St', 'address2': None...</td>\n",
       "      <td>+16469186923</td>\n",
       "      <td>(646) 918-6923</td>\n",
       "      <td>7154.324281</td>\n",
       "    </tr>\n",
       "  </tbody>\n",
       "</table>\n",
       "</div>"
      ],
      "text/plain": [
       "                       id                         alias                 name  \\\n",
       "0  nRO136GRieGtxz18uD61DA  eleven-madison-park-new-york  Eleven Madison Park   \n",
       "1  SaYTVG7wHCMDBofHCgXPaA        dutch-freds-new-york-2          Dutch Freds   \n",
       "\n",
       "                                           image_url  is_closed  \\\n",
       "0  https://s3-media1.fl.yelpcdn.com/bphoto/s_H7gm...      False   \n",
       "1  https://s3-media2.fl.yelpcdn.com/bphoto/312T_G...      False   \n",
       "\n",
       "                                                 url  review_count  \\\n",
       "0  https://www.yelp.com/biz/eleven-madison-park-n...          2451   \n",
       "1  https://www.yelp.com/biz/dutch-freds-new-york-...          2039   \n",
       "\n",
       "                                          categories  rating  \\\n",
       "0  [{'alias': 'newamerican', 'title': 'American (...     4.5   \n",
       "1  [{'alias': 'cocktailbars', 'title': 'Cocktail ...     4.5   \n",
       "\n",
       "                                         coordinates        transactions  \\\n",
       "0  {'latitude': 40.7416907417, 'longitude': -73.9...                  []   \n",
       "1   {'latitude': 40.760835, 'longitude': -73.987823}  [delivery, pickup]   \n",
       "\n",
       "  price                                           location         phone  \\\n",
       "0  $$$$  {'address1': '11 Madison Ave', 'address2': '',...  +12128890905   \n",
       "1    $$  {'address1': '307 W 47th St', 'address2': None...  +16469186923   \n",
       "\n",
       "    display_phone     distance  \n",
       "0  (212) 889-0905  5035.227660  \n",
       "1  (646) 918-6923  7154.324281  "
      ]
     },
     "execution_count": 6,
     "metadata": {},
     "output_type": "execute_result"
    }
   ],
   "source": [
    "#checking number of lines and see the datasets\n",
    "print(len(df))\n",
    "df.head(2)"
   ]
  },
  {
   "cell_type": "code",
   "execution_count": 7,
   "id": "49abd1d5",
   "metadata": {},
   "outputs": [
    {
     "name": "stdout",
     "output_type": "stream",
     "text": [
      "id                object\n",
      "alias             object\n",
      "name              object\n",
      "image_url         object\n",
      "is_closed           bool\n",
      "url               object\n",
      "review_count       int64\n",
      "categories        object\n",
      "rating           float64\n",
      "coordinates       object\n",
      "transactions      object\n",
      "price             object\n",
      "location          object\n",
      "phone             object\n",
      "display_phone     object\n",
      "distance         float64\n",
      "dtype: object\n"
     ]
    }
   ],
   "source": [
    "#checking datatypes\n",
    "print (df.dtypes)"
   ]
  },
  {
   "cell_type": "code",
   "execution_count": 8,
   "id": "92b5a615",
   "metadata": {},
   "outputs": [
    {
     "name": "stdout",
     "output_type": "stream",
     "text": [
      "Number of duplicate ids: 90\n"
     ]
    }
   ],
   "source": [
    "#checking duplicates, I am using the id column since it is a unique code\n",
    "duplicate_count = df['id'].duplicated().sum()\n",
    "print(f\"Number of duplicate ids: {duplicate_count}\")"
   ]
  },
  {
   "cell_type": "code",
   "execution_count": 9,
   "id": "f856869e",
   "metadata": {},
   "outputs": [
    {
     "data": {
      "text/html": [
       "<div>\n",
       "<style scoped>\n",
       "    .dataframe tbody tr th:only-of-type {\n",
       "        vertical-align: middle;\n",
       "    }\n",
       "\n",
       "    .dataframe tbody tr th {\n",
       "        vertical-align: top;\n",
       "    }\n",
       "\n",
       "    .dataframe thead th {\n",
       "        text-align: right;\n",
       "    }\n",
       "</style>\n",
       "<table border=\"1\" class=\"dataframe\">\n",
       "  <thead>\n",
       "    <tr style=\"text-align: right;\">\n",
       "      <th></th>\n",
       "      <th>id</th>\n",
       "      <th>alias</th>\n",
       "      <th>name</th>\n",
       "      <th>image_url</th>\n",
       "      <th>is_closed</th>\n",
       "      <th>url</th>\n",
       "      <th>review_count</th>\n",
       "      <th>categories</th>\n",
       "      <th>rating</th>\n",
       "      <th>coordinates</th>\n",
       "      <th>transactions</th>\n",
       "      <th>price</th>\n",
       "      <th>location</th>\n",
       "      <th>phone</th>\n",
       "      <th>display_phone</th>\n",
       "      <th>distance</th>\n",
       "    </tr>\n",
       "  </thead>\n",
       "  <tbody>\n",
       "    <tr>\n",
       "      <th>48</th>\n",
       "      <td>dMhRafXdr765DHe0k-QfaQ</td>\n",
       "      <td>abc-kitchen-new-york</td>\n",
       "      <td>ABC Kitchen</td>\n",
       "      <td>https://s3-media2.fl.yelpcdn.com/bphoto/tFmGNU...</td>\n",
       "      <td>False</td>\n",
       "      <td>https://www.yelp.com/biz/abc-kitchen-new-york?...</td>\n",
       "      <td>3191</td>\n",
       "      <td>[{'alias': 'breakfast_brunch', 'title': 'Break...</td>\n",
       "      <td>4.0</td>\n",
       "      <td>{'latitude': 40.7377500834, 'longitude': -73.9...</td>\n",
       "      <td>[delivery]</td>\n",
       "      <td>$$$</td>\n",
       "      <td>{'address1': '35 E 18th St', 'address2': '', '...</td>\n",
       "      <td>+12124755829</td>\n",
       "      <td>(212) 475-5829</td>\n",
       "      <td>4637.135949</td>\n",
       "    </tr>\n",
       "    <tr>\n",
       "      <th>49</th>\n",
       "      <td>rZIMlQ76I0mXL8uNii_wVg</td>\n",
       "      <td>atera-new-york</td>\n",
       "      <td>Atera</td>\n",
       "      <td>https://s3-media3.fl.yelpcdn.com/bphoto/_Y2pcO...</td>\n",
       "      <td>False</td>\n",
       "      <td>https://www.yelp.com/biz/atera-new-york?adjust...</td>\n",
       "      <td>333</td>\n",
       "      <td>[{'alias': 'newamerican', 'title': 'American (...</td>\n",
       "      <td>4.5</td>\n",
       "      <td>{'latitude': 40.71694, 'longitude': -74.0057}</td>\n",
       "      <td>[pickup]</td>\n",
       "      <td>$$$$</td>\n",
       "      <td>{'address1': '77 Worth St', 'address2': '', 'a...</td>\n",
       "      <td>+12122261444</td>\n",
       "      <td>(212) 226-1444</td>\n",
       "      <td>3165.101049</td>\n",
       "    </tr>\n",
       "  </tbody>\n",
       "</table>\n",
       "</div>"
      ],
      "text/plain": [
       "                        id                 alias         name  \\\n",
       "48  dMhRafXdr765DHe0k-QfaQ  abc-kitchen-new-york  ABC Kitchen   \n",
       "49  rZIMlQ76I0mXL8uNii_wVg        atera-new-york        Atera   \n",
       "\n",
       "                                            image_url  is_closed  \\\n",
       "48  https://s3-media2.fl.yelpcdn.com/bphoto/tFmGNU...      False   \n",
       "49  https://s3-media3.fl.yelpcdn.com/bphoto/_Y2pcO...      False   \n",
       "\n",
       "                                                  url  review_count  \\\n",
       "48  https://www.yelp.com/biz/abc-kitchen-new-york?...          3191   \n",
       "49  https://www.yelp.com/biz/atera-new-york?adjust...           333   \n",
       "\n",
       "                                           categories  rating  \\\n",
       "48  [{'alias': 'breakfast_brunch', 'title': 'Break...     4.0   \n",
       "49  [{'alias': 'newamerican', 'title': 'American (...     4.5   \n",
       "\n",
       "                                          coordinates transactions price  \\\n",
       "48  {'latitude': 40.7377500834, 'longitude': -73.9...   [delivery]   $$$   \n",
       "49      {'latitude': 40.71694, 'longitude': -74.0057}     [pickup]  $$$$   \n",
       "\n",
       "                                             location         phone  \\\n",
       "48  {'address1': '35 E 18th St', 'address2': '', '...  +12124755829   \n",
       "49  {'address1': '77 Worth St', 'address2': '', 'a...  +12122261444   \n",
       "\n",
       "     display_phone     distance  \n",
       "48  (212) 475-5829  4637.135949  \n",
       "49  (212) 226-1444  3165.101049  "
      ]
     },
     "execution_count": 9,
     "metadata": {},
     "output_type": "execute_result"
    }
   ],
   "source": [
    "#check and see how the duplicates looks like\n",
    "duplicate_rows = df[df['id'].duplicated(keep=False)]\n",
    "duplicate_rows.head(2)"
   ]
  },
  {
   "cell_type": "code",
   "execution_count": 10,
   "id": "d712ea71",
   "metadata": {},
   "outputs": [],
   "source": [
    "#clean the duplicates\n",
    "cleaned_df = df.drop_duplicates(subset='id', keep='first')"
   ]
  },
  {
   "cell_type": "code",
   "execution_count": 11,
   "id": "e5b749c7",
   "metadata": {},
   "outputs": [
    {
     "name": "stdout",
     "output_type": "stream",
     "text": [
      "                         id                                        alias  \\\n",
      "0    nRO136GRieGtxz18uD61DA                 eleven-madison-park-new-york   \n",
      "1    SaYTVG7wHCMDBofHCgXPaA                       dutch-freds-new-york-2   \n",
      "2    zj8Lq1T8KIC5zwFief15jg               prince-street-pizza-new-york-2   \n",
      "3    ryvBsB9FrBBZDak87iGS1w                      sea-fire-grill-new-york   \n",
      "4    fX_E2J6LqK6u77zNa8xyJQ                                 jua-new-york   \n",
      "..                      ...                                          ...   \n",
      "995  G2PCaDt_VC4O4w6uRMpE9A                          birria-les-new-york   \n",
      "996  unjqnjSjpdGyP2Gqg0qJVA  marcellino-tratoria-and-pizzeria-new-york-2   \n",
      "997  n-59KQvfQhURg6WBqxXEQw                          grand-army-brooklyn   \n",
      "998  q1LnBYGiClubZ56H_-VnRQ                         tokyo-sushi-new-york   \n",
      "999  -p7dvuKa91_4B-aiFIFB8Q                     ten-degrees-bar-new-york   \n",
      "\n",
      "                               name  \\\n",
      "0               Eleven Madison Park   \n",
      "1                       Dutch Freds   \n",
      "2               Prince Street Pizza   \n",
      "3                    Sea Fire Grill   \n",
      "4                               JUA   \n",
      "..                              ...   \n",
      "995                      Birria LES   \n",
      "996  marcellino tratoria & pizzeria   \n",
      "997                      Grand Army   \n",
      "998                     Tokyo Sushi   \n",
      "999                 Ten Degrees Bar   \n",
      "\n",
      "                                             image_url  is_closed  \\\n",
      "0    https://s3-media1.fl.yelpcdn.com/bphoto/s_H7gm...      False   \n",
      "1    https://s3-media2.fl.yelpcdn.com/bphoto/312T_G...      False   \n",
      "2    https://s3-media4.fl.yelpcdn.com/bphoto/PfI8oV...      False   \n",
      "3    https://s3-media3.fl.yelpcdn.com/bphoto/exMqPo...      False   \n",
      "4    https://s3-media2.fl.yelpcdn.com/bphoto/0uPI4v...      False   \n",
      "..                                                 ...        ...   \n",
      "995  https://s3-media4.fl.yelpcdn.com/bphoto/ShsfAr...      False   \n",
      "996  https://s3-media2.fl.yelpcdn.com/bphoto/A8Uo3C...      False   \n",
      "997  https://s3-media1.fl.yelpcdn.com/bphoto/_dTm_u...      False   \n",
      "998  https://s3-media1.fl.yelpcdn.com/bphoto/Yje7K9...      False   \n",
      "999  https://s3-media3.fl.yelpcdn.com/bphoto/Sf6yrc...      False   \n",
      "\n",
      "                                                   url  review_count  \\\n",
      "0    https://www.yelp.com/biz/eleven-madison-park-n...          2451   \n",
      "1    https://www.yelp.com/biz/dutch-freds-new-york-...          2039   \n",
      "2    https://www.yelp.com/biz/prince-street-pizza-n...          5070   \n",
      "3    https://www.yelp.com/biz/sea-fire-grill-new-yo...          1531   \n",
      "4    https://www.yelp.com/biz/jua-new-york?adjust_c...           337   \n",
      "..                                                 ...           ...   \n",
      "995  https://www.yelp.com/biz/birria-les-new-york?a...           136   \n",
      "996  https://www.yelp.com/biz/marcellino-tratoria-a...           174   \n",
      "997  https://www.yelp.com/biz/grand-army-brooklyn?a...           227   \n",
      "998  https://www.yelp.com/biz/tokyo-sushi-new-york?...            28   \n",
      "999  https://www.yelp.com/biz/ten-degrees-bar-new-y...           853   \n",
      "\n",
      "                                            categories  rating  \\\n",
      "0    [{'alias': 'newamerican', 'title': 'American (...     4.5   \n",
      "1    [{'alias': 'cocktailbars', 'title': 'Cocktail ...     4.5   \n",
      "2    [{'alias': 'pizza', 'title': 'Pizza'}, {'alias...     4.5   \n",
      "3    [{'alias': 'seafood', 'title': 'Seafood'}, {'a...     4.5   \n",
      "4             [{'alias': 'korean', 'title': 'Korean'}]     4.5   \n",
      "..                                                 ...     ...   \n",
      "995  [{'alias': 'halal', 'title': 'Halal'}, {'alias...     4.0   \n",
      "996  [{'alias': 'pizza', 'title': 'Pizza'}, {'alias...     4.0   \n",
      "997  [{'alias': 'seafood', 'title': 'Seafood'}, {'a...     3.5   \n",
      "998        [{'alias': 'sushi', 'title': 'Sushi Bars'}]     5.0   \n",
      "999  [{'alias': 'gastropubs', 'title': 'Gastropubs'...     4.0   \n",
      "\n",
      "                                           coordinates        transactions  \\\n",
      "0    {'latitude': 40.7416907417, 'longitude': -73.9...                  []   \n",
      "1     {'latitude': 40.760835, 'longitude': -73.987823}  [delivery, pickup]   \n",
      "2    {'latitude': 40.7230875561, 'longitude': -73.9...  [delivery, pickup]   \n",
      "3    {'latitude': 40.754704598800004, 'longitude': ...  [delivery, pickup]   \n",
      "4     {'latitude': 40.739694, 'longitude': -73.987832}  [delivery, pickup]   \n",
      "..                                                 ...                 ...   \n",
      "995  {'latitude': 40.7196288494, 'longitude': -73.9...                  []   \n",
      "996     {'latitude': 40.72066, 'longitude': -73.99666}  [pickup, delivery]   \n",
      "997   {'latitude': 40.688182, 'longitude': -73.986572}                  []   \n",
      "998   {'latitude': 40.719135, 'longitude': -73.985747}  [pickup, delivery]   \n",
      "999     {'latitude': 40.72692, 'longitude': -73.98342}                  []   \n",
      "\n",
      "    price                                           location         phone  \\\n",
      "0    $$$$  {'address1': '11 Madison Ave', 'address2': '',...  +12128890905   \n",
      "1      $$  {'address1': '307 W 47th St', 'address2': None...  +16469186923   \n",
      "2       $  {'address1': '27 Prince St', 'address2': None,...  +12129664100   \n",
      "3     $$$  {'address1': '158 E 48th St', 'address2': None...  +12129353785   \n",
      "4    $$$$  {'address1': '36 E 22nd St', 'address2': None,...                 \n",
      "..    ...                                                ...           ...   \n",
      "995    $$  {'address1': '127 Rivington St', 'address2': '...  +16467897777   \n",
      "996    $$  {'address1': '178 Mulberry St', 'address2': No...  +16469984576   \n",
      "997    $$  {'address1': '336 State St', 'address2': '', '...  +17186431503   \n",
      "998  None  {'address1': '151 Rivington St', 'address2': '...  +16468820152   \n",
      "999    $$  {'address1': '121 St Marks Pl', 'address2': No...  +12123588600   \n",
      "\n",
      "      display_phone     distance  \n",
      "0    (212) 889-0905  5035.227660  \n",
      "1    (646) 918-6923  7154.324281  \n",
      "2    (212) 966-4100  3200.889160  \n",
      "3    (212) 935-3785  6458.317923  \n",
      "4                    4821.847928  \n",
      "..              ...          ...  \n",
      "995  (646) 789-7777  2625.843042  \n",
      "996  (646) 998-4576  3040.272876  \n",
      "997  (718) 643-1503  1153.932335  \n",
      "998  (646) 882-0152  2544.569301  \n",
      "999  (212) 358-8600  3369.293613  \n",
      "\n",
      "[910 rows x 16 columns]\n"
     ]
    }
   ],
   "source": [
    "print(cleaned_df)"
   ]
  },
  {
   "cell_type": "code",
   "execution_count": 12,
   "id": "bf7d05f9",
   "metadata": {},
   "outputs": [
    {
     "name": "stdout",
     "output_type": "stream",
     "text": [
      "910\n"
     ]
    }
   ],
   "source": [
    "#check how many lines in the cleaned datasets\n",
    "print(len(cleaned_df))"
   ]
  },
  {
   "cell_type": "code",
   "execution_count": 13,
   "id": "eb606bff",
   "metadata": {
    "scrolled": true
   },
   "outputs": [
    {
     "name": "stdout",
     "output_type": "stream",
     "text": [
      "[{'alias': 'cocktailbars', 'title': 'Cocktail Bars'}, {'alias': 'newamerican', 'title': 'American (New)'}]\n"
     ]
    }
   ],
   "source": [
    "#see the format of 'categories'\n",
    "print(cleaned_df['categories'].iloc[900])"
   ]
  },
  {
   "cell_type": "code",
   "execution_count": 14,
   "id": "1d5ec044",
   "metadata": {
    "scrolled": true
   },
   "outputs": [
    {
     "name": "stdout",
     "output_type": "stream",
     "text": [
      "['Jazz & Blues', 'Comedy Clubs', 'Desserts', 'American (New)', 'Cinema', 'Train Stations', 'Irish Pub', 'Shanghainese', 'Persian/Iranian', 'Latin American', 'Cocktail Bars', 'Austrian', 'Malaysian', 'Hot Dogs', 'Russian', 'Gluten-Free', 'Tacos', 'Gay Bars', 'Noodles', 'Gastropubs', 'Tea Rooms', 'Thai', 'Parks', 'Cupcakes', 'Chinese', 'Dinner Theater', 'Filipino', 'Floral Designers', 'Seafood', 'Indonesian', 'Diners', 'Donuts', 'Spanish', 'Irish', 'Tapas/Small Plates', 'Beer, Wine & Spirits', 'Lebanese', 'Performing Arts', 'Peruvian', 'Coffee & Tea', 'Museums', 'Halal', 'German', 'Music Venues', 'Japanese Curry', 'Mini Golf', 'Juice Bars & Smoothies', 'Taiwanese', 'Beer Gardens', 'Tuscan', 'Tiki Bars', 'Fast Food', 'Hookah Bars', 'Bakeries', 'Art Museums', 'Tapas Bars', 'Whiskey Bars', 'Mediterranean', 'New Mexican Cuisine', 'Soup', 'Party & Event Planning', 'Scandinavian', 'Piadina', 'Caribbean', 'Sushi Bars', 'Breakfast & Brunch', 'Italian', 'Kosher', 'Australian', 'Pubs', 'Food Trucks', 'Bars', 'Korean', 'Modern European', 'Vegan', 'Sports Clubs', 'Hawaiian', 'Bagels', 'Brasseries', 'Landmarks & Historical Buildings', 'Sandwiches', 'Georgian', 'Food Tours', 'Piano Bars', 'Hot Pot', 'Seafood Markets', 'Coffee Roasteries', 'Festivals', 'Breweries', 'Chicken Shop', 'Poke', 'Shaved Ice', 'Lounges', 'South African', 'Karaoke', 'Distilleries', 'Beer Bar', 'Patisserie/Cake Shop', 'Cuban', 'Southern', 'Comfort Food', 'Soul Food', 'Ice Cream & Frozen Yogurt', 'Steakhouses', 'Middle Eastern', 'Observatories', 'Caterers', 'African', 'Argentine', 'American (Traditional)', 'Shared Office Spaces', 'Bubble Tea', 'Cafes', 'Street Vendors', 'Acai Bowls', 'Bookstores', 'Macarons', 'Speakeasies', 'Food Court', 'Vegetarian', 'Sports Bars', 'Falafel', 'Hungarian', 'Axe Throwing', 'Cajun/Creole', 'Buffets', 'Pan Asian', 'Burgers', 'Japanese', 'Izakaya', 'Bangladeshi', 'Polish', 'Custom Cakes', 'Live/Raw Food', 'Cambodian', 'Indian', 'Chicken Wings', 'Greek', 'Turkish', 'Mexican', 'Delis', 'Brewpubs', 'Meat Shops', 'Waffles', 'French', 'Pasta Shops', 'Empanadas', 'Venezuelan', 'Kebab', 'Barbeque', 'Walking Tours', 'Food Delivery Services', 'Basque', 'Portuguese', 'Specialty Food', 'Salad', 'Florists', 'Wine Bars', 'Food Stands', 'Ramen', 'Asian Fusion', 'Ethiopian', 'Venues & Event Spaces', 'Cantonese', 'Brazilian', 'Szechuan', 'Pizza', 'Dim Sum', 'Vietnamese', 'British', 'Creperies']\n"
     ]
    }
   ],
   "source": [
    "# Extract all unique categories\n",
    "unique_categories = set()\n",
    "cleaned_df['categories'].apply(lambda x: [unique_categories.add(item['title']) for item in x])\n",
    "\n",
    "# Print the list of unique categories\n",
    "print(list(unique_categories))"
   ]
  },
  {
   "cell_type": "code",
   "execution_count": 15,
   "id": "7dbfc423",
   "metadata": {},
   "outputs": [
    {
     "name": "stdout",
     "output_type": "stream",
     "text": [
      "293\n"
     ]
    }
   ],
   "source": [
    "#filter places with keywords related to Asian cuisines \n",
    "SEA_keywords = [kw.lower() for kw in [\n",
    "    'Bubble Tea', 'Hot pot', 'Indian', 'Malaysian', 'Korean',\n",
    "    'Chinese', 'Vietnamese', 'Hong Kong Style Cafe', 'Filipino', 'Sri Lankan',\n",
    "    'Taiwanese', 'Japanese Curry', 'Pan Asian', 'Shanghainese', 'Cantonese',\n",
    "    'Asian Fusion', 'Uzbek', 'Himalayan/Nepalese', 'Szechuan', 'Izakaya',\n",
    "    'Japanese', 'Indonesian', 'Thai', 'Ramen', 'Dim Sum', 'Sushi Bars',\n",
    "    'Middle Eastern', 'Lebanese', 'Kebab'\n",
    "]]\n",
    "\n",
    "def has_SEA_category(categories_list):\n",
    "    for category in categories_list:\n",
    "        if category['alias'].lower() in SEA_keywords or category['title'].lower() in SEA_keywords:\n",
    "            return True\n",
    "    return False\n",
    "\n",
    "SEA_df = cleaned_df[cleaned_df['categories'].apply(has_SEA_category)]\n",
    "print(len(SEA_df))\n"
   ]
  },
  {
   "cell_type": "code",
   "execution_count": 16,
   "id": "061fa951",
   "metadata": {},
   "outputs": [
    {
     "data": {
      "image/png": "[encoded data removed]",
      "text/plain": [
       "<Figure size 640x480 with 1 Axes>"
      ]
     },
     "metadata": {},
     "output_type": "display_data"
    }
   ],
   "source": [
    "#compare review count for Asian places v overall dataset\n",
    "import matplotlib.pyplot as plt\n",
    "\n",
    "# Calculate medians\n",
    "median_cleaned = cleaned_df['review_count'].median()\n",
    "median_SEA = SEA_df['review_count'].median()\n",
    "\n",
    "# Data for plotting\n",
    "labels = ['cleaned_df', 'SEA_df']\n",
    "medians = [median_cleaned, median_SEA]\n",
    "\n",
    "# Create bar chart\n",
    "plt.bar(labels, medians, color=['blue', 'green'])\n",
    "plt.ylabel('Median Review Count')\n",
    "plt.title('Median Review Count Comparison')\n",
    "plt.show()"
   ]
  },
  {
   "cell_type": "code",
   "execution_count": 17,
   "id": "c8cce6c2",
   "metadata": {},
   "outputs": [
    {
     "name": "stdout",
     "output_type": "stream",
     "text": [
      "246\n"
     ]
    }
   ],
   "source": [
    "#as some of the price indicators are listed as 'None' it will be hard for us to analyse correlation\n",
    "#therefore, I decided to put the mode price value into places with 'None'\n",
    "\n",
    "import pandas as pd\n",
    "import numpy as np\n",
    "\n",
    "# Work on a copy of the slice\n",
    "SEA_df_copy = SEA_df.copy()\n",
    "\n",
    "# Replace 'None' with NaN\n",
    "SEA_df_copy['price'].replace('None', np.nan, inplace=True)\n",
    "\n",
    "# Drop rows where 'price' column has NaN values\n",
    "SEA_df_copy.dropna(subset=['price'], inplace=True)\n",
    "\n",
    "# Overwrite SEA_df\n",
    "SEA_df2 = SEA_df_copy\n",
    "\n",
    "print (len(SEA_df2))"
   ]
  },
  {
   "cell_type": "code",
   "execution_count": 21,
   "id": "1ab6625c",
   "metadata": {
    "scrolled": true
   },
   "outputs": [
    {
     "name": "stdout",
     "output_type": "stream",
     "text": [
      "Coefficient for Price: 0.07078640074403221\n",
      "P-value for Price: 0.0017550712147378909\n",
      "R-squared: 0.03940567615575985\n"
     ]
    }
   ],
   "source": [
    "# calculate statistic correlation between price and rating\n",
    "import pandas as pd\n",
    "import statsmodels.api as sm\n",
    "\n",
    "# Convert the 'price' column from symbols to numbers\n",
    "price_mapping = {'$': 1, '$$': 2, '$$$': 3, '$$$$': 4}\n",
    "SEA_df2['numerical_price'] = SEA_df2['price'].map(price_mapping)\n",
    "\n",
    "# Prepare the independent variable (Price)\n",
    "X = SEA_df2['numerical_price']\n",
    "X = sm.add_constant(X)  \n",
    "\n",
    "# Dependent variable (Rating)\n",
    "y = SEA_df2['rating']\n",
    "\n",
    "# Perform linear regression\n",
    "model = sm.OLS(y, X).fit()\n",
    "\n",
    "# Display the desired results\n",
    "print(\"Coefficient for Price:\", model.params['numerical_price'])\n",
    "print(\"P-value for Price:\", model.pvalues['numerical_price'])\n",
    "print(\"R-squared:\", model.rsquared)"
   ]
  },
  {
   "cell_type": "code",
   "execution_count": 23,
   "id": "586b1020",
   "metadata": {},
   "outputs": [
    {
     "data": {
      "text/html": [
       "<div>\n",
       "<style scoped>\n",
       "    .dataframe tbody tr th:only-of-type {\n",
       "        vertical-align: middle;\n",
       "    }\n",
       "\n",
       "    .dataframe tbody tr th {\n",
       "        vertical-align: top;\n",
       "    }\n",
       "\n",
       "    .dataframe thead th {\n",
       "        text-align: right;\n",
       "    }\n",
       "</style>\n",
       "<table border=\"1\" class=\"dataframe\">\n",
       "  <thead>\n",
       "    <tr style=\"text-align: right;\">\n",
       "      <th></th>\n",
       "      <th>id</th>\n",
       "      <th>alias</th>\n",
       "      <th>name</th>\n",
       "      <th>image_url</th>\n",
       "      <th>is_closed</th>\n",
       "      <th>url</th>\n",
       "      <th>review_count</th>\n",
       "      <th>categories</th>\n",
       "      <th>rating</th>\n",
       "      <th>coordinates</th>\n",
       "      <th>transactions</th>\n",
       "      <th>price</th>\n",
       "      <th>location</th>\n",
       "      <th>phone</th>\n",
       "      <th>display_phone</th>\n",
       "      <th>distance</th>\n",
       "      <th>numerical_price</th>\n",
       "      <th>price_rank</th>\n",
       "    </tr>\n",
       "  </thead>\n",
       "  <tbody>\n",
       "    <tr>\n",
       "      <th>4</th>\n",
       "      <td>fX_E2J6LqK6u77zNa8xyJQ</td>\n",
       "      <td>jua-new-york</td>\n",
       "      <td>JUA</td>\n",
       "      <td>https://s3-media2.fl.yelpcdn.com/bphoto/0uPI4v...</td>\n",
       "      <td>False</td>\n",
       "      <td>https://www.yelp.com/biz/jua-new-york?adjust_c...</td>\n",
       "      <td>337</td>\n",
       "      <td>[{'alias': 'korean', 'title': 'Korean'}]</td>\n",
       "      <td>4.5</td>\n",
       "      <td>{'latitude': 40.739694, 'longitude': -73.987832}</td>\n",
       "      <td>[delivery, pickup]</td>\n",
       "      <td>$$$$</td>\n",
       "      <td>{'address1': '36 E 22nd St', 'address2': None,...</td>\n",
       "      <td></td>\n",
       "      <td></td>\n",
       "      <td>4821.847928</td>\n",
       "      <td>4</td>\n",
       "      <td>4</td>\n",
       "    </tr>\n",
       "    <tr>\n",
       "      <th>7</th>\n",
       "      <td>-Q8MYIWoE4EsGQtudIOY0w</td>\n",
       "      <td>bua-thai-ramen-and-robata-grill-new-york</td>\n",
       "      <td>Bua Thai Ramen &amp; Robata Grill</td>\n",
       "      <td>https://s3-media3.fl.yelpcdn.com/bphoto/STPkeC...</td>\n",
       "      <td>False</td>\n",
       "      <td>https://www.yelp.com/biz/bua-thai-ramen-and-ro...</td>\n",
       "      <td>2397</td>\n",
       "      <td>[{'alias': 'thai', 'title': 'Thai'}, {'alias':...</td>\n",
       "      <td>4.5</td>\n",
       "      <td>{'latitude': 40.7763615, 'longitude': -73.95308}</td>\n",
       "      <td>[delivery, pickup, restaurant_reservation]</td>\n",
       "      <td>$$</td>\n",
       "      <td>{'address1': '1611 2nd Ave', 'address2': None,...</td>\n",
       "      <td>+12128797999</td>\n",
       "      <td>(212) 879-7999</td>\n",
       "      <td>9105.865768</td>\n",
       "      <td>2</td>\n",
       "      <td>2</td>\n",
       "    </tr>\n",
       "  </tbody>\n",
       "</table>\n",
       "</div>"
      ],
      "text/plain": [
       "                       id                                     alias  \\\n",
       "4  fX_E2J6LqK6u77zNa8xyJQ                              jua-new-york   \n",
       "7  -Q8MYIWoE4EsGQtudIOY0w  bua-thai-ramen-and-robata-grill-new-york   \n",
       "\n",
       "                            name  \\\n",
       "4                            JUA   \n",
       "7  Bua Thai Ramen & Robata Grill   \n",
       "\n",
       "                                           image_url  is_closed  \\\n",
       "4  https://s3-media2.fl.yelpcdn.com/bphoto/0uPI4v...      False   \n",
       "7  https://s3-media3.fl.yelpcdn.com/bphoto/STPkeC...      False   \n",
       "\n",
       "                                                 url  review_count  \\\n",
       "4  https://www.yelp.com/biz/jua-new-york?adjust_c...           337   \n",
       "7  https://www.yelp.com/biz/bua-thai-ramen-and-ro...          2397   \n",
       "\n",
       "                                          categories  rating  \\\n",
       "4           [{'alias': 'korean', 'title': 'Korean'}]     4.5   \n",
       "7  [{'alias': 'thai', 'title': 'Thai'}, {'alias':...     4.5   \n",
       "\n",
       "                                        coordinates  \\\n",
       "4  {'latitude': 40.739694, 'longitude': -73.987832}   \n",
       "7  {'latitude': 40.7763615, 'longitude': -73.95308}   \n",
       "\n",
       "                                 transactions price  \\\n",
       "4                          [delivery, pickup]  $$$$   \n",
       "7  [delivery, pickup, restaurant_reservation]    $$   \n",
       "\n",
       "                                            location         phone  \\\n",
       "4  {'address1': '36 E 22nd St', 'address2': None,...                 \n",
       "7  {'address1': '1611 2nd Ave', 'address2': None,...  +12128797999   \n",
       "\n",
       "    display_phone     distance  numerical_price  price_rank  \n",
       "4                  4821.847928                4           4  \n",
       "7  (212) 879-7999  9105.865768                2           2  "
      ]
     },
     "execution_count": 23,
     "metadata": {},
     "output_type": "execute_result"
    }
   ],
   "source": [
    "# create new column with the value of numerical price rank\n",
    "SEA_df2['price_rank'] = SEA_df2['price'].map({'$': 1, '$$': 2, '$$$': 3, '$$$$': 4})\n",
    "\n",
    "# Check the first few rows to confirm the new column has been added correctly\n",
    "SEA_df2.head(2)"
   ]
  },
  {
   "cell_type": "code",
   "execution_count": 25,
   "id": "09e74c15",
   "metadata": {
    "scrolled": true
   },
   "outputs": [
    {
     "data": {
      "image/png": "[encoded data removed]",
      "text/plain": [
       "<Figure size 1000x600 with 1 Axes>"
      ]
     },
     "metadata": {},
     "output_type": "display_data"
    }
   ],
   "source": [
    "# Create the regression plot\n",
    "import seaborn as sns\n",
    "import matplotlib.pyplot as plt\n",
    "\n",
    "plt.figure(figsize=(10, 6))\n",
    "sns.regplot(x='price_rank', y='rating', data=SEA_df2, scatter_kws={'s':50, 'alpha':0.3}, line_kws={'color':'red'})\n",
    "\n",
    "plt.title('Regression Plot of Price vs. Rating')\n",
    "plt.xlabel('Price Rank')\n",
    "plt.ylabel('Rating')\n",
    "plt.xticks(ticks=[1, 2, 3, 4], labels=['\\$','\\$\\$', '\\$\\$\\$', '\\$\\$\\$\\$'])  # Simplified labels for x axis\n",
    "plt.grid(True)\n",
    "plt.show()"
   ]
  },
  {
   "cell_type": "code",
   "execution_count": 26,
   "id": "099a2dc0",
   "metadata": {},
   "outputs": [
    {
     "data": {
      "image/png": "[encoded data removed]",
      "text/plain": [
       "<Figure size 1400x700 with 1 Axes>"
      ]
     },
     "metadata": {},
     "output_type": "display_data"
    }
   ],
   "source": [
    "# creating a barchart for the number of restaurants per rating for every price rank\n",
    "import seaborn as sns\n",
    "import matplotlib.pyplot as plt\n",
    "\n",
    "plt.figure(figsize=(14, 7))\n",
    "ax = sns.countplot(data=SEA_df2, x='rating', hue='price_rank', palette=\"viridis\")\n",
    "\n",
    "plt.title('Distribution of Ratings by Price Rank')\n",
    "plt.xlabel('Rating')\n",
    "plt.ylabel('Number of Restaurants')\n",
    "plt.legend(title='Price Rank', labels=['\\$','\\$\\$', '\\$\\$\\$', '\\$\\$\\$\\$'])\n",
    "\n",
    "# Annotating the count on top of each bar for easier read\n",
    "for p in ax.patches:\n",
    "    ax.annotate(f'{int(p.get_height())}', (p.get_x() + p.get_width() / 2., p.get_height()),\n",
    "                ha='center', va='center', xytext=(0, 10), textcoords='offset points')\n",
    "\n",
    "plt.grid(True, which='both', axis='y')\n",
    "plt.tight_layout()\n",
    "plt.show()"
   ]
  },
  {
   "cell_type": "code",
   "execution_count": 39,
   "id": "6a1c756e",
   "metadata": {},
   "outputs": [
    {
     "name": "stdout",
     "output_type": "stream",
     "text": [
      "{'latitude': 40.76435, 'longitude': -73.97904}\n"
     ]
    }
   ],
   "source": [
    "#see the format of 'coordinates'\n",
    "print(SEA_df2['coordinates'].iloc[200])"
   ]
  },
  {
   "cell_type": "code",
   "execution_count": 40,
   "id": "f100b8c0",
   "metadata": {},
   "outputs": [],
   "source": [
    "SEA_df3 = SEA_df2.copy()"
   ]
  },
  {
   "cell_type": "code",
   "execution_count": 54,
   "id": "d1b800a8",
   "metadata": {
    "scrolled": true
   },
   "outputs": [
    {
     "data": {
      "text/html": [
       "<div>\n",
       "<style scoped>\n",
       "    .dataframe tbody tr th:only-of-type {\n",
       "        vertical-align: middle;\n",
       "    }\n",
       "\n",
       "    .dataframe tbody tr th {\n",
       "        vertical-align: top;\n",
       "    }\n",
       "\n",
       "    .dataframe thead th {\n",
       "        text-align: right;\n",
       "    }\n",
       "</style>\n",
       "<table border=\"1\" class=\"dataframe\">\n",
       "  <thead>\n",
       "    <tr style=\"text-align: right;\">\n",
       "      <th></th>\n",
       "      <th>id</th>\n",
       "      <th>alias</th>\n",
       "      <th>name</th>\n",
       "      <th>image_url</th>\n",
       "      <th>is_closed</th>\n",
       "      <th>url</th>\n",
       "      <th>review_count</th>\n",
       "      <th>categories</th>\n",
       "      <th>rating</th>\n",
       "      <th>coordinates</th>\n",
       "      <th>...</th>\n",
       "      <th>location</th>\n",
       "      <th>phone</th>\n",
       "      <th>display_phone</th>\n",
       "      <th>distance</th>\n",
       "      <th>numerical_price</th>\n",
       "      <th>price_rank</th>\n",
       "      <th>lat</th>\n",
       "      <th>long</th>\n",
       "      <th>POINTS</th>\n",
       "      <th>geometry</th>\n",
       "    </tr>\n",
       "  </thead>\n",
       "  <tbody>\n",
       "    <tr>\n",
       "      <th>4</th>\n",
       "      <td>fX_E2J6LqK6u77zNa8xyJQ</td>\n",
       "      <td>jua-new-york</td>\n",
       "      <td>JUA</td>\n",
       "      <td>https://s3-media2.fl.yelpcdn.com/bphoto/0uPI4v...</td>\n",
       "      <td>False</td>\n",
       "      <td>https://www.yelp.com/biz/jua-new-york?adjust_c...</td>\n",
       "      <td>337</td>\n",
       "      <td>[{'alias': 'korean', 'title': 'Korean'}]</td>\n",
       "      <td>4.5</td>\n",
       "      <td>{'latitude': 40.739694, 'longitude': -73.987832}</td>\n",
       "      <td>...</td>\n",
       "      <td>{'address1': '36 E 22nd St', 'address2': None,...</td>\n",
       "      <td></td>\n",
       "      <td></td>\n",
       "      <td>4821.847928</td>\n",
       "      <td>4</td>\n",
       "      <td>4</td>\n",
       "      <td>40.739694</td>\n",
       "      <td>-73.987832</td>\n",
       "      <td>POINT (-73.987832 40.739694)</td>\n",
       "      <td>POINT (-73.987832 40.739694)</td>\n",
       "    </tr>\n",
       "    <tr>\n",
       "      <th>7</th>\n",
       "      <td>-Q8MYIWoE4EsGQtudIOY0w</td>\n",
       "      <td>bua-thai-ramen-and-robata-grill-new-york</td>\n",
       "      <td>Bua Thai Ramen &amp; Robata Grill</td>\n",
       "      <td>https://s3-media3.fl.yelpcdn.com/bphoto/STPkeC...</td>\n",
       "      <td>False</td>\n",
       "      <td>https://www.yelp.com/biz/bua-thai-ramen-and-ro...</td>\n",
       "      <td>2397</td>\n",
       "      <td>[{'alias': 'thai', 'title': 'Thai'}, {'alias':...</td>\n",
       "      <td>4.5</td>\n",
       "      <td>{'latitude': 40.7763615, 'longitude': -73.95308}</td>\n",
       "      <td>...</td>\n",
       "      <td>{'address1': '1611 2nd Ave', 'address2': None,...</td>\n",
       "      <td>+12128797999</td>\n",
       "      <td>(212) 879-7999</td>\n",
       "      <td>9105.865768</td>\n",
       "      <td>2</td>\n",
       "      <td>2</td>\n",
       "      <td>40.776362</td>\n",
       "      <td>-73.953080</td>\n",
       "      <td>POINT (-73.95308 40.7763615)</td>\n",
       "      <td>POINT (-73.95308 40.7763615)</td>\n",
       "    </tr>\n",
       "  </tbody>\n",
       "</table>\n",
       "<p>2 rows × 22 columns</p>\n",
       "</div>"
      ],
      "text/plain": [
       "                       id                                     alias  \\\n",
       "4  fX_E2J6LqK6u77zNa8xyJQ                              jua-new-york   \n",
       "7  -Q8MYIWoE4EsGQtudIOY0w  bua-thai-ramen-and-robata-grill-new-york   \n",
       "\n",
       "                            name  \\\n",
       "4                            JUA   \n",
       "7  Bua Thai Ramen & Robata Grill   \n",
       "\n",
       "                                           image_url  is_closed  \\\n",
       "4  https://s3-media2.fl.yelpcdn.com/bphoto/0uPI4v...      False   \n",
       "7  https://s3-media3.fl.yelpcdn.com/bphoto/STPkeC...      False   \n",
       "\n",
       "                                                 url  review_count  \\\n",
       "4  https://www.yelp.com/biz/jua-new-york?adjust_c...           337   \n",
       "7  https://www.yelp.com/biz/bua-thai-ramen-and-ro...          2397   \n",
       "\n",
       "                                          categories  rating  \\\n",
       "4           [{'alias': 'korean', 'title': 'Korean'}]     4.5   \n",
       "7  [{'alias': 'thai', 'title': 'Thai'}, {'alias':...     4.5   \n",
       "\n",
       "                                        coordinates  ...  \\\n",
       "4  {'latitude': 40.739694, 'longitude': -73.987832}  ...   \n",
       "7  {'latitude': 40.7763615, 'longitude': -73.95308}  ...   \n",
       "\n",
       "                                            location         phone  \\\n",
       "4  {'address1': '36 E 22nd St', 'address2': None,...                 \n",
       "7  {'address1': '1611 2nd Ave', 'address2': None,...  +12128797999   \n",
       "\n",
       "    display_phone     distance numerical_price  price_rank        lat  \\\n",
       "4                  4821.847928               4           4  40.739694   \n",
       "7  (212) 879-7999  9105.865768               2           2  40.776362   \n",
       "\n",
       "        long                        POINTS                      geometry  \n",
       "4 -73.987832  POINT (-73.987832 40.739694)  POINT (-73.987832 40.739694)  \n",
       "7 -73.953080  POINT (-73.95308 40.7763615)  POINT (-73.95308 40.7763615)  \n",
       "\n",
       "[2 rows x 22 columns]"
      ]
     },
     "execution_count": 54,
     "metadata": {},
     "output_type": "execute_result"
    }
   ],
   "source": [
    "# Extracting latitude and longitude from 'coordinates' column\n",
    "SEA_df3['lat'] = SEA_df3['coordinates'].apply(lambda x: x['latitude'])\n",
    "SEA_df3['long'] = SEA_df3['coordinates'].apply(lambda x: x['longitude'])\n",
    "\n",
    "SEA_df3.head(2)"
   ]
  },
  {
   "cell_type": "code",
   "execution_count": 55,
   "id": "e606eb75",
   "metadata": {
    "scrolled": true
   },
   "outputs": [
    {
     "name": "stdout",
     "output_type": "stream",
     "text": [
      "Defaulting to user installation because normal site-packages is not writeable\n",
      "Requirement already satisfied: geopandas in c:\\users\\catharina\\appdata\\roaming\\python\\python38\\site-packages (0.13.2)\n",
      "Requirement already satisfied: fiona>=1.8.19 in c:\\programdata\\anaconda3\\envs\\myenv\\lib\\site-packages (from geopandas) (1.9.1)\n",
      "Requirement already satisfied: packaging in c:\\programdata\\anaconda3\\envs\\myenv\\lib\\site-packages (from geopandas) (23.1)\n",
      "Requirement already satisfied: pandas>=1.1.0 in c:\\programdata\\anaconda3\\envs\\myenv\\lib\\site-packages (from geopandas) (2.0.3)\n",
      "Requirement already satisfied: pyproj>=3.0.1 in c:\\users\\catharina\\appdata\\roaming\\python\\python38\\site-packages (from geopandas) (3.5.0)\n",
      "Requirement already satisfied: shapely>=1.7.1 in c:\\programdata\\anaconda3\\envs\\myenv\\lib\\site-packages (from geopandas) (2.0.1)\n",
      "Requirement already satisfied: attrs>=19.2.0 in c:\\programdata\\anaconda3\\envs\\myenv\\lib\\site-packages (from fiona>=1.8.19->geopandas) (23.1.0)\n",
      "Requirement already satisfied: certifi in c:\\programdata\\anaconda3\\envs\\myenv\\lib\\site-packages (from fiona>=1.8.19->geopandas) (2023.7.22)\n",
      "Requirement already satisfied: click~=8.0 in c:\\programdata\\anaconda3\\envs\\myenv\\lib\\site-packages (from fiona>=1.8.19->geopandas) (8.0.4)\n",
      "Requirement already satisfied: click-plugins>=1.0 in c:\\programdata\\anaconda3\\envs\\myenv\\lib\\site-packages (from fiona>=1.8.19->geopandas) (1.1.1)\n",
      "Requirement already satisfied: cligj>=0.5 in c:\\programdata\\anaconda3\\envs\\myenv\\lib\\site-packages (from fiona>=1.8.19->geopandas) (0.7.2)\n",
      "Requirement already satisfied: munch>=2.3.2 in c:\\programdata\\anaconda3\\envs\\myenv\\lib\\site-packages (from fiona>=1.8.19->geopandas) (2.5.0)\n",
      "Requirement already satisfied: setuptools in c:\\programdata\\anaconda3\\envs\\myenv\\lib\\site-packages (from fiona>=1.8.19->geopandas) (68.0.0)\n",
      "Requirement already satisfied: python-dateutil>=2.8.2 in c:\\programdata\\anaconda3\\envs\\myenv\\lib\\site-packages (from pandas>=1.1.0->geopandas) (2.8.2)\n",
      "Requirement already satisfied: pytz>=2020.1 in c:\\programdata\\anaconda3\\envs\\myenv\\lib\\site-packages (from pandas>=1.1.0->geopandas) (2023.3.post1)\n",
      "Requirement already satisfied: tzdata>=2022.1 in c:\\programdata\\anaconda3\\envs\\myenv\\lib\\site-packages (from pandas>=1.1.0->geopandas) (2023.3)\n",
      "Requirement already satisfied: numpy>=1.20.3 in c:\\programdata\\anaconda3\\envs\\myenv\\lib\\site-packages (from pandas>=1.1.0->geopandas) (1.24.3)\n",
      "Requirement already satisfied: colorama in c:\\programdata\\anaconda3\\envs\\myenv\\lib\\site-packages (from click~=8.0->fiona>=1.8.19->geopandas) (0.4.6)\n",
      "Requirement already satisfied: six in c:\\programdata\\anaconda3\\envs\\myenv\\lib\\site-packages (from munch>=2.3.2->fiona>=1.8.19->geopandas) (1.16.0)\n"
     ]
    }
   ],
   "source": [
    "!pip install geopandas"
   ]
  },
  {
   "cell_type": "code",
   "execution_count": 56,
   "id": "dd39c253",
   "metadata": {},
   "outputs": [],
   "source": [
    "import geopandas as gpd"
   ]
  },
  {
   "cell_type": "code",
   "execution_count": 57,
   "id": "92cc9c49",
   "metadata": {},
   "outputs": [],
   "source": [
    "#try to make columns of geospatial coordinates\n",
    "from shapely.geometry import Point\n",
    "\n",
    "SEA_df3['POINTS'] = list(zip(SEA_df3.long, SEA_df3.lat))"
   ]
  },
  {
   "cell_type": "code",
   "execution_count": 58,
   "id": "95019d76",
   "metadata": {
    "scrolled": true
   },
   "outputs": [
    {
     "data": {
      "text/html": [
       "<div>\n",
       "<style scoped>\n",
       "    .dataframe tbody tr th:only-of-type {\n",
       "        vertical-align: middle;\n",
       "    }\n",
       "\n",
       "    .dataframe tbody tr th {\n",
       "        vertical-align: top;\n",
       "    }\n",
       "\n",
       "    .dataframe thead th {\n",
       "        text-align: right;\n",
       "    }\n",
       "</style>\n",
       "<table border=\"1\" class=\"dataframe\">\n",
       "  <thead>\n",
       "    <tr style=\"text-align: right;\">\n",
       "      <th></th>\n",
       "      <th>id</th>\n",
       "      <th>alias</th>\n",
       "      <th>name</th>\n",
       "      <th>image_url</th>\n",
       "      <th>is_closed</th>\n",
       "      <th>url</th>\n",
       "      <th>review_count</th>\n",
       "      <th>categories</th>\n",
       "      <th>rating</th>\n",
       "      <th>coordinates</th>\n",
       "      <th>...</th>\n",
       "      <th>location</th>\n",
       "      <th>phone</th>\n",
       "      <th>display_phone</th>\n",
       "      <th>distance</th>\n",
       "      <th>numerical_price</th>\n",
       "      <th>price_rank</th>\n",
       "      <th>lat</th>\n",
       "      <th>long</th>\n",
       "      <th>POINTS</th>\n",
       "      <th>geometry</th>\n",
       "    </tr>\n",
       "  </thead>\n",
       "  <tbody>\n",
       "    <tr>\n",
       "      <th>4</th>\n",
       "      <td>fX_E2J6LqK6u77zNa8xyJQ</td>\n",
       "      <td>jua-new-york</td>\n",
       "      <td>JUA</td>\n",
       "      <td>https://s3-media2.fl.yelpcdn.com/bphoto/0uPI4v...</td>\n",
       "      <td>False</td>\n",
       "      <td>https://www.yelp.com/biz/jua-new-york?adjust_c...</td>\n",
       "      <td>337</td>\n",
       "      <td>[{'alias': 'korean', 'title': 'Korean'}]</td>\n",
       "      <td>4.5</td>\n",
       "      <td>{'latitude': 40.739694, 'longitude': -73.987832}</td>\n",
       "      <td>...</td>\n",
       "      <td>{'address1': '36 E 22nd St', 'address2': None,...</td>\n",
       "      <td></td>\n",
       "      <td></td>\n",
       "      <td>4821.847928</td>\n",
       "      <td>4</td>\n",
       "      <td>4</td>\n",
       "      <td>40.739694</td>\n",
       "      <td>-73.987832</td>\n",
       "      <td>POINT (-73.98783 40.73969)</td>\n",
       "      <td>POINT (-73.98783 40.73969)</td>\n",
       "    </tr>\n",
       "    <tr>\n",
       "      <th>7</th>\n",
       "      <td>-Q8MYIWoE4EsGQtudIOY0w</td>\n",
       "      <td>bua-thai-ramen-and-robata-grill-new-york</td>\n",
       "      <td>Bua Thai Ramen &amp; Robata Grill</td>\n",
       "      <td>https://s3-media3.fl.yelpcdn.com/bphoto/STPkeC...</td>\n",
       "      <td>False</td>\n",
       "      <td>https://www.yelp.com/biz/bua-thai-ramen-and-ro...</td>\n",
       "      <td>2397</td>\n",
       "      <td>[{'alias': 'thai', 'title': 'Thai'}, {'alias':...</td>\n",
       "      <td>4.5</td>\n",
       "      <td>{'latitude': 40.7763615, 'longitude': -73.95308}</td>\n",
       "      <td>...</td>\n",
       "      <td>{'address1': '1611 2nd Ave', 'address2': None,...</td>\n",
       "      <td>+12128797999</td>\n",
       "      <td>(212) 879-7999</td>\n",
       "      <td>9105.865768</td>\n",
       "      <td>2</td>\n",
       "      <td>2</td>\n",
       "      <td>40.776362</td>\n",
       "      <td>-73.953080</td>\n",
       "      <td>POINT (-73.95308 40.77636)</td>\n",
       "      <td>POINT (-73.95308 40.77636)</td>\n",
       "    </tr>\n",
       "  </tbody>\n",
       "</table>\n",
       "<p>2 rows × 22 columns</p>\n",
       "</div>"
      ],
      "text/plain": [
       "                       id                                     alias  \\\n",
       "4  fX_E2J6LqK6u77zNa8xyJQ                              jua-new-york   \n",
       "7  -Q8MYIWoE4EsGQtudIOY0w  bua-thai-ramen-and-robata-grill-new-york   \n",
       "\n",
       "                            name  \\\n",
       "4                            JUA   \n",
       "7  Bua Thai Ramen & Robata Grill   \n",
       "\n",
       "                                           image_url  is_closed  \\\n",
       "4  https://s3-media2.fl.yelpcdn.com/bphoto/0uPI4v...      False   \n",
       "7  https://s3-media3.fl.yelpcdn.com/bphoto/STPkeC...      False   \n",
       "\n",
       "                                                 url  review_count  \\\n",
       "4  https://www.yelp.com/biz/jua-new-york?adjust_c...           337   \n",
       "7  https://www.yelp.com/biz/bua-thai-ramen-and-ro...          2397   \n",
       "\n",
       "                                          categories  rating  \\\n",
       "4           [{'alias': 'korean', 'title': 'Korean'}]     4.5   \n",
       "7  [{'alias': 'thai', 'title': 'Thai'}, {'alias':...     4.5   \n",
       "\n",
       "                                        coordinates  ...  \\\n",
       "4  {'latitude': 40.739694, 'longitude': -73.987832}  ...   \n",
       "7  {'latitude': 40.7763615, 'longitude': -73.95308}  ...   \n",
       "\n",
       "                                            location         phone  \\\n",
       "4  {'address1': '36 E 22nd St', 'address2': None,...                 \n",
       "7  {'address1': '1611 2nd Ave', 'address2': None,...  +12128797999   \n",
       "\n",
       "    display_phone     distance numerical_price  price_rank        lat  \\\n",
       "4                  4821.847928               4           4  40.739694   \n",
       "7  (212) 879-7999  9105.865768               2           2  40.776362   \n",
       "\n",
       "        long                      POINTS                    geometry  \n",
       "4 -73.987832  POINT (-73.98783 40.73969)  POINT (-73.98783 40.73969)  \n",
       "7 -73.953080  POINT (-73.95308 40.77636)  POINT (-73.95308 40.77636)  \n",
       "\n",
       "[2 rows x 22 columns]"
      ]
     },
     "execution_count": 58,
     "metadata": {},
     "output_type": "execute_result"
    }
   ],
   "source": [
    "SEA_df3['POINTS'] = SEA_df3['POINTS'].apply(Point)\n",
    "SEA_df3_gdf = gpd.GeoDataFrame(SEA_df3, geometry='POINTS')\n",
    "\n",
    "SEA_df3_gdf.head(2)"
   ]
  },
  {
   "cell_type": "code",
   "execution_count": 59,
   "id": "9b066692",
   "metadata": {},
   "outputs": [],
   "source": [
    "#preparing for plot, setting up the CRS\n",
    "from shapely.geometry import Point\n",
    "import geopandas as gpd\n",
    "\n",
    "# Set the original CRS to Web Mercator\n",
    "SEA_df3_gdf.crs = \"EPSG:3857\""
   ]
  },
  {
   "cell_type": "code",
   "execution_count": 60,
   "id": "021d87d3",
   "metadata": {
    "scrolled": false
   },
   "outputs": [
    {
     "data": {
      "image/png": "[encoded data removed]",
      "text/plain": [
       "<Figure size 640x480 with 1 Axes>"
      ]
     },
     "metadata": {},
     "output_type": "display_data"
    }
   ],
   "source": [
    "SEA_df3_gdf.plot()\n",
    "plt.show()"
   ]
  },
  {
   "cell_type": "code",
   "execution_count": 73,
   "id": "b7d55a73",
   "metadata": {
    "scrolled": false
   },
   "outputs": [
    {
     "name": "stdout",
     "output_type": "stream",
     "text": [
      "Defaulting to user installation because normal site-packages is not writeable\n",
      "Requirement already satisfied: plotly in c:\\users\\catharina\\appdata\\roaming\\python\\python38\\site-packages (5.17.0)\n",
      "Requirement already satisfied: tenacity>=6.2.0 in c:\\users\\catharina\\appdata\\roaming\\python\\python38\\site-packages (from plotly) (8.2.3)\n",
      "Requirement already satisfied: packaging in c:\\programdata\\anaconda3\\envs\\myenv\\lib\\site-packages (from plotly) (23.1)\n"
     ]
    },
    {
     "data": {
      "application/vnd.plotly.v1+json": {
       "config": {
        "plotlyServerURL": "https://plot.ly"
       },
       "data": [
        {
         "customdata": [
          [
           "$$$$",
           4.5
          ],
          [
           "$$",
           4.5
          ],
          [
           "$$",
           4.5
          ],
          [
           "$$",
           4.5
          ],
          [
           "$$$",
           4.5
          ],
          [
           "$$",
           4.5
          ],
          [
           "$$",
           4.5
          ],
          [
           "$$",
           4.5
          ],
          [
           "$$",
           4.5
          ],
          [
           "$",
           4.5
          ],
          [
           "$$",
           4.5
          ],
          [
           "$$",
           4.5
          ],
          [
           "$$$$",
           4
          ],
          [
           "$$",
           4.5
          ],
          [
           "$$",
           4.5
          ],
          [
           "$$",
           4
          ],
          [
           "$$",
           4.5
          ],
          [
           "$$$$",
           4.5
          ],
          [
           "$$$$",
           4
          ],
          [
           "$",
           4
          ],
          [
           "$$$$",
           4.5
          ],
          [
           "$",
           4.5
          ],
          [
           "$$",
           4.5
          ],
          [
           "$$$$",
           5
          ],
          [
           "$$$",
           4
          ],
          [
           "$$",
           4.5
          ],
          [
           "$$$",
           4
          ],
          [
           "$$$",
           4.5
          ],
          [
           "$$$",
           4.5
          ],
          [
           "$$$$",
           4.5
          ],
          [
           "$$$$",
           4.5
          ],
          [
           "$$",
           4.5
          ],
          [
           "$$$$",
           4.5
          ],
          [
           "$$$",
           4.5
          ],
          [
           "$$",
           4.5
          ],
          [
           "$$$",
           4.5
          ],
          [
           "$$$",
           4.5
          ],
          [
           "$$",
           4
          ],
          [
           "$$$$",
           4.5
          ],
          [
           "$$$",
           4
          ],
          [
           "$$$",
           4.5
          ],
          [
           "$$$",
           4.5
          ],
          [
           "$$",
           4.5
          ],
          [
           "$$$",
           4
          ],
          [
           "$$",
           4.5
          ],
          [
           "$$$",
           4
          ],
          [
           "$$$",
           4
          ],
          [
           "$$$",
           4.5
          ],
          [
           "$$",
           4
          ],
          [
           "$$",
           4
          ],
          [
           "$",
           4.5
          ],
          [
           "$$",
           4
          ],
          [
           "$$",
           4.5
          ],
          [
           "$$",
           4
          ],
          [
           "$$",
           4
          ],
          [
           "$$",
           4.5
          ],
          [
           "$$",
           4.5
          ],
          [
           "$$",
           4
          ],
          [
           "$$$",
           4.5
          ],
          [
           "$$$$",
           4.5
          ],
          [
           "$$$$",
           4.5
          ],
          [
           "$$$",
           4.5
          ],
          [
           "$",
           4
          ],
          [
           "$$$",
           4.5
          ],
          [
           "$$",
           4.5
          ],
          [
           "$$$",
           4
          ],
          [
           "$$",
           4.5
          ],
          [
           "$$$$",
           4.5
          ],
          [
           "$$$",
           4
          ],
          [
           "$$",
           4
          ],
          [
           "$$$$",
           4
          ],
          [
           "$$",
           4
          ],
          [
           "$$",
           4
          ],
          [
           "$$",
           4
          ],
          [
           "$$",
           4.5
          ],
          [
           "$$",
           4.5
          ],
          [
           "$$",
           4.5
          ],
          [
           "$$",
           4
          ],
          [
           "$$",
           5
          ],
          [
           "$$$",
           4
          ],
          [
           "$$",
           4
          ],
          [
           "$$$",
           4.5
          ],
          [
           "$$$",
           4
          ],
          [
           "$$",
           4.5
          ],
          [
           "$$$$",
           4.5
          ],
          [
           "$$",
           4
          ],
          [
           "$$",
           4
          ],
          [
           "$$",
           4.5
          ],
          [
           "$$",
           4
          ],
          [
           "$$",
           4
          ],
          [
           "$$$$",
           4.5
          ],
          [
           "$$",
           4.5
          ],
          [
           "$$$",
           4
          ],
          [
           "$$$$",
           5
          ],
          [
           "$$",
           4
          ],
          [
           "$$",
           4.5
          ],
          [
           "$$",
           4
          ],
          [
           "$$",
           4.5
          ],
          [
           "$$",
           4
          ],
          [
           "$$$$",
           4.5
          ],
          [
           "$$",
           4
          ],
          [
           "$$",
           4
          ],
          [
           "$$$",
           4.5
          ],
          [
           "$$",
           4
          ],
          [
           "$$",
           4
          ],
          [
           "$$",
           4.5
          ],
          [
           "$$",
           4
          ],
          [
           "$$$",
           4
          ],
          [
           "$$",
           4.5
          ],
          [
           "$$$$",
           4.5
          ],
          [
           "$$$",
           4.5
          ],
          [
           "$$",
           4
          ],
          [
           "$$",
           4.5
          ],
          [
           "$$",
           4
          ],
          [
           "$$",
           4.5
          ],
          [
           "$$",
           4.5
          ],
          [
           "$$",
           4
          ],
          [
           "$$",
           4.5
          ],
          [
           "$$",
           4.5
          ],
          [
           "$$$",
           4.5
          ],
          [
           "$$$",
           4
          ],
          [
           "$$",
           4.5
          ],
          [
           "$$",
           4.5
          ],
          [
           "$$$$",
           4.5
          ],
          [
           "$$$",
           4.5
          ],
          [
           "$",
           4
          ],
          [
           "$$",
           4
          ],
          [
           "$$",
           4.5
          ],
          [
           "$$",
           4
          ],
          [
           "$$",
           4.5
          ],
          [
           "$$$",
           4
          ],
          [
           "$$",
           4
          ],
          [
           "$$",
           4.5
          ],
          [
           "$$$$",
           4.5
          ],
          [
           "$$",
           4
          ],
          [
           "$",
           4.5
          ],
          [
           "$$",
           4
          ],
          [
           "$$",
           4.5
          ],
          [
           "$$$",
           4
          ],
          [
           "$$$",
           4
          ],
          [
           "$$",
           4
          ],
          [
           "$$",
           4.5
          ],
          [
           "$$",
           4.5
          ],
          [
           "$$",
           4.5
          ],
          [
           "$$",
           4
          ],
          [
           "$$",
           4.5
          ],
          [
           "$$",
           4.5
          ],
          [
           "$$$$",
           4.5
          ],
          [
           "$$",
           4.5
          ],
          [
           "$$$$",
           4
          ],
          [
           "$$",
           4.5
          ],
          [
           "$$$$",
           4.5
          ],
          [
           "$$",
           4.5
          ],
          [
           "$$$",
           4
          ],
          [
           "$$$",
           4.5
          ],
          [
           "$$",
           4
          ],
          [
           "$$",
           4.5
          ],
          [
           "$$$$",
           5
          ],
          [
           "$$",
           4
          ],
          [
           "$$",
           4.5
          ],
          [
           "$$",
           4.5
          ],
          [
           "$$",
           3.5
          ],
          [
           "$$$",
           4.5
          ],
          [
           "$$",
           4.5
          ],
          [
           "$",
           4
          ],
          [
           "$$$$",
           4.5
          ],
          [
           "$$$",
           4
          ],
          [
           "$$",
           4.5
          ],
          [
           "$$$",
           4.5
          ],
          [
           "$$",
           4.5
          ],
          [
           "$$",
           4
          ],
          [
           "$$",
           4
          ],
          [
           "$$",
           4.5
          ],
          [
           "$$",
           4.5
          ],
          [
           "$",
           4.5
          ],
          [
           "$$",
           4
          ],
          [
           "$$",
           4
          ],
          [
           "$$$",
           4
          ],
          [
           "$$$$",
           5
          ],
          [
           "$$",
           4
          ],
          [
           "$$$$",
           4.5
          ],
          [
           "$$$",
           4
          ],
          [
           "$$",
           4
          ],
          [
           "$$",
           4.5
          ],
          [
           "$$",
           4
          ],
          [
           "$$",
           4
          ],
          [
           "$$",
           4.5
          ],
          [
           "$$",
           4
          ],
          [
           "$$",
           4
          ],
          [
           "$$$",
           4
          ],
          [
           "$$",
           4
          ],
          [
           "$$",
           4
          ],
          [
           "$",
           4.5
          ],
          [
           "$$",
           4
          ],
          [
           "$$$$",
           4.5
          ],
          [
           "$$",
           4.5
          ],
          [
           "$$",
           4.5
          ],
          [
           "$$",
           4
          ],
          [
           "$$",
           4
          ],
          [
           "$$$$",
           4.5
          ],
          [
           "$$",
           4.5
          ],
          [
           "$$",
           4.5
          ],
          [
           "$$",
           4
          ],
          [
           "$$",
           4.5
          ],
          [
           "$$",
           4.5
          ],
          [
           "$$",
           4.5
          ],
          [
           "$$",
           4
          ],
          [
           "$",
           3.5
          ],
          [
           "$$",
           4
          ],
          [
           "$$",
           4.5
          ],
          [
           "$$",
           4
          ],
          [
           "$$",
           4
          ],
          [
           "$$",
           4
          ],
          [
           "$$$$",
           4
          ],
          [
           "$$",
           4.5
          ],
          [
           "$",
           4.5
          ],
          [
           "$$$",
           4
          ],
          [
           "$$$$",
           4
          ],
          [
           "$$",
           4.5
          ],
          [
           "$$",
           4.5
          ],
          [
           "$",
           5
          ],
          [
           "$$",
           4
          ],
          [
           "$$",
           4.5
          ],
          [
           "$$$",
           4
          ],
          [
           "$$",
           4.5
          ],
          [
           "$$$$",
           5
          ],
          [
           "$$",
           3.5
          ],
          [
           "$$",
           4
          ],
          [
           "$$",
           4
          ],
          [
           "$$",
           4
          ],
          [
           "$$",
           4.5
          ],
          [
           "$$",
           4
          ],
          [
           "$$",
           4.5
          ],
          [
           "$$$$",
           4.5
          ],
          [
           "$",
           4
          ],
          [
           "$$",
           4
          ],
          [
           "$$",
           4
          ],
          [
           "$$",
           4.5
          ],
          [
           "$$",
           4.5
          ],
          [
           "$$",
           4
          ],
          [
           "$$$$",
           4.5
          ],
          [
           "$$",
           4
          ],
          [
           "$$$",
           4
          ],
          [
           "$$",
           4
          ],
          [
           "$$",
           4.5
          ],
          [
           "$$",
           4
          ]
         ],
         "hovertemplate": "<b>%{hovertext}</b><br><br>lat=%{lat}<br>long=%{lon}<br>price=%{customdata[0]}<br>rating=%{customdata[1]}<extra></extra>",
         "hovertext": [
          "JUA",
          "Bua Thai Ramen & Robata Grill",
          "Tonchin",
          "Fish Cheeks",
          "Top Thai Vintage",
          "Raku",
          "5ive Spice",
          "THEP Thai Restaurant",
          "Up Thai",
          "Taiyaki NYC",
          "Tomi Jazz",
          "Very Fresh Noodles",
          "Buddakan",
          "Hanoi House",
          "JoJu",
          "Ippudo Westside",
          "PLANTA Queen Nomad",
          "Sushi Nakazawa",
          "COTE Korean Steakhouse",
          "The Halal Guys",
          "Oiji Mi",
          "Wah Fung No 1",
          "Szechuan Mountain House",
          "Secchu Yokota",
          "DOMODOMO - New York",
          "Kyuramen - Park Slope",
          "Wayan",
          "Izakaya Juraku",
          "Yopparai",
          "Sushi By M",
          "Shiki Omakase",
          "KazuNori | NoMad",
          "Little Mad",
          "Yoon Haeundae Galbi",
          "Benemon",
          "Shukette",
          "Kimura",
          "Lemongrass Brooklyn",
          "Kochi",
          "ilili Restaurant",
          "NR",
          "Boutros",
          "Chow House",
          "Brooklyn Chop House",
          "Nan Xiang Xiao Long Bao - Manhattan",
          "Hometown Hotpot & BBQ",
          "Kimika",
          "Nowon East Village ",
          "Tasty Hand-Pulled Noodles",
          "Grace Street",
          "Shu Jiao Fu Zhou",
          "Au Za'atar",
          "Hao Noodle Chelsea",
          "Birds of a Feather",
          "Café China",
          "Aoi Kitchen",
          "ICHIRAN - Times Square",
          "Shanghai 21",
          "Ye's Apothecary",
          "Chef's Table at Brooklyn Fare",
          "Takumi Omakase",
          "Sagaponack",
          "Vanessa's Dumpling House",
          "Hortus NYC",
          "wagamama - midtown",
          "99 Favor Taste - New York",
          "Ramen Ishida",
          "Tanoshi Sushi Sake Bar",
          "Dhamaka",
          "Izakaya NoMad",
          "Llama San",
          "Set LES",
          "Han Dynasty",
          "Uncle Lou",
          "Okiboru House of Tsukemen",
          "The Drunken Munkey - UES",
          "LumLum ",
          "Cho Dang Gol Korean Restaurant",
          "Little Kirin",
          "EN Japanese Brasserie",
          "Gyu-Kaku Japanese BBQ",
          "Kuun",
          "Antoya Korean BBQ",
          "Spicy Moon East Village",
          "Atomix",
          "Sushi Yasaka",
          "Basta Pasta",
          "Turntable LP Bar & Karaoke",
          "ChikaLicious Dessert Bar",
          "Somtum Der",
          "Sushi By Boū - NoMad",
          "Mr Mista Oh",
          "Juku",
          "Omakase By Korami",
          "Nourish",
          "Paratha Wala",
          "886",
          "Kalye",
          "BCD Tofu House",
          "Hirohisa",
          "Hao Noodle - West Village",
          "Di An Di",
          "Nami Nori",
          "Woorijip",
          "Samurai Mama",
          "Liu's Shanghai",
          "Pure Thai Cookhouse",
          "1 OR 8",
          "Trad Room",
          "Genki Omakase",
          "Sake Kawa",
          "The Bao",
          "Simple NYC",
          "MONO+MONO",
          "Mazu Szechuan",
          "Pinklady Cheese Tart",
          "Yin Ji Chang Fen Rice Roll",
          "Al Badawi",
          "Izakaya Fuku",
          "Laser Wolf",
          "Tamarind",
          "K-Top Chicken",
          "Bangkok Degree",
          "The Chemistry Room",
          "Laojie Hotpot",
          "Xi'an Famous Foods",
          "Ramen Danbo",
          "Ai Ki Ya",
          "Soju Haus",
          "Peng's Noodle Folk",
          "Momoya SoHo",
          "Izakaya",
          "Milu",
          "Sushi Zo | New York",
          "The Original Buddha Bodai Kosher Vegetarian Restaurant",
          "Royal Grill Halal Food",
          "Kimchi Grill",
          "One More Charm",
          "Hou Yi Hot Pot",
          "Karasu",
          "3 Times",
          "YUBU",
          "Burp Bowl Cafe",
          "Curry House",
          "Eight Turn Crêpe",
          "Queen",
          "Hey Yuet",
          "Omakase Room by Mitsu",
          "Hupo",
          "Hiyake Omakase",
          "Malii Gramercy",
          "Sushi Kai - East Village",
          "Levantine",
          "SUteiShi",
          "Taiki",
          "Five Senses",
          "Sabry's",
          "Tsukimi",
          "Sapps",
          "Tradisyon",
          "Geido",
          "Boka",
          "ONDO Jersey City",
          "ACRE",
          "China North Dumpling 北方鍋貼",
          "Kosaka",
          "KPOT Korean BBQ & Hot Pot",
          "Zatar",
          "Towa",
          "Spice Symphony",
          "Wanisa Home Kitchen",
          "Golda",
          "The Best Sichuan",
          "Saiguette",
          "Bites of Xi'an",
          "Java Indonesian Restaurant",
          "Baoburg",
          "KYU - New York",
          "Mr. Jones Supper Club",
          "Mamoun's Falafel",
          "NARO",
          "SUGARFISH | Soho",
          "Watawa Sushi",
          "Savory Thai",
          "Ichibantei",
          "Old Xi'an",
          "Accent Restaurant & Bar",
          "Shinsen",
          "Kazuza",
          "Sen Sakana",
          "Ayada Thai",
          "Ming Wong Restaurant",
          "Ling Kee Beef Jerky",
          "Ako",
          "Maison Sun",
          "Za-Ya Ramen",
          "Umami Sushi",
          "Sao Mai",
          "Pecking House",
          "Sushi Kaito",
          "Kin Ramen",
          "TJ Asian Bistro",
          "Ootoya Union Square",
          "Salma",
          "Banh Mi Zon",
          "Blossom Ice Cream & The Poké",
          "Little Mo",
          "Great NY Noodle Town",
          "Suzume",
          "Dar 525",
          "Momo Sushi Shack",
          "Falansai",
          "HinoMaru Ramen",
          "Kanoyama",
          "Matsuri",
          "Yi Ji Shi Mo Noodle Corp",
          "SUGARFISH | Flatiron",
          "Joomak Banjum",
          "Cardamom Indian cuisine",
          "Nostrand Cafe",
          "Zongzi lady",
          "Little Rascal",
          "Mr. Sun",
          "Takahachi Tribeca Restaurant",
          "Phil-Am Kusina",
          "Trust Bae",
          "Wu's Wonton King",
          "Ki Sushi",
          "Xi'an Famous Foods",
          "Kings Co Imperial",
          "Dun Huang -  Grand Central",
          "LUNA  Asian Bistro & Lounge",
          "Chu Ros Thai",
          "Matsunori",
          "Oh K-Dog",
          "Totto Ramen Hell's Kitchen",
          "Gu Japanese Fusion Sushi & Bar",
          "Aahar Indian Cuisine",
          "Ramen Danbo",
          "Tuk Tuk",
          "Kono",
          "Banh Mi Place",
          "Vatan Indian Vegetarian",
          "Copper Throat Thai Cuisine",
          "Mughlai Indian Cuisine",
          "Am Thai Bistro"
         ],
         "lat": [
          40.739694,
          40.7763615,
          40.7502727,
          40.7258,
          40.72990742,
          40.7264988089,
          40.681442,
          40.77078,
          40.7698275927,
          40.71789,
          40.75725,
          40.74207,
          40.7422762672,
          40.727066,
          40.74070517,
          40.76344,
          40.744435,
          40.731746522899996,
          40.741046,
          40.761861,
          40.73966,
          40.71735,
          40.72911,
          40.7228416514,
          40.7280299,
          40.67791,
          40.7213813139,
          40.7196796287,
          40.7197501398,
          40.72659,
          40.72654,
          40.74519,
          40.74502,
          40.7499675032,
          40.72551,
          40.74745,
          40.7290432506,
          40.688684,
          40.762010000000004,
          40.74435,
          40.770153,
          40.6901481294,
          40.72915,
          40.71151,
          40.7482252753,
          40.71931,
          40.720572,
          40.72532,
          40.7142,
          40.7478576794,
          40.7174109,
          40.728901,
          40.7406999,
          40.71442,
          40.751587,
          40.72683167,
          40.7600737531,
          40.71441,
          40.71945,
          40.756125995,
          40.7218841,
          40.741019,
          40.71839,
          40.745481,
          40.763160413,
          40.7176199,
          40.7196298,
          40.767568,
          40.7180658,
          40.74409,
          40.73225,
          40.7198495418,
          40.732072,
          40.71623,
          40.719348,
          40.78098,
          40.7629,
          40.7502365112,
          40.72782,
          40.7306,
          40.7591422379,
          40.6884292,
          40.74811,
          40.72674,
          40.74421,
          40.779583,
          40.73881,
          40.74769,
          40.7296463653,
          40.7252151982,
          40.745939,
          40.74324,
          40.71461,
          40.7635033079,
          40.677941,
          40.71044,
          40.72877,
          40.7179,
          40.7476973488,
          40.724597,
          40.733486319,
          40.72969,
          40.7191396454,
          40.74747,
          40.714247,
          40.6026411896,
          40.764291,
          40.6896859,
          40.68391,
          40.72933,
          40.7563,
          40.72939,
          40.71821,
          40.72549,
          40.745233999999996,
          40.7141357508,
          40.71583,
          40.69059,
          40.74635,
          40.720809,
          40.71909,
          40.71499,
          40.6747232719,
          40.75844,
          40.6389709339,
          40.755136,
          40.6761199579,
          40.74873,
          40.7468603,
          40.7711335539,
          40.72349,
          40.72667,
          40.741084,
          40.7297821045,
          40.7138543,
          40.7562107329,
          40.6750885,
          40.669892,
          40.7161793,
          40.6893727909,
          40.718271,
          40.72702,
          40.74183,
          40.714704354,
          40.6911103553,
          40.706071,
          40.747241,
          40.73382,
          40.742827,
          40.71871,
          40.73767,
          40.728498,
          40.715385,
          40.70788,
          40.6845433545,
          40.7475731586,
          40.768311,
          40.72908,
          40.74762,
          40.76491,
          40.67792,
          40.729519,
          40.72084,
          40.72633,
          40.7158,
          40.7381972956,
          40.69088,
          40.6980763645,
          40.7442,
          40.7558937073,
          40.687,
          40.68151,
          40.75266,
          40.7990529691,
          40.688006,
          40.662645,
          40.7234929272,
          40.7256179673,
          40.7317819,
          40.728721,
          40.7581054545,
          40.725117,
          40.774959,
          40.71395,
          40.7325968005,
          40.70591,
          40.74303,
          40.71558,
          40.72602,
          40.7552257152,
          40.7434403431,
          40.71601,
          40.71466,
          40.7168599,
          40.6885397234,
          40.6741699,
          40.73571,
          40.730362,
          40.6796443,
          40.779199,
          40.76435,
          40.7461895,
          40.73316,
          40.7303699423,
          40.72572,
          40.6892919,
          40.69701,
          40.715,
          40.7131652,
          40.72308,
          40.70512,
          40.70676,
          40.7748899167,
          40.730545186,
          40.7458357,
          40.71824,
          40.73901,
          40.74701,
          40.7438892342,
          40.689746,
          40.7181661,
          40.7208633,
          40.75809,
          40.71659,
          40.6123064741,
          40.7463491877,
          40.7139415502,
          40.68764,
          40.7243301735,
          40.7180159,
          40.74922,
          40.7573,
          40.78922,
          40.72088,
          40.72104,
          40.765055,
          40.75743,
          40.71334,
          40.7298950459,
          40.743232,
          40.71568,
          40.6732865,
          40.74236,
          40.71978,
          40.78002,
          40.6468364563
         ],
         "legendgroup": "",
         "lon": [
          -73.987832,
          -73.95308,
          -73.9844951,
          -73.9927,
          -74.004213804,
          -73.9866526052,
          -73.977241,
          -73.95727,
          -73.9576330869,
          -73.9988,
          -73.96774,
          -74.00565,
          -74.0048000962,
          -73.983505,
          -73.8793501821,
          -73.98661,
          -73.98832,
          -74.0045493828,
          -73.991421,
          -73.979306,
          -73.99247,
          -73.99457,
          -73.98858,
          -73.9831015,
          -74.00167,
          -73.97929,
          -73.9950757665,
          -73.9887088537,
          -73.9848855773,
          -73.98873,
          -73.99956,
          -73.98824,
          -73.98513,
          -73.9844309551,
          -73.98838,
          -74.00041,
          -73.9882174,
          -73.993137,
          -73.99351,
          -73.98778,
          -73.954956,
          -73.9935445413,
          -74.00072,
          -74.00597,
          -73.9857786,
          -73.99689,
          -73.995206,
          -73.98334,
          -73.99787,
          -73.9865590632,
          -73.992100412,
          -73.981185,
          -74.00436,
          -73.960441,
          -73.985815,
          -73.98754333,
          -73.9833259411,
          -73.99902,
          -73.9898,
          -73.9965955641,
          -73.9866691,
          -73.990692,
          -73.9917399,
          -73.986518,
          -73.9788544409,
          -73.99249,
          -73.988366,
          -73.952815,
          -73.9881304,
          -73.98945,
          -74.00078,
          -73.9885318279,
          -73.988074,
          -73.99925,
          -73.989706,
          -73.94751,
          -73.98991,
          -73.9861984253,
          -73.98551,
          -74.00698,
          -73.9898985543,
          -73.9831506,
          -73.9872,
          -73.98722,
          -73.98286,
          -73.983482,
          -73.99407,
          -73.98735,
          -73.9862015437,
          -73.9842741682,
          -73.983523,
          -73.99123,
          -73.999528,
          -73.989323,
          -73.968455,
          -73.84942,
          -73.98873,
          -73.98999,
          -73.9860685308,
          -74.003174,
          -73.9998929006,
          -73.95827,
          -73.9528407272,
          -73.98648,
          -73.960055,
          -74.0038766549,
          -73.988159,
          -73.9703551,
          -73.929419,
          -73.99808,
          -73.92855,
          -73.9889199,
          -73.99223,
          -73.98803,
          -73.97812,
          -73.9988519624,
          -73.999336,
          -73.99503,
          -73.89383,
          -73.958752,
          -74.00892,
          -73.95833,
          -73.9757981977,
          -73.98306,
          -74.0046846944,
          -73.982194,
          -73.974519968,
          -73.98705,
          -73.9851724,
          -73.962035427,
          -73.99579,
          -73.98738,
          -73.985324,
          -73.9992218018,
          -73.9989484,
          -73.9833494825,
          -73.9634982,
          -73.979454,
          -73.9925896,
          -73.9732461,
          -73.985209,
          -73.98608,
          -73.98271,
          -73.9977050234,
          -73.9831850898,
          -73.922414,
          -73.996441,
          -74.00042,
          -73.953575,
          -73.9945,
          -73.98128,
          -73.98615,
          -73.944839,
          -74.00194,
          -73.9837775426,
          -73.9863122632,
          -73.91112,
          -73.98541,
          -73.94008,
          -73.987537,
          -73.97266,
          -73.989104,
          -74.03199,
          -73.95471,
          -73.9898,
          -74.001444988,
          -73.98378,
          -73.9245712109,
          -73.99062,
          -73.971534729,
          -73.99042,
          -73.95591,
          -73.98459,
          -73.9628195532,
          -73.982083,
          -73.9847769,
          -73.9503321851,
          -73.9952634137,
          -74.0025704,
          -73.988554,
          -73.9778530962,
          -74.003685,
          -73.9095,
          -73.95554,
          -73.9880024,
          -74.00747,
          -73.97986,
          -73.9967,
          -73.98393,
          -73.98163,
          -73.887628037,
          -73.99838,
          -73.99148,
          -73.95845,
          -73.9854437478,
          -73.99968,
          -74.00044,
          -73.98362,
          -73.97457729999999,
          -73.983662,
          -73.97904,
          -73.9136856,
          -73.99273,
          -73.9837222575,
          -73.98428,
          -73.9916948,
          -73.93368,
          -73.99706,
          -73.9494479,
          -73.9452699,
          -73.933463,
          -73.92877,
          -73.9092001319,
          -73.9865440288,
          -73.9035436,
          -73.99583,
          -73.98882,
          -73.98583,
          -73.9212168609,
          -73.951286,
          -73.9938466,
          -73.9950497,
          -73.98026,
          -74.007919,
          -74.0712469296,
          -73.9882882411,
          -73.9899386554,
          -73.9901,
          -73.9509299397,
          -73.9853739,
          -73.97785,
          -73.92068,
          -73.94873,
          -73.98981,
          -73.98804,
          -73.991001,
          -73.97042,
          -74.0081,
          -74.0034680129,
          -73.954254,
          -73.99664,
          -73.9631,
          -73.9803699,
          -73.98877,
          -73.94978,
          -73.9701736994
         ],
         "marker": {
          "color": "#636efa"
         },
         "mode": "markers",
         "name": "",
         "showlegend": false,
         "subplot": "mapbox",
         "type": "scattermapbox"
        }
       ],
       "layout": {
        "height": 600,
        "legend": {
         "tracegroupgap": 0
        },
        "mapbox": {
         "center": {
          "lat": 40.72758458415976,
          "lon": -73.97994324921221
         },
         "domain": {
          "x": [
           0,
           1
          ],
          "y": [
           0,
           1
          ]
         },
         "style": "carto-positron",
         "zoom": 10
        },
        "margin": {
         "t": 60
        },
        "template": {
         "data": {
          "bar": [
           {
            "error_x": {
             "color": "#2a3f5f"
            },
            "error_y": {
             "color": "#2a3f5f"
            },
            "marker": {
             "line": {
              "color": "#E5ECF6",
              "width": 0.5
             },
             "pattern": {
              "fillmode": "overlay",
              "size": 10,
              "solidity": 0.2
             }
            },
            "type": "bar"
           }
          ],
          "barpolar": [
           {
            "marker": {
             "line": {
              "color": "#E5ECF6",
              "width": 0.5
             },
             "pattern": {
              "fillmode": "overlay",
              "size": 10,
              "solidity": 0.2
             }
            },
            "type": "barpolar"
           }
          ],
          "carpet": [
           {
            "aaxis": {
             "endlinecolor": "#2a3f5f",
             "gridcolor": "white",
             "linecolor": "white",
             "minorgridcolor": "white",
             "startlinecolor": "#2a3f5f"
            },
            "baxis": {
             "endlinecolor": "#2a3f5f",
             "gridcolor": "white",
             "linecolor": "white",
             "minorgridcolor": "white",
             "startlinecolor": "#2a3f5f"
            },
            "type": "carpet"
           }
          ],
          "choropleth": [
           {
            "colorbar": {
             "outlinewidth": 0,
             "ticks": ""
            },
            "type": "choropleth"
           }
          ],
          "contour": [
           {
            "colorbar": {
             "outlinewidth": 0,
             "ticks": ""
            },
            "colorscale": [
             [
              0,
              "#0d0887"
             ],
             [
              0.1111111111111111,
              "#46039f"
             ],
             [
              0.2222222222222222,
              "#7201a8"
             ],
             [
              0.3333333333333333,
              "#9c179e"
             ],
             [
              0.4444444444444444,
              "#bd3786"
             ],
             [
              0.5555555555555556,
              "#d8576b"
             ],
             [
              0.6666666666666666,
              "#ed7953"
             ],
             [
              0.7777777777777778,
              "#fb9f3a"
             ],
             [
              0.8888888888888888,
              "#fdca26"
             ],
             [
              1,
              "#f0f921"
             ]
            ],
            "type": "contour"
           }
          ],
          "contourcarpet": [
           {
            "colorbar": {
             "outlinewidth": 0,
             "ticks": ""
            },
            "type": "contourcarpet"
           }
          ],
          "heatmap": [
           {
            "colorbar": {
             "outlinewidth": 0,
             "ticks": ""
            },
            "colorscale": [
             [
              0,
              "#0d0887"
             ],
             [
              0.1111111111111111,
              "#46039f"
             ],
             [
              0.2222222222222222,
              "#7201a8"
             ],
             [
              0.3333333333333333,
              "#9c179e"
             ],
             [
              0.4444444444444444,
              "#bd3786"
             ],
             [
              0.5555555555555556,
              "#d8576b"
             ],
             [
              0.6666666666666666,
              "#ed7953"
             ],
             [
              0.7777777777777778,
              "#fb9f3a"
             ],
             [
              0.8888888888888888,
              "#fdca26"
             ],
             [
              1,
              "#f0f921"
             ]
            ],
            "type": "heatmap"
           }
          ],
          "heatmapgl": [
           {
            "colorbar": {
             "outlinewidth": 0,
             "ticks": ""
            },
            "colorscale": [
             [
              0,
              "#0d0887"
             ],
             [
              0.1111111111111111,
              "#46039f"
             ],
             [
              0.2222222222222222,
              "#7201a8"
             ],
             [
              0.3333333333333333,
              "#9c179e"
             ],
             [
              0.4444444444444444,
              "#bd3786"
             ],
             [
              0.5555555555555556,
              "#d8576b"
             ],
             [
              0.6666666666666666,
              "#ed7953"
             ],
             [
              0.7777777777777778,
              "#fb9f3a"
             ],
             [
              0.8888888888888888,
              "#fdca26"
             ],
             [
              1,
              "#f0f921"
             ]
            ],
            "type": "heatmapgl"
           }
          ],
          "histogram": [
           {
            "marker": {
             "pattern": {
              "fillmode": "overlay",
              "size": 10,
              "solidity": 0.2
             }
            },
            "type": "histogram"
           }
          ],
          "histogram2d": [
           {
            "colorbar": {
             "outlinewidth": 0,
             "ticks": ""
            },
            "colorscale": [
             [
              0,
              "#0d0887"
             ],
             [
              0.1111111111111111,
              "#46039f"
             ],
             [
              0.2222222222222222,
              "#7201a8"
             ],
             [
              0.3333333333333333,
              "#9c179e"
             ],
             [
              0.4444444444444444,
              "#bd3786"
             ],
             [
              0.5555555555555556,
              "#d8576b"
             ],
             [
              0.6666666666666666,
              "#ed7953"
             ],
             [
              0.7777777777777778,
              "#fb9f3a"
             ],
             [
              0.8888888888888888,
              "#fdca26"
             ],
             [
              1,
              "#f0f921"
             ]
            ],
            "type": "histogram2d"
           }
          ],
          "histogram2dcontour": [
           {
            "colorbar": {
             "outlinewidth": 0,
             "ticks": ""
            },
            "colorscale": [
             [
              0,
              "#0d0887"
             ],
             [
              0.1111111111111111,
              "#46039f"
             ],
             [
              0.2222222222222222,
              "#7201a8"
             ],
             [
              0.3333333333333333,
              "#9c179e"
             ],
             [
              0.4444444444444444,
              "#bd3786"
             ],
             [
              0.5555555555555556,
              "#d8576b"
             ],
             [
              0.6666666666666666,
              "#ed7953"
             ],
             [
              0.7777777777777778,
              "#fb9f3a"
             ],
             [
              0.8888888888888888,
              "#fdca26"
             ],
             [
              1,
              "#f0f921"
             ]
            ],
            "type": "histogram2dcontour"
           }
          ],
          "mesh3d": [
           {
            "colorbar": {
             "outlinewidth": 0,
             "ticks": ""
            },
            "type": "mesh3d"
           }
          ],
          "parcoords": [
           {
            "line": {
             "colorbar": {
              "outlinewidth": 0,
              "ticks": ""
             }
            },
            "type": "parcoords"
           }
          ],
          "pie": [
           {
            "automargin": true,
            "type": "pie"
           }
          ],
          "scatter": [
           {
            "fillpattern": {
             "fillmode": "overlay",
             "size": 10,
             "solidity": 0.2
            },
            "type": "scatter"
           }
          ],
          "scatter3d": [
           {
            "line": {
             "colorbar": {
              "outlinewidth": 0,
              "ticks": ""
             }
            },
            "marker": {
             "colorbar": {
              "outlinewidth": 0,
              "ticks": ""
             }
            },
            "type": "scatter3d"
           }
          ],
          "scattercarpet": [
           {
            "marker": {
             "colorbar": {
              "outlinewidth": 0,
              "ticks": ""
             }
            },
            "type": "scattercarpet"
           }
          ],
          "scattergeo": [
           {
            "marker": {
             "colorbar": {
              "outlinewidth": 0,
              "ticks": ""
             }
            },
            "type": "scattergeo"
           }
          ],
          "scattergl": [
           {
            "marker": {
             "colorbar": {
              "outlinewidth": 0,
              "ticks": ""
             }
            },
            "type": "scattergl"
           }
          ],
          "scattermapbox": [
           {
            "marker": {
             "colorbar": {
              "outlinewidth": 0,
              "ticks": ""
             }
            },
            "type": "scattermapbox"
           }
          ],
          "scatterpolar": [
           {
            "marker": {
             "colorbar": {
              "outlinewidth": 0,
              "ticks": ""
             }
            },
            "type": "scatterpolar"
           }
          ],
          "scatterpolargl": [
           {
            "marker": {
             "colorbar": {
              "outlinewidth": 0,
              "ticks": ""
             }
            },
            "type": "scatterpolargl"
           }
          ],
          "scatterternary": [
           {
            "marker": {
             "colorbar": {
              "outlinewidth": 0,
              "ticks": ""
             }
            },
            "type": "scatterternary"
           }
          ],
          "surface": [
           {
            "colorbar": {
             "outlinewidth": 0,
             "ticks": ""
            },
            "colorscale": [
             [
              0,
              "#0d0887"
             ],
             [
              0.1111111111111111,
              "#46039f"
             ],
             [
              0.2222222222222222,
              "#7201a8"
             ],
             [
              0.3333333333333333,
              "#9c179e"
             ],
             [
              0.4444444444444444,
              "#bd3786"
             ],
             [
              0.5555555555555556,
              "#d8576b"
             ],
             [
              0.6666666666666666,
              "#ed7953"
             ],
             [
              0.7777777777777778,
              "#fb9f3a"
             ],
             [
              0.8888888888888888,
              "#fdca26"
             ],
             [
              1,
              "#f0f921"
             ]
            ],
            "type": "surface"
           }
          ],
          "table": [
           {
            "cells": {
             "fill": {
              "color": "#EBF0F8"
             },
             "line": {
              "color": "white"
             }
            },
            "header": {
             "fill": {
              "color": "#C8D4E3"
             },
             "line": {
              "color": "white"
             }
            },
            "type": "table"
           }
          ]
         },
         "layout": {
          "annotationdefaults": {
           "arrowcolor": "#2a3f5f",
           "arrowhead": 0,
           "arrowwidth": 1
          },
          "autotypenumbers": "strict",
          "coloraxis": {
           "colorbar": {
            "outlinewidth": 0,
            "ticks": ""
           }
          },
          "colorscale": {
           "diverging": [
            [
             0,
             "#8e0152"
            ],
            [
             0.1,
             "#c51b7d"
            ],
            [
             0.2,
             "#de77ae"
            ],
            [
             0.3,
             "#f1b6da"
            ],
            [
             0.4,
             "#fde0ef"
            ],
            [
             0.5,
             "#f7f7f7"
            ],
            [
             0.6,
             "#e6f5d0"
            ],
            [
             0.7,
             "#b8e186"
            ],
            [
             0.8,
             "#7fbc41"
            ],
            [
             0.9,
             "#4d9221"
            ],
            [
             1,
             "#276419"
            ]
           ],
           "sequential": [
            [
             0,
             "#0d0887"
            ],
            [
             0.1111111111111111,
             "#46039f"
            ],
            [
             0.2222222222222222,
             "#7201a8"
            ],
            [
             0.3333333333333333,
             "#9c179e"
            ],
            [
             0.4444444444444444,
             "#bd3786"
            ],
            [
             0.5555555555555556,
             "#d8576b"
            ],
            [
             0.6666666666666666,
             "#ed7953"
            ],
            [
             0.7777777777777778,
             "#fb9f3a"
            ],
            [
             0.8888888888888888,
             "#fdca26"
            ],
            [
             1,
             "#f0f921"
            ]
           ],
           "sequentialminus": [
            [
             0,
             "#0d0887"
            ],
            [
             0.1111111111111111,
             "#46039f"
            ],
            [
             0.2222222222222222,
             "#7201a8"
            ],
            [
             0.3333333333333333,
             "#9c179e"
            ],
            [
             0.4444444444444444,
             "#bd3786"
            ],
            [
             0.5555555555555556,
             "#d8576b"
            ],
            [
             0.6666666666666666,
             "#ed7953"
            ],
            [
             0.7777777777777778,
             "#fb9f3a"
            ],
            [
             0.8888888888888888,
             "#fdca26"
            ],
            [
             1,
             "#f0f921"
            ]
           ]
          },
          "colorway": [
           "#636efa",
           "#EF553B",
           "#00cc96",
           "#ab63fa",
           "#FFA15A",
           "#19d3f3",
           "#FF6692",
           "#B6E880",
           "#FF97FF",
           "#FECB52"
          ],
          "font": {
           "color": "#2a3f5f"
          },
          "geo": {
           "bgcolor": "white",
           "lakecolor": "white",
           "landcolor": "#E5ECF6",
           "showlakes": true,
           "showland": true,
           "subunitcolor": "white"
          },
          "hoverlabel": {
           "align": "left"
          },
          "hovermode": "closest",
          "mapbox": {
           "style": "light"
          },
          "paper_bgcolor": "white",
          "plot_bgcolor": "#E5ECF6",
          "polar": {
           "angularaxis": {
            "gridcolor": "white",
            "linecolor": "white",
            "ticks": ""
           },
           "bgcolor": "#E5ECF6",
           "radialaxis": {
            "gridcolor": "white",
            "linecolor": "white",
            "ticks": ""
           }
          },
          "scene": {
           "xaxis": {
            "backgroundcolor": "#E5ECF6",
            "gridcolor": "white",
            "gridwidth": 2,
            "linecolor": "white",
            "showbackground": true,
            "ticks": "",
            "zerolinecolor": "white"
           },
           "yaxis": {
            "backgroundcolor": "#E5ECF6",
            "gridcolor": "white",
            "gridwidth": 2,
            "linecolor": "white",
            "showbackground": true,
            "ticks": "",
            "zerolinecolor": "white"
           },
           "zaxis": {
            "backgroundcolor": "#E5ECF6",
            "gridcolor": "white",
            "gridwidth": 2,
            "linecolor": "white",
            "showbackground": true,
            "ticks": "",
            "zerolinecolor": "white"
           }
          },
          "shapedefaults": {
           "line": {
            "color": "#2a3f5f"
           }
          },
          "ternary": {
           "aaxis": {
            "gridcolor": "white",
            "linecolor": "white",
            "ticks": ""
           },
           "baxis": {
            "gridcolor": "white",
            "linecolor": "white",
            "ticks": ""
           },
           "bgcolor": "#E5ECF6",
           "caxis": {
            "gridcolor": "white",
            "linecolor": "white",
            "ticks": ""
           }
          },
          "title": {
           "x": 0.05
          },
          "xaxis": {
           "automargin": true,
           "gridcolor": "white",
           "linecolor": "white",
           "ticks": "",
           "title": {
            "standoff": 15
           },
           "zerolinecolor": "white",
           "zerolinewidth": 2
          },
          "yaxis": {
           "automargin": true,
           "gridcolor": "white",
           "linecolor": "white",
           "ticks": "",
           "title": {
            "standoff": 15
           },
           "zerolinecolor": "white",
           "zerolinewidth": 2
          }
         }
        }
       }
      },
      "text/html": [
       "<div>                            <div id=\"d091e911-231a-43e6-9a41-2caa666731a5\" class=\"plotly-graph-div\" style=\"height:600px; width:100%;\"></div>            <script type=\"text/javascript\">                require([\"plotly\"], function(Plotly) {                    window.PLOTLYENV=window.PLOTLYENV || {};                                    if (document.getElementById(\"d091e911-231a-43e6-9a41-2caa666731a5\")) {                    Plotly.newPlot(                        \"d091e911-231a-43e6-9a41-2caa666731a5\",                        [{\"customdata\":[[\"$$$$\",4.5],[\"$$\",4.5],[\"$$\",4.5],[\"$$\",4.5],[\"$$$\",4.5],[\"$$\",4.5],[\"$$\",4.5],[\"$$\",4.5],[\"$$\",4.5],[\"$\",4.5],[\"$$\",4.5],[\"$$\",4.5],[\"$$$$\",4.0],[\"$$\",4.5],[\"$$\",4.5],[\"$$\",4.0],[\"$$\",4.5],[\"$$$$\",4.5],[\"$$$$\",4.0],[\"$\",4.0],[\"$$$$\",4.5],[\"$\",4.5],[\"$$\",4.5],[\"$$$$\",5.0],[\"$$$\",4.0],[\"$$\",4.5],[\"$$$\",4.0],[\"$$$\",4.5],[\"$$$\",4.5],[\"$$$$\",4.5],[\"$$$$\",4.5],[\"$$\",4.5],[\"$$$$\",4.5],[\"$$$\",4.5],[\"$$\",4.5],[\"$$$\",4.5],[\"$$$\",4.5],[\"$$\",4.0],[\"$$$$\",4.5],[\"$$$\",4.0],[\"$$$\",4.5],[\"$$$\",4.5],[\"$$\",4.5],[\"$$$\",4.0],[\"$$\",4.5],[\"$$$\",4.0],[\"$$$\",4.0],[\"$$$\",4.5],[\"$$\",4.0],[\"$$\",4.0],[\"$\",4.5],[\"$$\",4.0],[\"$$\",4.5],[\"$$\",4.0],[\"$$\",4.0],[\"$$\",4.5],[\"$$\",4.5],[\"$$\",4.0],[\"$$$\",4.5],[\"$$$$\",4.5],[\"$$$$\",4.5],[\"$$$\",4.5],[\"$\",4.0],[\"$$$\",4.5],[\"$$\",4.5],[\"$$$\",4.0],[\"$$\",4.5],[\"$$$$\",4.5],[\"$$$\",4.0],[\"$$\",4.0],[\"$$$$\",4.0],[\"$$\",4.0],[\"$$\",4.0],[\"$$\",4.0],[\"$$\",4.5],[\"$$\",4.5],[\"$$\",4.5],[\"$$\",4.0],[\"$$\",5.0],[\"$$$\",4.0],[\"$$\",4.0],[\"$$$\",4.5],[\"$$$\",4.0],[\"$$\",4.5],[\"$$$$\",4.5],[\"$$\",4.0],[\"$$\",4.0],[\"$$\",4.5],[\"$$\",4.0],[\"$$\",4.0],[\"$$$$\",4.5],[\"$$\",4.5],[\"$$$\",4.0],[\"$$$$\",5.0],[\"$$\",4.0],[\"$$\",4.5],[\"$$\",4.0],[\"$$\",4.5],[\"$$\",4.0],[\"$$$$\",4.5],[\"$$\",4.0],[\"$$\",4.0],[\"$$$\",4.5],[\"$$\",4.0],[\"$$\",4.0],[\"$$\",4.5],[\"$$\",4.0],[\"$$$\",4.0],[\"$$\",4.5],[\"$$$$\",4.5],[\"$$$\",4.5],[\"$$\",4.0],[\"$$\",4.5],[\"$$\",4.0],[\"$$\",4.5],[\"$$\",4.5],[\"$$\",4.0],[\"$$\",4.5],[\"$$\",4.5],[\"$$$\",4.5],[\"$$$\",4.0],[\"$$\",4.5],[\"$$\",4.5],[\"$$$$\",4.5],[\"$$$\",4.5],[\"$\",4.0],[\"$$\",4.0],[\"$$\",4.5],[\"$$\",4.0],[\"$$\",4.5],[\"$$$\",4.0],[\"$$\",4.0],[\"$$\",4.5],[\"$$$$\",4.5],[\"$$\",4.0],[\"$\",4.5],[\"$$\",4.0],[\"$$\",4.5],[\"$$$\",4.0],[\"$$$\",4.0],[\"$$\",4.0],[\"$$\",4.5],[\"$$\",4.5],[\"$$\",4.5],[\"$$\",4.0],[\"$$\",4.5],[\"$$\",4.5],[\"$$$$\",4.5],[\"$$\",4.5],[\"$$$$\",4.0],[\"$$\",4.5],[\"$$$$\",4.5],[\"$$\",4.5],[\"$$$\",4.0],[\"$$$\",4.5],[\"$$\",4.0],[\"$$\",4.5],[\"$$$$\",5.0],[\"$$\",4.0],[\"$$\",4.5],[\"$$\",4.5],[\"$$\",3.5],[\"$$$\",4.5],[\"$$\",4.5],[\"$\",4.0],[\"$$$$\",4.5],[\"$$$\",4.0],[\"$$\",4.5],[\"$$$\",4.5],[\"$$\",4.5],[\"$$\",4.0],[\"$$\",4.0],[\"$$\",4.5],[\"$$\",4.5],[\"$\",4.5],[\"$$\",4.0],[\"$$\",4.0],[\"$$$\",4.0],[\"$$$$\",5.0],[\"$$\",4.0],[\"$$$$\",4.5],[\"$$$\",4.0],[\"$$\",4.0],[\"$$\",4.5],[\"$$\",4.0],[\"$$\",4.0],[\"$$\",4.5],[\"$$\",4.0],[\"$$\",4.0],[\"$$$\",4.0],[\"$$\",4.0],[\"$$\",4.0],[\"$\",4.5],[\"$$\",4.0],[\"$$$$\",4.5],[\"$$\",4.5],[\"$$\",4.5],[\"$$\",4.0],[\"$$\",4.0],[\"$$$$\",4.5],[\"$$\",4.5],[\"$$\",4.5],[\"$$\",4.0],[\"$$\",4.5],[\"$$\",4.5],[\"$$\",4.5],[\"$$\",4.0],[\"$\",3.5],[\"$$\",4.0],[\"$$\",4.5],[\"$$\",4.0],[\"$$\",4.0],[\"$$\",4.0],[\"$$$$\",4.0],[\"$$\",4.5],[\"$\",4.5],[\"$$$\",4.0],[\"$$$$\",4.0],[\"$$\",4.5],[\"$$\",4.5],[\"$\",5.0],[\"$$\",4.0],[\"$$\",4.5],[\"$$$\",4.0],[\"$$\",4.5],[\"$$$$\",5.0],[\"$$\",3.5],[\"$$\",4.0],[\"$$\",4.0],[\"$$\",4.0],[\"$$\",4.5],[\"$$\",4.0],[\"$$\",4.5],[\"$$$$\",4.5],[\"$\",4.0],[\"$$\",4.0],[\"$$\",4.0],[\"$$\",4.5],[\"$$\",4.5],[\"$$\",4.0],[\"$$$$\",4.5],[\"$$\",4.0],[\"$$$\",4.0],[\"$$\",4.0],[\"$$\",4.5],[\"$$\",4.0]],\"hovertemplate\":\"\\u003cb\\u003e%{hovertext}\\u003c\\u002fb\\u003e\\u003cbr\\u003e\\u003cbr\\u003elat=%{lat}\\u003cbr\\u003elong=%{lon}\\u003cbr\\u003eprice=%{customdata[0]}\\u003cbr\\u003erating=%{customdata[1]}\\u003cextra\\u003e\\u003c\\u002fextra\\u003e\",\"hovertext\":[\"JUA\",\"Bua Thai Ramen & Robata Grill\",\"Tonchin\",\"Fish Cheeks\",\"Top Thai Vintage\",\"Raku\",\"5ive Spice\",\"THEP Thai Restaurant\",\"Up Thai\",\"Taiyaki NYC\",\"Tomi Jazz\",\"Very Fresh Noodles\",\"Buddakan\",\"Hanoi House\",\"JoJu\",\"Ippudo Westside\",\"PLANTA Queen Nomad\",\"Sushi Nakazawa\",\"COTE Korean Steakhouse\",\"The Halal Guys\",\"Oiji Mi\",\"Wah Fung No 1\",\"Szechuan Mountain House\",\"Secchu Yokota\",\"DOMODOMO - New York\",\"Kyuramen - Park Slope\",\"Wayan\",\"Izakaya Juraku\",\"Yopparai\",\"Sushi By M\",\"Shiki Omakase\",\"KazuNori | NoMad\",\"Little Mad\",\"Yoon Haeundae Galbi\",\"Benemon\",\"Shukette\",\"Kimura\",\"Lemongrass Brooklyn\",\"Kochi\",\"ilili Restaurant\",\"NR\",\"Boutros\",\"Chow House\",\"Brooklyn Chop House\",\"Nan Xiang Xiao Long Bao - Manhattan\",\"Hometown Hotpot & BBQ\",\"Kimika\",\"Nowon East Village \",\"Tasty Hand-Pulled Noodles\",\"Grace Street\",\"Shu Jiao Fu Zhou\",\"Au Za'atar\",\"Hao Noodle Chelsea\",\"Birds of a Feather\",\"Caf\\u00e9 China\",\"Aoi Kitchen\",\"ICHIRAN - Times Square\",\"Shanghai 21\",\"Ye's Apothecary\",\"Chef's Table at Brooklyn Fare\",\"Takumi Omakase\",\"Sagaponack\",\"Vanessa's Dumpling House\",\"Hortus NYC\",\"wagamama - midtown\",\"99 Favor Taste - New York\",\"Ramen Ishida\",\"Tanoshi Sushi Sake Bar\",\"Dhamaka\",\"Izakaya NoMad\",\"Llama San\",\"Set LES\",\"Han Dynasty\",\"Uncle Lou\",\"Okiboru House of Tsukemen\",\"The Drunken Munkey - UES\",\"LumLum \",\"Cho Dang Gol Korean Restaurant\",\"Little Kirin\",\"EN Japanese Brasserie\",\"Gyu-Kaku Japanese BBQ\",\"Kuun\",\"Antoya Korean BBQ\",\"Spicy Moon East Village\",\"Atomix\",\"Sushi Yasaka\",\"Basta Pasta\",\"Turntable LP Bar & Karaoke\",\"ChikaLicious Dessert Bar\",\"Somtum Der\",\"Sushi By Bo\\u016b - NoMad\",\"Mr Mista Oh\",\"Juku\",\"Omakase By Korami\",\"Nourish\",\"Paratha Wala\",\"886\",\"Kalye\",\"BCD Tofu House\",\"Hirohisa\",\"Hao Noodle - West Village\",\"Di An Di\",\"Nami Nori\",\"Woorijip\",\"Samurai Mama\",\"Liu's Shanghai\",\"Pure Thai Cookhouse\",\"1 OR 8\",\"Trad Room\",\"Genki Omakase\",\"Sake Kawa\",\"The Bao\",\"Simple NYC\",\"MONO+MONO\",\"Mazu Szechuan\",\"Pinklady Cheese Tart\",\"Yin Ji Chang Fen Rice Roll\",\"Al Badawi\",\"Izakaya Fuku\",\"Laser Wolf\",\"Tamarind\",\"K-Top Chicken\",\"Bangkok Degree\",\"The Chemistry Room\",\"Laojie Hotpot\",\"Xi'an Famous Foods\",\"Ramen Danbo\",\"Ai Ki Ya\",\"Soju Haus\",\"Peng's Noodle Folk\",\"Momoya SoHo\",\"Izakaya\",\"Milu\",\"Sushi Zo | New York\",\"The Original Buddha Bodai Kosher Vegetarian Restaurant\",\"Royal Grill Halal Food\",\"Kimchi Grill\",\"One More Charm\",\"Hou Yi Hot Pot\",\"Karasu\",\"3 Times\",\"YUBU\",\"Burp Bowl Cafe\",\"Curry House\",\"Eight Turn Cr\\u00eape\",\"Queen\",\"Hey Yuet\",\"Omakase Room by Mitsu\",\"Hupo\",\"Hiyake Omakase\",\"Malii Gramercy\",\"Sushi Kai - East Village\",\"Levantine\",\"SUteiShi\",\"Taiki\",\"Five Senses\",\"Sabry's\",\"Tsukimi\",\"Sapps\",\"Tradisyon\",\"Geido\",\"Boka\",\"ONDO Jersey City\",\"ACRE\",\"China North Dumpling \\u5317\\u65b9\\u934b\\u8cbc\",\"Kosaka\",\"KPOT Korean BBQ & Hot Pot\",\"Zatar\",\"Towa\",\"Spice Symphony\",\"Wanisa Home Kitchen\",\"Golda\",\"The Best Sichuan\",\"Saiguette\",\"Bites of Xi'an\",\"Java Indonesian Restaurant\",\"Baoburg\",\"KYU - New York\",\"Mr. Jones Supper Club\",\"Mamoun's Falafel\",\"NARO\",\"SUGARFISH | Soho\",\"Watawa Sushi\",\"Savory Thai\",\"Ichibantei\",\"Old Xi'an\",\"Accent Restaurant & Bar\",\"Shinsen\",\"Kazuza\",\"Sen Sakana\",\"Ayada Thai\",\"Ming Wong Restaurant\",\"Ling Kee Beef Jerky\",\"Ako\",\"Maison Sun\",\"Za-Ya Ramen\",\"Umami Sushi\",\"Sao Mai\",\"Pecking House\",\"Sushi Kaito\",\"Kin Ramen\",\"TJ Asian Bistro\",\"Ootoya Union Square\",\"Salma\",\"Banh Mi Zon\",\"Blossom Ice Cream & The Pok\\u00e9\",\"Little Mo\",\"Great NY Noodle Town\",\"Suzume\",\"Dar 525\",\"Momo Sushi Shack\",\"Falansai\",\"HinoMaru Ramen\",\"Kanoyama\",\"Matsuri\",\"Yi Ji Shi Mo Noodle Corp\",\"SUGARFISH | Flatiron\",\"Joomak Banjum\",\"Cardamom Indian cuisine\",\"Nostrand Cafe\",\"Zongzi lady\",\"Little Rascal\",\"Mr. Sun\",\"Takahachi Tribeca Restaurant\",\"Phil-Am Kusina\",\"Trust Bae\",\"Wu's Wonton King\",\"Ki Sushi\",\"Xi'an Famous Foods\",\"Kings Co Imperial\",\"Dun Huang -  Grand Central\",\"LUNA  Asian Bistro & Lounge\",\"Chu Ros Thai\",\"Matsunori\",\"Oh K-Dog\",\"Totto Ramen Hell's Kitchen\",\"Gu Japanese Fusion Sushi & Bar\",\"Aahar Indian Cuisine\",\"Ramen Danbo\",\"Tuk Tuk\",\"Kono\",\"Banh Mi Place\",\"Vatan Indian Vegetarian\",\"Copper Throat Thai Cuisine\",\"Mughlai Indian Cuisine\",\"Am Thai Bistro\"],\"lat\":[40.739694,40.7763615,40.7502727,40.7258,40.72990742,40.7264988089,40.681442,40.77078,40.7698275927,40.71789,40.75725,40.74207,40.7422762672,40.727066,40.74070517,40.76344,40.744435,40.731746522899996,40.741046,40.761861,40.73966,40.71735,40.72911,40.7228416514,40.7280299,40.67791,40.7213813139,40.7196796287,40.7197501398,40.72659,40.72654,40.74519,40.74502,40.7499675032,40.72551,40.74745,40.7290432506,40.688684,40.762010000000004,40.74435,40.770153,40.6901481294,40.72915,40.71151,40.7482252753,40.71931,40.720572,40.72532,40.7142,40.7478576794,40.7174109,40.728901,40.7406999,40.71442,40.751587,40.72683167,40.7600737531,40.71441,40.71945,40.756125995,40.7218841,40.741019,40.71839,40.745481,40.763160413,40.7176199,40.7196298,40.767568,40.7180658,40.74409,40.73225,40.7198495418,40.732072,40.71623,40.719348,40.78098,40.7629,40.7502365112,40.72782,40.7306,40.7591422379,40.6884292,40.74811,40.72674,40.74421,40.779583,40.73881,40.74769,40.7296463653,40.7252151982,40.745939,40.74324,40.71461,40.7635033079,40.677941,40.71044,40.72877,40.7179,40.7476973488,40.724597,40.733486319,40.72969,40.7191396454,40.74747,40.714247,40.6026411896,40.764291,40.6896859,40.68391,40.72933,40.7563,40.72939,40.71821,40.72549,40.745233999999996,40.7141357508,40.71583,40.69059,40.74635,40.720809,40.71909,40.71499,40.6747232719,40.75844,40.6389709339,40.755136,40.6761199579,40.74873,40.7468603,40.7711335539,40.72349,40.72667,40.741084,40.7297821045,40.7138543,40.7562107329,40.6750885,40.669892,40.7161793,40.6893727909,40.718271,40.72702,40.74183,40.714704354,40.6911103553,40.706071,40.747241,40.73382,40.742827,40.71871,40.73767,40.728498,40.715385,40.70788,40.6845433545,40.7475731586,40.768311,40.72908,40.74762,40.76491,40.67792,40.729519,40.72084,40.72633,40.7158,40.7381972956,40.69088,40.6980763645,40.7442,40.7558937073,40.687,40.68151,40.75266,40.7990529691,40.688006,40.662645,40.7234929272,40.7256179673,40.7317819,40.728721,40.7581054545,40.725117,40.774959,40.71395,40.7325968005,40.70591,40.74303,40.71558,40.72602,40.7552257152,40.7434403431,40.71601,40.71466,40.7168599,40.6885397234,40.6741699,40.73571,40.730362,40.6796443,40.779199,40.76435,40.7461895,40.73316,40.7303699423,40.72572,40.6892919,40.69701,40.715,40.7131652,40.72308,40.70512,40.70676,40.7748899167,40.730545186,40.7458357,40.71824,40.73901,40.74701,40.7438892342,40.689746,40.7181661,40.7208633,40.75809,40.71659,40.6123064741,40.7463491877,40.7139415502,40.68764,40.7243301735,40.7180159,40.74922,40.7573,40.78922,40.72088,40.72104,40.765055,40.75743,40.71334,40.7298950459,40.743232,40.71568,40.6732865,40.74236,40.71978,40.78002,40.6468364563],\"legendgroup\":\"\",\"lon\":[-73.987832,-73.95308,-73.9844951,-73.9927,-74.004213804,-73.9866526052,-73.977241,-73.95727,-73.9576330869,-73.9988,-73.96774,-74.00565,-74.0048000962,-73.983505,-73.8793501821,-73.98661,-73.98832,-74.0045493828,-73.991421,-73.979306,-73.99247,-73.99457,-73.98858,-73.9831015,-74.00167,-73.97929,-73.9950757665,-73.9887088537,-73.9848855773,-73.98873,-73.99956,-73.98824,-73.98513,-73.9844309551,-73.98838,-74.00041,-73.9882174,-73.993137,-73.99351,-73.98778,-73.954956,-73.9935445413,-74.00072,-74.00597,-73.9857786,-73.99689,-73.995206,-73.98334,-73.99787,-73.9865590632,-73.992100412,-73.981185,-74.00436,-73.960441,-73.985815,-73.98754333,-73.9833259411,-73.99902,-73.9898,-73.9965955641,-73.9866691,-73.990692,-73.9917399,-73.986518,-73.9788544409,-73.99249,-73.988366,-73.952815,-73.9881304,-73.98945,-74.00078,-73.9885318279,-73.988074,-73.99925,-73.989706,-73.94751,-73.98991,-73.9861984253,-73.98551,-74.00698,-73.9898985543,-73.9831506,-73.9872,-73.98722,-73.98286,-73.983482,-73.99407,-73.98735,-73.9862015437,-73.9842741682,-73.983523,-73.99123,-73.999528,-73.989323,-73.968455,-73.84942,-73.98873,-73.98999,-73.9860685308,-74.003174,-73.9998929006,-73.95827,-73.9528407272,-73.98648,-73.960055,-74.0038766549,-73.988159,-73.9703551,-73.929419,-73.99808,-73.92855,-73.9889199,-73.99223,-73.98803,-73.97812,-73.9988519624,-73.999336,-73.99503,-73.89383,-73.958752,-74.00892,-73.95833,-73.9757981977,-73.98306,-74.0046846944,-73.982194,-73.974519968,-73.98705,-73.9851724,-73.962035427,-73.99579,-73.98738,-73.985324,-73.9992218018,-73.9989484,-73.9833494825,-73.9634982,-73.979454,-73.9925896,-73.9732461,-73.985209,-73.98608,-73.98271,-73.9977050234,-73.9831850898,-73.922414,-73.996441,-74.00042,-73.953575,-73.9945,-73.98128,-73.98615,-73.944839,-74.00194,-73.9837775426,-73.9863122632,-73.91112,-73.98541,-73.94008,-73.987537,-73.97266,-73.989104,-74.03199,-73.95471,-73.9898,-74.001444988,-73.98378,-73.9245712109,-73.99062,-73.971534729,-73.99042,-73.95591,-73.98459,-73.9628195532,-73.982083,-73.9847769,-73.9503321851,-73.9952634137,-74.0025704,-73.988554,-73.9778530962,-74.003685,-73.9095,-73.95554,-73.9880024,-74.00747,-73.97986,-73.9967,-73.98393,-73.98163,-73.887628037,-73.99838,-73.99148,-73.95845,-73.9854437478,-73.99968,-74.00044,-73.98362,-73.97457729999999,-73.983662,-73.97904,-73.9136856,-73.99273,-73.9837222575,-73.98428,-73.9916948,-73.93368,-73.99706,-73.9494479,-73.9452699,-73.933463,-73.92877,-73.9092001319,-73.9865440288,-73.9035436,-73.99583,-73.98882,-73.98583,-73.9212168609,-73.951286,-73.9938466,-73.9950497,-73.98026,-74.007919,-74.0712469296,-73.9882882411,-73.9899386554,-73.9901,-73.9509299397,-73.9853739,-73.97785,-73.92068,-73.94873,-73.98981,-73.98804,-73.991001,-73.97042,-74.0081,-74.0034680129,-73.954254,-73.99664,-73.9631,-73.9803699,-73.98877,-73.94978,-73.9701736994],\"marker\":{\"color\":\"#636efa\"},\"mode\":\"markers\",\"name\":\"\",\"showlegend\":false,\"subplot\":\"mapbox\",\"type\":\"scattermapbox\"}],                        {\"template\":{\"data\":{\"histogram2dcontour\":[{\"type\":\"histogram2dcontour\",\"colorbar\":{\"outlinewidth\":0,\"ticks\":\"\"},\"colorscale\":[[0.0,\"#0d0887\"],[0.1111111111111111,\"#46039f\"],[0.2222222222222222,\"#7201a8\"],[0.3333333333333333,\"#9c179e\"],[0.4444444444444444,\"#bd3786\"],[0.5555555555555556,\"#d8576b\"],[0.6666666666666666,\"#ed7953\"],[0.7777777777777778,\"#fb9f3a\"],[0.8888888888888888,\"#fdca26\"],[1.0,\"#f0f921\"]]}],\"choropleth\":[{\"type\":\"choropleth\",\"colorbar\":{\"outlinewidth\":0,\"ticks\":\"\"}}],\"histogram2d\":[{\"type\":\"histogram2d\",\"colorbar\":{\"outlinewidth\":0,\"ticks\":\"\"},\"colorscale\":[[0.0,\"#0d0887\"],[0.1111111111111111,\"#46039f\"],[0.2222222222222222,\"#7201a8\"],[0.3333333333333333,\"#9c179e\"],[0.4444444444444444,\"#bd3786\"],[0.5555555555555556,\"#d8576b\"],[0.6666666666666666,\"#ed7953\"],[0.7777777777777778,\"#fb9f3a\"],[0.8888888888888888,\"#fdca26\"],[1.0,\"#f0f921\"]]}],\"heatmap\":[{\"type\":\"heatmap\",\"colorbar\":{\"outlinewidth\":0,\"ticks\":\"\"},\"colorscale\":[[0.0,\"#0d0887\"],[0.1111111111111111,\"#46039f\"],[0.2222222222222222,\"#7201a8\"],[0.3333333333333333,\"#9c179e\"],[0.4444444444444444,\"#bd3786\"],[0.5555555555555556,\"#d8576b\"],[0.6666666666666666,\"#ed7953\"],[0.7777777777777778,\"#fb9f3a\"],[0.8888888888888888,\"#fdca26\"],[1.0,\"#f0f921\"]]}],\"heatmapgl\":[{\"type\":\"heatmapgl\",\"colorbar\":{\"outlinewidth\":0,\"ticks\":\"\"},\"colorscale\":[[0.0,\"#0d0887\"],[0.1111111111111111,\"#46039f\"],[0.2222222222222222,\"#7201a8\"],[0.3333333333333333,\"#9c179e\"],[0.4444444444444444,\"#bd3786\"],[0.5555555555555556,\"#d8576b\"],[0.6666666666666666,\"#ed7953\"],[0.7777777777777778,\"#fb9f3a\"],[0.8888888888888888,\"#fdca26\"],[1.0,\"#f0f921\"]]}],\"contourcarpet\":[{\"type\":\"contourcarpet\",\"colorbar\":{\"outlinewidth\":0,\"ticks\":\"\"}}],\"contour\":[{\"type\":\"contour\",\"colorbar\":{\"outlinewidth\":0,\"ticks\":\"\"},\"colorscale\":[[0.0,\"#0d0887\"],[0.1111111111111111,\"#46039f\"],[0.2222222222222222,\"#7201a8\"],[0.3333333333333333,\"#9c179e\"],[0.4444444444444444,\"#bd3786\"],[0.5555555555555556,\"#d8576b\"],[0.6666666666666666,\"#ed7953\"],[0.7777777777777778,\"#fb9f3a\"],[0.8888888888888888,\"#fdca26\"],[1.0,\"#f0f921\"]]}],\"surface\":[{\"type\":\"surface\",\"colorbar\":{\"outlinewidth\":0,\"ticks\":\"\"},\"colorscale\":[[0.0,\"#0d0887\"],[0.1111111111111111,\"#46039f\"],[0.2222222222222222,\"#7201a8\"],[0.3333333333333333,\"#9c179e\"],[0.4444444444444444,\"#bd3786\"],[0.5555555555555556,\"#d8576b\"],[0.6666666666666666,\"#ed7953\"],[0.7777777777777778,\"#fb9f3a\"],[0.8888888888888888,\"#fdca26\"],[1.0,\"#f0f921\"]]}],\"mesh3d\":[{\"type\":\"mesh3d\",\"colorbar\":{\"outlinewidth\":0,\"ticks\":\"\"}}],\"scatter\":[{\"fillpattern\":{\"fillmode\":\"overlay\",\"size\":10,\"solidity\":0.2},\"type\":\"scatter\"}],\"parcoords\":[{\"type\":\"parcoords\",\"line\":{\"colorbar\":{\"outlinewidth\":0,\"ticks\":\"\"}}}],\"scatterpolargl\":[{\"type\":\"scatterpolargl\",\"marker\":{\"colorbar\":{\"outlinewidth\":0,\"ticks\":\"\"}}}],\"bar\":[{\"error_x\":{\"color\":\"#2a3f5f\"},\"error_y\":{\"color\":\"#2a3f5f\"},\"marker\":{\"line\":{\"color\":\"#E5ECF6\",\"width\":0.5},\"pattern\":{\"fillmode\":\"overlay\",\"size\":10,\"solidity\":0.2}},\"type\":\"bar\"}],\"scattergeo\":[{\"type\":\"scattergeo\",\"marker\":{\"colorbar\":{\"outlinewidth\":0,\"ticks\":\"\"}}}],\"scatterpolar\":[{\"type\":\"scatterpolar\",\"marker\":{\"colorbar\":{\"outlinewidth\":0,\"ticks\":\"\"}}}],\"histogram\":[{\"marker\":{\"pattern\":{\"fillmode\":\"overlay\",\"size\":10,\"solidity\":0.2}},\"type\":\"histogram\"}],\"scattergl\":[{\"type\":\"scattergl\",\"marker\":{\"colorbar\":{\"outlinewidth\":0,\"ticks\":\"\"}}}],\"scatter3d\":[{\"type\":\"scatter3d\",\"line\":{\"colorbar\":{\"outlinewidth\":0,\"ticks\":\"\"}},\"marker\":{\"colorbar\":{\"outlinewidth\":0,\"ticks\":\"\"}}}],\"scattermapbox\":[{\"type\":\"scattermapbox\",\"marker\":{\"colorbar\":{\"outlinewidth\":0,\"ticks\":\"\"}}}],\"scatterternary\":[{\"type\":\"scatterternary\",\"marker\":{\"colorbar\":{\"outlinewidth\":0,\"ticks\":\"\"}}}],\"scattercarpet\":[{\"type\":\"scattercarpet\",\"marker\":{\"colorbar\":{\"outlinewidth\":0,\"ticks\":\"\"}}}],\"carpet\":[{\"aaxis\":{\"endlinecolor\":\"#2a3f5f\",\"gridcolor\":\"white\",\"linecolor\":\"white\",\"minorgridcolor\":\"white\",\"startlinecolor\":\"#2a3f5f\"},\"baxis\":{\"endlinecolor\":\"#2a3f5f\",\"gridcolor\":\"white\",\"linecolor\":\"white\",\"minorgridcolor\":\"white\",\"startlinecolor\":\"#2a3f5f\"},\"type\":\"carpet\"}],\"table\":[{\"cells\":{\"fill\":{\"color\":\"#EBF0F8\"},\"line\":{\"color\":\"white\"}},\"header\":{\"fill\":{\"color\":\"#C8D4E3\"},\"line\":{\"color\":\"white\"}},\"type\":\"table\"}],\"barpolar\":[{\"marker\":{\"line\":{\"color\":\"#E5ECF6\",\"width\":0.5},\"pattern\":{\"fillmode\":\"overlay\",\"size\":10,\"solidity\":0.2}},\"type\":\"barpolar\"}],\"pie\":[{\"automargin\":true,\"type\":\"pie\"}]},\"layout\":{\"autotypenumbers\":\"strict\",\"colorway\":[\"#636efa\",\"#EF553B\",\"#00cc96\",\"#ab63fa\",\"#FFA15A\",\"#19d3f3\",\"#FF6692\",\"#B6E880\",\"#FF97FF\",\"#FECB52\"],\"font\":{\"color\":\"#2a3f5f\"},\"hovermode\":\"closest\",\"hoverlabel\":{\"align\":\"left\"},\"paper_bgcolor\":\"white\",\"plot_bgcolor\":\"#E5ECF6\",\"polar\":{\"bgcolor\":\"#E5ECF6\",\"angularaxis\":{\"gridcolor\":\"white\",\"linecolor\":\"white\",\"ticks\":\"\"},\"radialaxis\":{\"gridcolor\":\"white\",\"linecolor\":\"white\",\"ticks\":\"\"}},\"ternary\":{\"bgcolor\":\"#E5ECF6\",\"aaxis\":{\"gridcolor\":\"white\",\"linecolor\":\"white\",\"ticks\":\"\"},\"baxis\":{\"gridcolor\":\"white\",\"linecolor\":\"white\",\"ticks\":\"\"},\"caxis\":{\"gridcolor\":\"white\",\"linecolor\":\"white\",\"ticks\":\"\"}},\"coloraxis\":{\"colorbar\":{\"outlinewidth\":0,\"ticks\":\"\"}},\"colorscale\":{\"sequential\":[[0.0,\"#0d0887\"],[0.1111111111111111,\"#46039f\"],[0.2222222222222222,\"#7201a8\"],[0.3333333333333333,\"#9c179e\"],[0.4444444444444444,\"#bd3786\"],[0.5555555555555556,\"#d8576b\"],[0.6666666666666666,\"#ed7953\"],[0.7777777777777778,\"#fb9f3a\"],[0.8888888888888888,\"#fdca26\"],[1.0,\"#f0f921\"]],\"sequentialminus\":[[0.0,\"#0d0887\"],[0.1111111111111111,\"#46039f\"],[0.2222222222222222,\"#7201a8\"],[0.3333333333333333,\"#9c179e\"],[0.4444444444444444,\"#bd3786\"],[0.5555555555555556,\"#d8576b\"],[0.6666666666666666,\"#ed7953\"],[0.7777777777777778,\"#fb9f3a\"],[0.8888888888888888,\"#fdca26\"],[1.0,\"#f0f921\"]],\"diverging\":[[0,\"#8e0152\"],[0.1,\"#c51b7d\"],[0.2,\"#de77ae\"],[0.3,\"#f1b6da\"],[0.4,\"#fde0ef\"],[0.5,\"#f7f7f7\"],[0.6,\"#e6f5d0\"],[0.7,\"#b8e186\"],[0.8,\"#7fbc41\"],[0.9,\"#4d9221\"],[1,\"#276419\"]]},\"xaxis\":{\"gridcolor\":\"white\",\"linecolor\":\"white\",\"ticks\":\"\",\"title\":{\"standoff\":15},\"zerolinecolor\":\"white\",\"automargin\":true,\"zerolinewidth\":2},\"yaxis\":{\"gridcolor\":\"white\",\"linecolor\":\"white\",\"ticks\":\"\",\"title\":{\"standoff\":15},\"zerolinecolor\":\"white\",\"automargin\":true,\"zerolinewidth\":2},\"scene\":{\"xaxis\":{\"backgroundcolor\":\"#E5ECF6\",\"gridcolor\":\"white\",\"linecolor\":\"white\",\"showbackground\":true,\"ticks\":\"\",\"zerolinecolor\":\"white\",\"gridwidth\":2},\"yaxis\":{\"backgroundcolor\":\"#E5ECF6\",\"gridcolor\":\"white\",\"linecolor\":\"white\",\"showbackground\":true,\"ticks\":\"\",\"zerolinecolor\":\"white\",\"gridwidth\":2},\"zaxis\":{\"backgroundcolor\":\"#E5ECF6\",\"gridcolor\":\"white\",\"linecolor\":\"white\",\"showbackground\":true,\"ticks\":\"\",\"zerolinecolor\":\"white\",\"gridwidth\":2}},\"shapedefaults\":{\"line\":{\"color\":\"#2a3f5f\"}},\"annotationdefaults\":{\"arrowcolor\":\"#2a3f5f\",\"arrowhead\":0,\"arrowwidth\":1},\"geo\":{\"bgcolor\":\"white\",\"landcolor\":\"#E5ECF6\",\"subunitcolor\":\"white\",\"showland\":true,\"showlakes\":true,\"lakecolor\":\"white\"},\"title\":{\"x\":0.05},\"mapbox\":{\"style\":\"light\"}}},\"mapbox\":{\"domain\":{\"x\":[0.0,1.0],\"y\":[0.0,1.0]},\"center\":{\"lat\":40.72758458415976,\"lon\":-73.97994324921221},\"zoom\":10,\"style\":\"carto-positron\"},\"legend\":{\"tracegroupgap\":0},\"margin\":{\"t\":60},\"height\":600},                        {\"responsive\": true}                    ).then(function(){\n",
       "                            \n",
       "var gd = document.getElementById('d091e911-231a-43e6-9a41-2caa666731a5');\n",
       "var x = new MutationObserver(function (mutations, observer) {{\n",
       "        var display = window.getComputedStyle(gd).display;\n",
       "        if (!display || display === 'none') {{\n",
       "            console.log([gd, 'removed!']);\n",
       "            Plotly.purge(gd);\n",
       "            observer.disconnect();\n",
       "        }}\n",
       "}});\n",
       "\n",
       "// Listen for the removal of the full notebook cells\n",
       "var notebookContainer = gd.closest('#notebook-container');\n",
       "if (notebookContainer) {{\n",
       "    x.observe(notebookContainer, {childList: true});\n",
       "}}\n",
       "\n",
       "// Listen for the clearing of the current output cell\n",
       "var outputEl = gd.closest('.output');\n",
       "if (outputEl) {{\n",
       "    x.observe(outputEl, {childList: true});\n",
       "}}\n",
       "\n",
       "                        })                };                });            </script>        </div>"
      ]
     },
     "metadata": {},
     "output_type": "display_data"
    }
   ],
   "source": [
    "#try to create the distribution map of places with asian cuisine with plotly express\n",
    "!pip install plotly\n",
    "import plotly.express as px\n",
    "\n",
    "fig = px.scatter_mapbox(SEA_df3_gdf, lat='lat', lon='long',\n",
    "                        hover_name='name',\n",
    "                        hover_data=['price', 'rating'],\n",
    "                        mapbox_style=\"carto-positron\",\n",
    "                        zoom=10, height=600)\n",
    "\n",
    "fig.show()\n",
    "fig.write_html(\"map_output1.html\")"
   ]
  },
  {
   "cell_type": "code",
   "execution_count": 67,
   "id": "7507749b",
   "metadata": {
    "scrolled": true
   },
   "outputs": [
    {
     "data": {
      "text/html": [
       "<div>\n",
       "<style scoped>\n",
       "    .dataframe tbody tr th:only-of-type {\n",
       "        vertical-align: middle;\n",
       "    }\n",
       "\n",
       "    .dataframe tbody tr th {\n",
       "        vertical-align: top;\n",
       "    }\n",
       "\n",
       "    .dataframe thead th {\n",
       "        text-align: right;\n",
       "    }\n",
       "</style>\n",
       "<table border=\"1\" class=\"dataframe\">\n",
       "  <thead>\n",
       "    <tr style=\"text-align: right;\">\n",
       "      <th></th>\n",
       "      <th>id</th>\n",
       "      <th>alias</th>\n",
       "      <th>name</th>\n",
       "      <th>image_url</th>\n",
       "      <th>is_closed</th>\n",
       "      <th>url</th>\n",
       "      <th>review_count</th>\n",
       "      <th>categories</th>\n",
       "      <th>rating</th>\n",
       "      <th>coordinates</th>\n",
       "      <th>transactions</th>\n",
       "      <th>price</th>\n",
       "      <th>location</th>\n",
       "      <th>phone</th>\n",
       "      <th>display_phone</th>\n",
       "      <th>distance</th>\n",
       "      <th>lat</th>\n",
       "      <th>long</th>\n",
       "      <th>POINTS</th>\n",
       "    </tr>\n",
       "  </thead>\n",
       "  <tbody>\n",
       "    <tr>\n",
       "      <th>0</th>\n",
       "      <td>nRO136GRieGtxz18uD61DA</td>\n",
       "      <td>eleven-madison-park-new-york</td>\n",
       "      <td>Eleven Madison Park</td>\n",
       "      <td>https://s3-media1.fl.yelpcdn.com/bphoto/s_H7gm...</td>\n",
       "      <td>False</td>\n",
       "      <td>https://www.yelp.com/biz/eleven-madison-park-n...</td>\n",
       "      <td>2451</td>\n",
       "      <td>[{'alias': 'newamerican', 'title': 'American (...</td>\n",
       "      <td>4.5</td>\n",
       "      <td>{'latitude': 40.7416907417, 'longitude': -73.9...</td>\n",
       "      <td>[]</td>\n",
       "      <td>$$$$</td>\n",
       "      <td>{'address1': '11 Madison Ave', 'address2': '',...</td>\n",
       "      <td>+12128890905</td>\n",
       "      <td>(212) 889-0905</td>\n",
       "      <td>5035.227660</td>\n",
       "      <td>40.741691</td>\n",
       "      <td>-73.987207</td>\n",
       "      <td>(-73.9872074872, 40.7416907417)</td>\n",
       "    </tr>\n",
       "    <tr>\n",
       "      <th>1</th>\n",
       "      <td>SaYTVG7wHCMDBofHCgXPaA</td>\n",
       "      <td>dutch-freds-new-york-2</td>\n",
       "      <td>Dutch Freds</td>\n",
       "      <td>https://s3-media2.fl.yelpcdn.com/bphoto/312T_G...</td>\n",
       "      <td>False</td>\n",
       "      <td>https://www.yelp.com/biz/dutch-freds-new-york-...</td>\n",
       "      <td>2039</td>\n",
       "      <td>[{'alias': 'cocktailbars', 'title': 'Cocktail ...</td>\n",
       "      <td>4.5</td>\n",
       "      <td>{'latitude': 40.760835, 'longitude': -73.987823}</td>\n",
       "      <td>[delivery, pickup]</td>\n",
       "      <td>$$</td>\n",
       "      <td>{'address1': '307 W 47th St', 'address2': None...</td>\n",
       "      <td>+16469186923</td>\n",
       "      <td>(646) 918-6923</td>\n",
       "      <td>7154.324281</td>\n",
       "      <td>40.760835</td>\n",
       "      <td>-73.987823</td>\n",
       "      <td>(-73.987823, 40.760835)</td>\n",
       "    </tr>\n",
       "  </tbody>\n",
       "</table>\n",
       "</div>"
      ],
      "text/plain": [
       "                       id                         alias                 name  \\\n",
       "0  nRO136GRieGtxz18uD61DA  eleven-madison-park-new-york  Eleven Madison Park   \n",
       "1  SaYTVG7wHCMDBofHCgXPaA        dutch-freds-new-york-2          Dutch Freds   \n",
       "\n",
       "                                           image_url  is_closed  \\\n",
       "0  https://s3-media1.fl.yelpcdn.com/bphoto/s_H7gm...      False   \n",
       "1  https://s3-media2.fl.yelpcdn.com/bphoto/312T_G...      False   \n",
       "\n",
       "                                                 url  review_count  \\\n",
       "0  https://www.yelp.com/biz/eleven-madison-park-n...          2451   \n",
       "1  https://www.yelp.com/biz/dutch-freds-new-york-...          2039   \n",
       "\n",
       "                                          categories  rating  \\\n",
       "0  [{'alias': 'newamerican', 'title': 'American (...     4.5   \n",
       "1  [{'alias': 'cocktailbars', 'title': 'Cocktail ...     4.5   \n",
       "\n",
       "                                         coordinates        transactions  \\\n",
       "0  {'latitude': 40.7416907417, 'longitude': -73.9...                  []   \n",
       "1   {'latitude': 40.760835, 'longitude': -73.987823}  [delivery, pickup]   \n",
       "\n",
       "  price                                           location         phone  \\\n",
       "0  $$$$  {'address1': '11 Madison Ave', 'address2': '',...  +12128890905   \n",
       "1    $$  {'address1': '307 W 47th St', 'address2': None...  +16469186923   \n",
       "\n",
       "    display_phone     distance        lat       long  \\\n",
       "0  (212) 889-0905  5035.227660  40.741691 -73.987207   \n",
       "1  (646) 918-6923  7154.324281  40.760835 -73.987823   \n",
       "\n",
       "                            POINTS  \n",
       "0  (-73.9872074872, 40.7416907417)  \n",
       "1          (-73.987823, 40.760835)  "
      ]
     },
     "execution_count": 67,
     "metadata": {},
     "output_type": "execute_result"
    }
   ],
   "source": [
    "#afterwards, I'm interested to see the comparison of place distribution between asian cuisine places v overall dataset\n",
    "\n",
    "cleaned_df2 = cleaned_df.copy()\n",
    "# Extracting latitude and longitude from 'coordinates' column\n",
    "cleaned_df2['lat'] = cleaned_df2['coordinates'].apply(lambda x: x['latitude'])\n",
    "cleaned_df2['long'] = cleaned_df2['coordinates'].apply(lambda x: x['longitude'])\n",
    "\n",
    "from shapely.geometry import Point\n",
    "\n",
    "cleaned_df2['POINTS'] = list(zip(cleaned_df2.long, cleaned_df2.lat))\n",
    "cleaned_df2.head(2)"
   ]
  },
  {
   "cell_type": "code",
   "execution_count": 68,
   "id": "66d05bd1",
   "metadata": {},
   "outputs": [
    {
     "data": {
      "text/html": [
       "<div>\n",
       "<style scoped>\n",
       "    .dataframe tbody tr th:only-of-type {\n",
       "        vertical-align: middle;\n",
       "    }\n",
       "\n",
       "    .dataframe tbody tr th {\n",
       "        vertical-align: top;\n",
       "    }\n",
       "\n",
       "    .dataframe thead th {\n",
       "        text-align: right;\n",
       "    }\n",
       "</style>\n",
       "<table border=\"1\" class=\"dataframe\">\n",
       "  <thead>\n",
       "    <tr style=\"text-align: right;\">\n",
       "      <th></th>\n",
       "      <th>id</th>\n",
       "      <th>alias</th>\n",
       "      <th>name</th>\n",
       "      <th>image_url</th>\n",
       "      <th>is_closed</th>\n",
       "      <th>url</th>\n",
       "      <th>review_count</th>\n",
       "      <th>categories</th>\n",
       "      <th>rating</th>\n",
       "      <th>coordinates</th>\n",
       "      <th>transactions</th>\n",
       "      <th>price</th>\n",
       "      <th>location</th>\n",
       "      <th>phone</th>\n",
       "      <th>display_phone</th>\n",
       "      <th>distance</th>\n",
       "      <th>lat</th>\n",
       "      <th>long</th>\n",
       "      <th>POINTS</th>\n",
       "    </tr>\n",
       "  </thead>\n",
       "  <tbody>\n",
       "    <tr>\n",
       "      <th>0</th>\n",
       "      <td>nRO136GRieGtxz18uD61DA</td>\n",
       "      <td>eleven-madison-park-new-york</td>\n",
       "      <td>Eleven Madison Park</td>\n",
       "      <td>https://s3-media1.fl.yelpcdn.com/bphoto/s_H7gm...</td>\n",
       "      <td>False</td>\n",
       "      <td>https://www.yelp.com/biz/eleven-madison-park-n...</td>\n",
       "      <td>2451</td>\n",
       "      <td>[{'alias': 'newamerican', 'title': 'American (...</td>\n",
       "      <td>4.5</td>\n",
       "      <td>{'latitude': 40.7416907417, 'longitude': -73.9...</td>\n",
       "      <td>[]</td>\n",
       "      <td>$$$$</td>\n",
       "      <td>{'address1': '11 Madison Ave', 'address2': '',...</td>\n",
       "      <td>+12128890905</td>\n",
       "      <td>(212) 889-0905</td>\n",
       "      <td>5035.227660</td>\n",
       "      <td>40.741691</td>\n",
       "      <td>-73.987207</td>\n",
       "      <td>POINT (-73.98721 40.74169)</td>\n",
       "    </tr>\n",
       "    <tr>\n",
       "      <th>1</th>\n",
       "      <td>SaYTVG7wHCMDBofHCgXPaA</td>\n",
       "      <td>dutch-freds-new-york-2</td>\n",
       "      <td>Dutch Freds</td>\n",
       "      <td>https://s3-media2.fl.yelpcdn.com/bphoto/312T_G...</td>\n",
       "      <td>False</td>\n",
       "      <td>https://www.yelp.com/biz/dutch-freds-new-york-...</td>\n",
       "      <td>2039</td>\n",
       "      <td>[{'alias': 'cocktailbars', 'title': 'Cocktail ...</td>\n",
       "      <td>4.5</td>\n",
       "      <td>{'latitude': 40.760835, 'longitude': -73.987823}</td>\n",
       "      <td>[delivery, pickup]</td>\n",
       "      <td>$$</td>\n",
       "      <td>{'address1': '307 W 47th St', 'address2': None...</td>\n",
       "      <td>+16469186923</td>\n",
       "      <td>(646) 918-6923</td>\n",
       "      <td>7154.324281</td>\n",
       "      <td>40.760835</td>\n",
       "      <td>-73.987823</td>\n",
       "      <td>POINT (-73.98782 40.76084)</td>\n",
       "    </tr>\n",
       "  </tbody>\n",
       "</table>\n",
       "</div>"
      ],
      "text/plain": [
       "                       id                         alias                 name  \\\n",
       "0  nRO136GRieGtxz18uD61DA  eleven-madison-park-new-york  Eleven Madison Park   \n",
       "1  SaYTVG7wHCMDBofHCgXPaA        dutch-freds-new-york-2          Dutch Freds   \n",
       "\n",
       "                                           image_url  is_closed  \\\n",
       "0  https://s3-media1.fl.yelpcdn.com/bphoto/s_H7gm...      False   \n",
       "1  https://s3-media2.fl.yelpcdn.com/bphoto/312T_G...      False   \n",
       "\n",
       "                                                 url  review_count  \\\n",
       "0  https://www.yelp.com/biz/eleven-madison-park-n...          2451   \n",
       "1  https://www.yelp.com/biz/dutch-freds-new-york-...          2039   \n",
       "\n",
       "                                          categories  rating  \\\n",
       "0  [{'alias': 'newamerican', 'title': 'American (...     4.5   \n",
       "1  [{'alias': 'cocktailbars', 'title': 'Cocktail ...     4.5   \n",
       "\n",
       "                                         coordinates        transactions  \\\n",
       "0  {'latitude': 40.7416907417, 'longitude': -73.9...                  []   \n",
       "1   {'latitude': 40.760835, 'longitude': -73.987823}  [delivery, pickup]   \n",
       "\n",
       "  price                                           location         phone  \\\n",
       "0  $$$$  {'address1': '11 Madison Ave', 'address2': '',...  +12128890905   \n",
       "1    $$  {'address1': '307 W 47th St', 'address2': None...  +16469186923   \n",
       "\n",
       "    display_phone     distance        lat       long  \\\n",
       "0  (212) 889-0905  5035.227660  40.741691 -73.987207   \n",
       "1  (646) 918-6923  7154.324281  40.760835 -73.987823   \n",
       "\n",
       "                       POINTS  \n",
       "0  POINT (-73.98721 40.74169)  \n",
       "1  POINT (-73.98782 40.76084)  "
      ]
     },
     "execution_count": 68,
     "metadata": {},
     "output_type": "execute_result"
    }
   ],
   "source": [
    "from shapely.geometry import Point\n",
    "\n",
    "cleaned_df2['POINTS'] = cleaned_df2['POINTS'].apply(Point)\n",
    "cleaned_df2_gdf = gpd.GeoDataFrame(cleaned_df2, geometry='POINTS')\n",
    "\n",
    "cleaned_df2_gdf.head(2)"
   ]
  },
  {
   "cell_type": "code",
   "execution_count": 69,
   "id": "ca2f1d56",
   "metadata": {},
   "outputs": [],
   "source": [
    "from shapely.geometry import Point\n",
    "import geopandas as gpd\n",
    "\n",
    "# Create the geometry column from lat and long\n",
    "cleaned_df2['geometry'] = [Point(xy) for xy in zip(cleaned_df2['long'], cleaned_df2['lat'])]\n",
    "\n",
    "# Convert the DataFrame to a GeoDataFrame\n",
    "cleaned_df2_gdf = gpd.GeoDataFrame(cleaned_df2, geometry='geometry')\n",
    "\n",
    "# Set the original CRS to Web Mercator\n",
    "cleaned_df2_gdf.crs = \"EPSG:3857\""
   ]
  },
  {
   "cell_type": "code",
   "execution_count": 70,
   "id": "b82c62a3",
   "metadata": {},
   "outputs": [
    {
     "data": {
      "image/png": "[encoded data removed]",
      "text/plain": [
       "<Figure size 640x480 with 1 Axes>"
      ]
     },
     "metadata": {},
     "output_type": "display_data"
    }
   ],
   "source": [
    "cleaned_df2_gdf.plot()\n",
    "plt.show()"
   ]
  },
  {
   "cell_type": "code",
   "execution_count": 74,
   "id": "c96f93ec",
   "metadata": {},
   "outputs": [
    {
     "data": {
      "application/vnd.plotly.v1+json": {
       "config": {
        "plotlyServerURL": "https://plot.ly"
       },
       "data": [
        {
         "hoverinfo": "none",
         "lat": [
          40.7416907417,
          40.760835,
          40.7230875561,
          40.754704598800004,
          40.739694,
          40.7080062769,
          40.722766,
          40.7763615,
          40.761557,
          40.7027471877,
          40.709945,
          40.7502727,
          40.76442,
          40.7258,
          40.722237,
          40.72990742,
          40.756326,
          40.7264988089,
          40.681442,
          40.77078,
          40.7698275927,
          40.689413,
          40.7866504412,
          40.705686492,
          40.71757,
          40.71789,
          40.7384,
          40.7038667131,
          40.75725,
          40.76064,
          40.74207,
          40.7422762672,
          40.727066,
          40.71244,
          40.7183878,
          40.72996,
          40.7644044527,
          40.71909,
          40.74070517,
          40.721021,
          40.76344,
          40.7273355778,
          40.7247404628,
          40.7422546402,
          40.744435,
          40.7063449,
          40.731746522899996,
          40.741046,
          40.7377500834,
          40.71694,
          40.761861,
          40.7142634,
          40.73966,
          40.71226,
          40.72191,
          40.745414,
          40.779449,
          40.7524054938,
          40.710372,
          40.71735,
          40.7502059937,
          40.72911,
          40.7228416514,
          40.716337,
          40.7280299,
          40.67791,
          40.74424,
          40.7213813139,
          40.7196796287,
          40.74501,
          40.7197501398,
          40.72659,
          40.759876,
          40.72979,
          40.750132,
          40.73382,
          40.7320465,
          40.737772,
          40.7217399,
          40.68451,
          40.6749782204,
          40.72654,
          40.74519,
          40.71338,
          40.7293750156,
          40.74502,
          40.7499675032,
          40.71419,
          40.72551,
          40.6907607509,
          40.74745,
          40.7290432506,
          40.688684,
          40.7392732839,
          40.6846046448,
          40.72516,
          40.762010000000004,
          40.72545,
          40.75433,
          40.744509,
          40.764958,
          40.75558,
          40.74435,
          40.770153,
          40.6901481294,
          40.718437,
          40.72371,
          40.721593496,
          40.705042,
          40.6651821086,
          40.72915,
          40.6998889,
          40.71151,
          40.7342670595,
          40.723625,
          40.7629734278,
          40.7482252753,
          40.764345,
          40.71931,
          40.720572,
          40.719135,
          40.7610956593,
          40.7547,
          40.6879459,
          40.680161,
          40.703306333,
          40.71747,
          40.72532,
          40.704676,
          40.7019547715,
          40.7142,
          40.772855,
          40.72787,
          40.7478576794,
          40.7174109,
          40.711191,
          40.728901,
          40.7249227818,
          40.7406999,
          40.71442,
          40.731516,
          40.7605062893,
          40.7270590142,
          40.751587,
          40.746183,
          40.7842696,
          40.71798,
          40.753517,
          40.72683167,
          40.726035,
          40.7600737531,
          40.71441,
          40.71945,
          40.7177673,
          40.756125995,
          40.74428,
          40.7218841,
          40.7197229754,
          40.728790000000004,
          40.75596,
          40.741019,
          40.724,
          40.7229078654,
          40.6749240943,
          40.730932,
          40.71839,
          40.7436999,
          40.7398895226,
          40.70789,
          40.70329,
          40.727283504,
          40.7646298318,
          40.6835199838,
          40.7276,
          40.7707702253,
          40.72191,
          40.712168,
          40.7715009532,
          40.745481,
          40.763160413,
          40.7439934462,
          40.7605198742,
          40.70411,
          40.687037,
          40.7176199,
          40.721988,
          40.7196298,
          40.72161,
          40.767568,
          40.7180658,
          40.74409,
          40.71377,
          40.7200099,
          40.71876,
          40.73225,
          40.721999,
          40.75238,
          40.6938569335,
          40.7078529,
          40.75107,
          40.7198495418,
          40.76079,
          40.68692,
          40.75878,
          40.625093,
          40.75634,
          40.7243479164,
          40.73661,
          40.732072,
          40.71981,
          40.717414735,
          40.69165,
          40.71623,
          40.742702,
          40.6797687107,
          40.719348,
          40.7402334889,
          40.721936,
          40.725612,
          40.743619,
          40.78098,
          40.71946,
          40.66642,
          40.7536079618,
          40.74133,
          40.6127378,
          40.7629,
          40.7502365112,
          40.72517,
          40.7198118,
          40.72418,
          40.7253571044,
          40.6860234099,
          40.733152,
          40.7059677365,
          40.728,
          40.72782,
          40.7306,
          40.752727697,
          40.7263350655,
          40.673165,
          40.6291809,
          40.6833699737,
          40.7312720665,
          40.76075,
          40.68134,
          40.72583,
          40.686412,
          40.7591422379,
          40.6884292,
          40.7623,
          40.74811,
          40.7218036215,
          40.686448,
          40.72674,
          40.74421,
          40.7234742086,
          40.779583,
          40.728647,
          40.71692,
          40.73881,
          40.724759,
          40.7157238,
          40.7535743713,
          40.735088,
          40.74769,
          40.68146,
          40.74897,
          40.7296463653,
          40.73913,
          40.7252151982,
          40.69506,
          40.73113,
          40.68562,
          40.745939,
          40.70401,
          40.7184736,
          40.74324,
          40.7287,
          40.722647,
          40.71461,
          40.7320627017,
          40.7635033079,
          40.677941,
          40.7309471231,
          40.70421,
          40.7433018974,
          40.71044,
          40.7629335072,
          40.72877,
          40.7705,
          40.7297938747,
          40.72741,
          40.70961,
          40.717115,
          40.6773052,
          40.7179,
          40.7476973488,
          40.727102,
          40.724597,
          40.7529411138,
          40.6987126,
          40.733486319,
          40.793509,
          40.758413,
          40.6076329987,
          40.68412,
          40.727861,
          40.720081060300004,
          40.72969,
          40.752092,
          40.690706,
          40.7191396454,
          40.74747,
          40.714247,
          40.73398,
          40.6717311854,
          40.7289445,
          40.720079,
          40.6026411896,
          40.6833674,
          40.74477,
          40.7272,
          40.7113574432,
          40.764291,
          40.6896859,
          40.72378,
          40.6662419,
          40.68391,
          40.66296,
          40.72933,
          40.703111,
          40.733983,
          40.722387,
          40.75233,
          40.70413,
          40.7563,
          40.72939,
          40.6834345007,
          40.7262073,
          40.763702,
          40.76733,
          40.738058,
          40.6808,
          40.74598,
          40.758364,
          40.68618,
          40.704512,
          40.719021952,
          40.6871172878,
          40.760943924,
          40.73542,
          40.66476,
          40.71994,
          40.71821,
          40.6872641,
          40.72549,
          40.71524,
          40.71125,
          40.7139015198,
          40.745233999999996,
          40.7141357508,
          40.762711,
          40.74165,
          40.6688499964,
          40.71583,
          40.75261,
          40.725639,
          40.7167661606,
          40.69059,
          40.70683,
          40.67343,
          40.75435,
          40.7200188461,
          40.677274876,
          40.74635,
          40.708865,
          40.7211087,
          40.745216,
          40.7409807,
          40.73654,
          40.753188,
          40.714954204,
          40.7351368757,
          40.722704,
          40.7486725,
          40.68562,
          40.7525275895,
          40.7334346,
          40.748310000000004,
          40.7608512,
          40.6830415994,
          40.7191369,
          40.7510509219,
          40.720809,
          40.71909,
          40.71499,
          40.6824378967,
          40.63319,
          40.6747232719,
          40.69316,
          40.724483,
          40.75844,
          40.67349,
          40.73437,
          40.70806,
          40.74078,
          40.689264,
          40.76256,
          40.6832286326,
          40.6389709339,
          40.755136,
          40.6761199579,
          40.74873,
          40.698279,
          40.7144776643,
          40.761855,
          40.7468603,
          40.7711335539,
          40.756282,
          40.74164,
          40.673484,
          40.72349,
          40.68755,
          40.67987,
          40.71991,
          40.68309,
          40.75923,
          40.739475,
          40.72667,
          40.741084,
          40.72012,
          40.7297821045,
          40.7138543,
          40.7294630362,
          40.7097005195,
          40.7562107329,
          40.7508121,
          40.7267693111,
          40.75801,
          40.75407,
          40.76033,
          40.6750885,
          40.7336822146,
          40.669892,
          40.71672,
          40.7273563342,
          40.760935269,
          40.759761,
          40.722484,
          40.725925,
          40.7161793,
          40.70419,
          40.6893727909,
          40.7582670861,
          40.7042482,
          40.718271,
          40.721845,
          40.7321845555,
          40.72702,
          40.7585214267,
          40.71897,
          40.722815737,
          40.7291,
          40.7601538839,
          40.74183,
          40.71852,
          40.714704354,
          40.68777,
          40.7459087,
          40.7555993938,
          40.6911103553,
          40.7196975497,
          40.706071,
          40.72967,
          40.743843,
          40.7456996892,
          40.712808,
          40.7431,
          40.72695,
          40.747241,
          40.73382,
          40.71897,
          40.727303,
          40.742827,
          40.76372,
          40.686579,
          40.7073514,
          40.71871,
          40.6730907423,
          40.748448,
          40.72598,
          40.7455012523,
          40.73767,
          40.720809,
          40.712746,
          40.7533599,
          40.6923575699,
          40.76339,
          40.7047772,
          40.728498,
          40.7593755,
          40.715385,
          40.7589,
          40.73931,
          40.7311,
          40.70788,
          40.7065,
          40.73307,
          40.71153,
          40.7662427,
          40.7032670673,
          40.7140625,
          40.71054,
          40.6845433545,
          40.7597626504,
          40.72803,
          40.6876506909,
          40.7313423,
          40.743456049,
          40.73495,
          40.77235,
          40.727942,
          40.67499,
          40.7475731586,
          40.72374,
          40.6770523795,
          40.768311,
          40.67123,
          40.6933631897,
          40.71086,
          40.727125,
          40.703785,
          40.66549,
          40.747961,
          40.73086,
          40.72908,
          40.722386,
          40.67443,
          40.7594945116,
          40.727617,
          40.74762,
          40.76491,
          40.763732,
          40.733828,
          40.7188720703,
          40.7354,
          40.712389,
          40.71354,
          40.7398415,
          40.67792,
          40.7188586,
          40.6913170316,
          40.7189865112,
          40.7211890205,
          40.729519,
          40.717057,
          40.721433,
          40.73879,
          40.72084,
          40.72633,
          40.7158,
          40.7381972956,
          40.75183,
          40.6821546664,
          40.751734,
          40.697516,
          40.7393774,
          40.69088,
          40.70933,
          40.7133090172,
          40.76018,
          40.6980763645,
          40.7442,
          40.7135,
          40.7558937073,
          40.76157,
          40.73331,
          40.687,
          40.68151,
          40.7262776244,
          40.71267,
          40.67959,
          40.67719,
          40.74232,
          40.7750008,
          40.70359,
          40.75266,
          40.726628038,
          40.7819,
          40.6932355,
          40.724329,
          40.74138,
          40.7189,
          40.72743,
          40.7990529691,
          40.688006,
          40.662645,
          40.7234929272,
          40.715528,
          40.754,
          40.755963,
          40.7256179673,
          40.75547,
          40.7298,
          40.781225,
          40.7317819,
          40.670861,
          40.67,
          40.728721,
          40.713506642,
          40.7053698665,
          40.71972,
          40.6655697293,
          40.68099,
          40.7117379047,
          40.68692,
          40.76005,
          40.6896,
          40.7354552763,
          40.75427,
          40.719949,
          40.7581054545,
          40.759979,
          40.725117,
          40.74337,
          40.7583874009,
          40.72277,
          40.723937,
          40.73251,
          40.72242,
          40.774959,
          40.7459491718,
          40.7473853657,
          40.71395,
          40.73437,
          40.6962553196,
          40.68202,
          40.72331,
          40.7417,
          40.724022941,
          40.7502441406,
          40.71707,
          40.7618463162,
          40.71792,
          40.6993863969,
          40.6868253181,
          40.7325968005,
          40.7517735073,
          40.7288816875,
          40.70275,
          40.6560593,
          40.72511,
          40.74506,
          40.757858,
          40.70591,
          40.7322779619,
          40.7596626938,
          40.74303,
          40.7209581056,
          40.71928,
          40.7229699,
          40.71558,
          40.71897,
          40.70634,
          40.6891838586,
          40.72602,
          40.7104955692,
          40.72494,
          40.7552257152,
          40.7434403431,
          40.71601,
          40.71941,
          40.71466,
          40.72708,
          40.760256,
          40.72908,
          40.71432,
          40.715591,
          40.774977,
          40.74754,
          40.727688,
          40.67741,
          40.7402121,
          40.7168599,
          40.75414,
          40.72218,
          40.6885397234,
          40.72152,
          40.7054623,
          40.6741699,
          40.7733268782,
          40.72884,
          40.6631667074,
          40.723826,
          40.7606,
          40.7125,
          40.7298109369,
          40.7538189544,
          40.73571,
          40.75213,
          40.7433420116,
          40.7158246143,
          40.730362,
          40.74633,
          40.69473,
          40.760558,
          40.72077,
          40.748500492,
          40.7102965208,
          40.669616,
          40.6797218323,
          40.73615,
          40.73829,
          40.7159480622,
          40.6796443,
          40.6642062,
          40.5982399,
          40.759407,
          40.6712095109,
          40.798066975,
          40.779199,
          40.76435,
          40.72808,
          40.6931816,
          40.7461895,
          40.616988,
          40.703234,
          40.724691,
          40.71693,
          40.7187372958,
          40.7468940064,
          40.752881388,
          40.73104,
          40.73316,
          40.7027,
          40.7302502416,
          40.7303699423,
          40.7434133401,
          40.72572,
          40.6875,
          40.754416,
          40.717937,
          40.690328882,
          40.7632,
          40.6892919,
          40.69701,
          40.715,
          40.72621,
          40.77249,
          40.772194,
          40.7131652,
          40.73596,
          40.76508,
          40.72308,
          40.739135,
          40.756377,
          40.707518,
          40.741502,
          40.70512,
          40.69104,
          40.70676,
          40.71766,
          40.7268242337,
          40.753781,
          40.7400439663,
          40.7748899167,
          40.707387,
          40.738070676,
          40.75251,
          40.730545186,
          40.723699,
          40.791077,
          40.72432,
          40.7458357,
          40.7763650432,
          40.7230242082,
          40.7273733082,
          40.6687898634,
          40.7335489,
          40.717593,
          40.7471282,
          40.7332670925,
          40.6822863089,
          40.70707,
          40.72317,
          40.71824,
          40.7144450596,
          40.73901,
          40.723026,
          40.748558628,
          40.74701,
          40.70659,
          40.6680246549,
          40.7624395,
          40.7438892342,
          40.7062346082,
          40.689746,
          40.7142,
          40.7285088308,
          40.72611,
          40.760876,
          40.7616673527,
          40.7176139,
          40.73328,
          40.7181661,
          40.71755,
          40.7196877017,
          40.7208633,
          40.7396659851,
          40.75809,
          40.7633418051,
          40.71659,
          40.665832,
          40.7395,
          40.728212,
          40.72957,
          40.6123064741,
          40.74534,
          40.7463491877,
          40.788825,
          40.7296921,
          40.7212414,
          40.6708930769,
          40.7139415502,
          40.73885,
          40.74666,
          40.7189,
          40.694143,
          40.7142682507,
          40.68764,
          40.7243301735,
          40.7158556938,
          40.7614994603,
          40.7180159,
          40.6876300136,
          40.715022,
          40.677496,
          40.706891,
          40.723015,
          40.6652526855,
          40.74922,
          40.7573,
          40.78922,
          40.74761,
          40.74459,
          40.6844714495,
          40.712343,
          40.766056,
          40.7383506435,
          40.6764068073,
          40.6884272,
          40.673491210899996,
          40.7395804,
          40.7392845154,
          40.71551,
          40.7366922552,
          40.765533763,
          40.73038,
          40.7593184619,
          40.72088,
          40.718056,
          40.72104,
          40.770385434,
          40.7271881104,
          40.7576,
          40.765055,
          40.71385,
          40.736202,
          40.64606,
          40.7051384475,
          40.75743,
          40.7299986601,
          40.726746,
          40.71334,
          40.7348192,
          40.7298950459,
          40.763719947,
          40.72836,
          40.760949169,
          40.747115,
          40.743232,
          40.72732,
          40.7144061704,
          40.71568,
          40.70427,
          40.6732865,
          40.70579,
          40.74236,
          40.7104799,
          40.747311,
          40.758143,
          40.71978,
          40.78002,
          40.6468364563,
          40.645338,
          40.721372,
          40.7199624,
          40.750341,
          40.73012,
          40.7560965066,
          40.7166436879,
          40.687597,
          40.74114,
          40.6913770269,
          40.7196288494,
          40.72066,
          40.688182,
          40.719135,
          40.72692
         ],
         "lon": [
          -73.9872074872,
          -73.987823,
          -73.9945300118,
          -73.9722253396,
          -73.987832,
          -74.0088822652,
          -73.996233,
          -73.95308,
          -73.981763,
          -73.993434902,
          -73.962478,
          -73.9844951,
          -73.98169,
          -73.9927,
          -73.9875259,
          -74.004213804,
          -73.981117,
          -73.9866526052,
          -73.977241,
          -73.95727,
          -73.9576330869,
          -73.970866,
          -73.9755284786,
          -74.0021896145,
          -73.95236,
          -73.9988,
          -73.99892,
          -73.9947936022,
          -73.96774,
          -73.99023,
          -74.00565,
          -74.0048000962,
          -73.983505,
          -73.994,
          -74.0015522,
          -74.00065,
          -73.9767805052,
          -74.00013,
          -73.8793501821,
          -73.962177,
          -73.98661,
          -74.0002623933,
          -73.9914435834,
          -74.0059581,
          -73.98832,
          -74.0076944,
          -74.0045493828,
          -73.991421,
          -73.9896341365,
          -74.0057,
          -73.979306,
          -73.9616646,
          -73.99247,
          -73.96641,
          -73.957873,
          -73.979004,
          -73.963245,
          -73.9982864847,
          -73.96794,
          -73.99457,
          -73.9953231812,
          -73.98858,
          -73.9831015,
          -73.988577,
          -74.00167,
          -73.97929,
          -73.98878,
          -73.9950757665,
          -73.9887088537,
          -73.95363,
          -73.9848855773,
          -73.98873,
          -73.986767,
          -74.00455,
          -73.983824,
          -74.00042,
          -73.9996698411,
          -73.987876,
          -73.98739,
          -73.99225,
          -73.9995224876,
          -73.99956,
          -73.98824,
          -73.95136,
          -74.0038630671,
          -73.98513,
          -73.9844309551,
          -73.99041,
          -73.98838,
          -73.9830572638,
          -74.00041,
          -73.9882174,
          -73.993137,
          -73.9734576883,
          -73.9921875,
          -74.00296,
          -73.99351,
          -73.99269,
          -73.97277,
          -73.9856,
          -73.976206,
          -73.99012,
          -73.98778,
          -73.954956,
          -73.9935445413,
          -73.989807,
          -73.95157,
          -73.9955956045,
          -73.928078,
          -73.9865395411,
          -74.00072,
          -73.9067463,
          -74.00597,
          -73.9910549188,
          -73.988555,
          -73.9211956412,
          -73.9857786,
          -73.98798,
          -73.99689,
          -73.995206,
          -73.991758,
          -73.9777572447,
          -73.98696,
          -73.988257,
          -73.977716,
          -73.9916549605,
          -73.95005,
          -73.98334,
          -73.987975,
          -73.903537,
          -73.99787,
          -73.983121,
          -74.0010999,
          -73.9865590632,
          -73.992100412,
          -73.961424,
          -73.981185,
          -74.0021553663,
          -74.00436,
          -73.960441,
          -73.989501,
          -73.9945644889,
          -73.9885927273,
          -73.985815,
          -73.997642,
          -73.9734941,
          -73.99042,
          -73.937647,
          -73.98754333,
          -73.989936,
          -73.9833259411,
          -73.99902,
          -73.9898,
          -73.990589,
          -73.9965955641,
          -74.00272,
          -73.9866691,
          -73.9891977172,
          -74.00165,
          -73.98532,
          -73.990692,
          -74.010502,
          -73.9852072054,
          -73.9566017389,
          -73.988061,
          -73.9917399,
          -74.00314,
          -74.007379635,
          -74.00712,
          -74.01102,
          -73.9858313,
          -73.9159499109,
          -73.9669024162,
          -74.000045,
          -73.9663760712,
          -73.98768,
          -73.955707,
          -73.9560898337,
          -73.986518,
          -73.9788544409,
          -73.9240421355,
          -73.9219700561,
          -74.01186,
          -73.978577,
          -73.99249,
          -73.992466,
          -73.988366,
          -73.98875,
          -73.952815,
          -73.9881304,
          -73.98945,
          -73.95786,
          -73.993839,
          -73.991026,
          -74.00078,
          -73.959708,
          -73.98939,
          -74.0030887378,
          -73.9437707,
          -73.98135,
          -73.9885318279,
          -73.97221,
          -73.98437,
          -73.89165,
          -73.961531,
          -73.966489,
          -73.9512226101,
          -73.99181,
          -73.988074,
          -73.99722,
          -74.0094323599,
          -73.98603,
          -73.99925,
          -74.000778,
          -74.0103686973,
          -73.989706,
          -73.9962661,
          -73.950597,
          -74.007916,
          -73.999928,
          -73.94751,
          -73.98498,
          -73.97535,
          -73.9832969941,
          -73.98747,
          -74.0339271,
          -73.98991,
          -73.9861984253,
          -74.00212,
          -74.0083092,
          -74.00837,
          -73.9832095,
          -73.9731421,
          -74.003638,
          -73.9966657489,
          -73.99441,
          -73.98551,
          -74.00698,
          -73.9772394603,
          -73.9920476876,
          -73.983292,
          -74.0057526,
          -73.9437798411,
          -73.9593493648,
          -73.97379,
          -73.9938279,
          -73.99299,
          -73.966629,
          -73.9898985543,
          -73.9831506,
          -73.92555,
          -73.9872,
          -73.9964836,
          -73.974163,
          -73.98722,
          -73.98286,
          -73.9963118,
          -73.983482,
          -73.999383,
          -74.00792,
          -73.99407,
          -73.994728,
          -73.9916115,
          -73.9914321899,
          -73.9931414,
          -73.98735,
          -73.95589,
          -73.98348,
          -73.9862015437,
          -74.00363,
          -73.9842741682,
          -73.98339,
          -74.00306,
          -73.9819,
          -73.983523,
          -73.93086,
          -73.9600178,
          -73.99123,
          -73.99971,
          -73.995246,
          -73.999528,
          -74.003655227,
          -73.989323,
          -73.968455,
          -74.0041171779,
          -74.01208,
          -73.9962961113,
          -73.84942,
          -73.9776668698,
          -73.98873,
          -73.92066,
          -73.9853292,
          -73.98816,
          -74.0093799,
          -73.940613,
          -73.9863991,
          -73.98999,
          -73.9860685308,
          -73.982987,
          -74.003174,
          -73.998724286,
          -73.9926383973,
          -73.9998929006,
          -73.94066,
          -73.983292,
          -73.9428921973,
          -74.0024,
          -73.979339,
          -73.9903375,
          -73.95827,
          -74.0026757,
          -73.9952269,
          -73.9528407272,
          -73.98648,
          -73.960055,
          -73.95504,
          -73.957878,
          -74.0015073,
          -73.987785,
          -74.0038766549,
          -73.9997959,
          -73.98701,
          -73.99228,
          -74.0178817098,
          -73.988159,
          -73.9703551,
          -73.98849,
          -73.985749,
          -73.929419,
          -73.98468,
          -73.99808,
          -73.921892,
          -74.006549,
          -74.0095662,
          -73.97353,
          -73.93309,
          -73.92855,
          -73.9889199,
          -73.9346118564,
          -74.0018919,
          -73.988386,
          -73.98945,
          -73.989289,
          -73.97764,
          -73.97753,
          -73.924101,
          -73.97377,
          -74.009834,
          -73.9845000316,
          -73.9779228256,
          -73.9768230849,
          -73.98835,
          -73.98648,
          -73.95791,
          -73.99223,
          -73.9449562,
          -73.98803,
          -73.99183,
          -73.9468,
          -73.9604492188,
          -73.97812,
          -73.9988519624,
          -73.986708,
          -73.98154,
          -73.9896939344,
          -73.999336,
          -73.97342,
          -73.991714,
          -73.9616957,
          -73.99503,
          -73.9228,
          -73.95682,
          -73.97282,
          -73.9969412165,
          -73.9554135086,
          -73.89383,
          -74.01117,
          -74.0098128,
          -73.95357,
          -73.9980996,
          -74.00639,
          -73.969365,
          -73.959786,
          -74.0068169793,
          -73.98332,
          -73.9945145,
          -73.98587,
          -73.9829860255,
          -73.9916923,
          -73.9499,
          -73.9694809,
          -73.9928337146,
          -73.9908998,
          -74.001948082,
          -73.958752,
          -74.00892,
          -73.95833,
          -73.9931335449,
          -74.02742,
          -73.9757981977,
          -73.99871,
          -73.99504,
          -73.98306,
          -73.9574,
          -74.00272,
          -74.0051,
          -73.99695,
          -74.0445004,
          -73.97566,
          -73.9319809048,
          -74.0046846944,
          -73.982194,
          -73.974519968,
          -73.98705,
          -73.993031,
          -74.0074549,
          -73.964895,
          -73.9851724,
          -73.962035427,
          -73.8806,
          -73.98132,
          -73.957267,
          -73.99579,
          -73.962357,
          -73.964352,
          -73.98476,
          -73.9928,
          -73.9841,
          -74.001143,
          -73.98738,
          -73.985324,
          -73.98932,
          -73.9992218018,
          -73.9989484,
          -73.9868481248,
          -74.013953805,
          -73.9833494825,
          -73.9819335,
          -73.9847712789,
          -73.98008,
          -73.96623,
          -73.92245,
          -73.9634982,
          -73.9895997904,
          -73.979454,
          -73.96543,
          -74.0004944801,
          -73.9888988739,
          -73.992065,
          -73.989129,
          -74.009489,
          -73.9925896,
          -73.93044,
          -73.9732461,
          -73.9768371,
          -74.0101127,
          -73.985209,
          -73.995802,
          -74.0032725,
          -73.98608,
          -73.9718883426,
          -73.99693,
          -73.9557975,
          -73.98105,
          -73.9909442573,
          -73.98271,
          -74.00491,
          -73.9977050234,
          -73.97887,
          -73.9937093,
          -73.9944156727,
          -73.9831850898,
          -73.9873982202,
          -73.922414,
          -74.00421,
          -73.856118,
          -73.9880941,
          -74.009065,
          -73.9871,
          -73.984328,
          -73.996441,
          -74.00042,
          -73.95634,
          -74.00243,
          -73.953575,
          -73.92158,
          -73.974191,
          -73.9222454,
          -73.9945,
          -73.9573492245,
          -73.985669,
          -73.98672,
          -73.9534122021,
          -73.98128,
          -73.958752,
          -74.01338,
          -73.9732416,
          -73.945768699,
          -73.97404,
          -74.006428741,
          -73.98615,
          -73.9794036288,
          -73.944839,
          -73.91941,
          -73.99243,
          -73.993241,
          -74.00194,
          -74.00777,
          -74.005693,
          -73.96761,
          -73.9812435,
          -73.9922419277,
          -73.9653783254,
          -73.85006,
          -73.9837775426,
          -73.9652888022,
          -74.00097,
          -73.9793075316,
          -74.0028996,
          -73.984703009,
          -74.00628,
          -73.92922,
          -73.984469,
          -73.99961,
          -73.9863122632,
          -73.9893,
          -73.9634169638,
          -73.91112,
          -73.991018,
          -73.970413208,
          -73.95386,
          -74.007683,
          -73.930765,
          -73.98259,
          -73.99163,
          -73.989939,
          -73.98541,
          -73.991958,
          -73.95022,
          -73.9867345196,
          -73.993464,
          -73.94008,
          -73.987537,
          -73.9215625,
          -73.993052,
          -73.9453811646,
          -73.95528,
          -73.9555675,
          -73.9413,
          -73.9792862,
          -73.97266,
          -73.9552174,
          -73.9878609404,
          -73.9969329834,
          -73.9570004493,
          -73.989104,
          -73.958764,
          -73.995689,
          -73.99455,
          -74.03199,
          -73.95471,
          -73.9898,
          -74.001444988,
          -73.97236,
          -73.9380417432,
          -73.984183,
          -73.967514,
          -73.9889987,
          -73.98378,
          -73.95407,
          -74.0101668242,
          -73.991093,
          -73.9245712109,
          -73.99062,
          -73.944046,
          -73.971534729,
          -73.9744,
          -73.98763,
          -73.99042,
          -73.95591,
          -73.9835707495,
          -73.96082,
          -73.96837,
          -74.01291,
          -73.91777,
          -73.9095623,
          -73.99411,
          -73.98459,
          -73.9844047694,
          -73.95197,
          -74.0007940774,
          -74.002508,
          -73.98107,
          -73.956843,
          -73.98521,
          -73.9628195532,
          -73.982083,
          -73.9847769,
          -73.9503321851,
          -73.944273,
          -73.9298699,
          -73.928666,
          -73.9952634137,
          -73.99439,
          -73.95971,
          -73.948904,
          -74.0025704,
          -73.963442,
          -73.95837,
          -73.988554,
          -73.9585529681,
          -74.0010540251,
          -74.00707,
          -73.9822988918,
          -73.97752,
          -73.9629429869,
          -73.97469,
          -73.98913,
          -73.96982,
          -74.0082208401,
          -73.9903099,
          -73.988297,
          -73.9778530962,
          -73.97824,
          -74.003685,
          -73.99153,
          -73.9718681,
          -73.98989,
          -73.983519,
          -73.99866,
          -73.98397,
          -73.9095,
          -73.9775669,
          -73.9967849753,
          -73.95554,
          -74.00272,
          -73.9975168581,
          -73.94977,
          -74.00363,
          -73.990571,
          -73.9938613,
          -73.9970245361,
          -73.96322,
          -73.9742299835,
          -73.988317,
          -73.9265948743,
          -73.962869,
          -73.9880024,
          -73.9905076101,
          -74.0030682157,
          -73.98124,
          -73.9597273,
          -74.00333,
          -73.99834,
          -73.980035,
          -74.00747,
          -73.9929321762,
          -73.9862253358,
          -73.97986,
          -73.9624738336,
          -74.00597,
          -73.99576,
          -73.9967,
          -74.00102,
          -73.93136,
          -73.9549609646,
          -73.98393,
          -73.9587849124,
          -74.03631,
          -73.98163,
          -73.887628037,
          -73.99838,
          -73.98501,
          -73.99148,
          -73.98546,
          -73.907328,
          -73.97815,
          -74.00972,
          -73.9649236,
          -73.913251,
          -73.9735,
          -74.0004851282,
          -73.98265,
          -73.9874529,
          -73.95845,
          -73.99245,
          -73.98319,
          -73.9854437478,
          -73.98462,
          -74.0016428,
          -73.99968,
          -73.9113807678,
          -74.00488,
          -73.9845233118,
          -73.9509979,
          -73.995,
          -73.96056,
          -73.9926904,
          -74.002155715,
          -74.00044,
          -73.98383,
          -73.9910807129,
          -73.9914940147,
          -73.98362,
          -73.98902,
          -73.99361,
          -73.990357,
          -73.99646,
          -73.9879776294,
          -73.966014,
          -73.986601,
          -73.9821624756,
          -74.00609,
          -74.0054,
          -73.9873785184,
          -73.97457729999999,
          -73.9807260017,
          -74.0798,
          -73.971051,
          -73.9579255587,
          -73.9368363595,
          -73.983662,
          -73.97904,
          -73.98615,
          -74.000869,
          -73.9136856,
          -74.034023,
          -74.008687,
          -73.983688,
          -73.94295,
          -73.9481994726,
          -74.0049896785,
          -73.981064558,
          -73.9932199,
          -73.99273,
          -73.99314,
          -73.9578101411,
          -73.9837222575,
          -73.999627722,
          -73.98428,
          -74.00135,
          -73.989586,
          -73.9989123366,
          -73.9938121,
          -73.98469,
          -73.9916948,
          -73.93368,
          -73.99706,
          -74.00431,
          -73.95713,
          -73.9776,
          -73.9494479,
          -74.00093,
          -73.99128,
          -73.9452699,
          -74.005738,
          -73.923855,
          -73.903177,
          -74.008175,
          -73.933463,
          -73.98328,
          -73.92877,
          -73.99836,
          -73.984036,
          -73.9689989,
          -73.9930878,
          -73.9092001319,
          -73.922843,
          -73.988587927,
          -73.96758,
          -73.9865440288,
          -73.987809,
          -73.973763,
          -73.97851,
          -73.9035436,
          -73.9529693361,
          -73.9917936789,
          -74.0438175,
          -73.990421,
          -73.9901842,
          -73.998396,
          -73.9869043,
          -73.9929751334,
          -73.9800181247,
          -74.00244,
          -73.99568,
          -73.99583,
          -73.9615832,
          -73.98882,
          -73.989664,
          -73.9859369288,
          -73.98583,
          -74.00266,
          -73.9878008,
          -73.9971462,
          -73.9212168609,
          -74.0023067,
          -73.951286,
          -73.99886,
          -73.9861517027,
          -74.0009180868,
          -73.99006,
          -73.9755601503,
          -73.990234,
          -73.99905,
          -73.9938466,
          -73.95603,
          -73.9961054743,
          -73.9950497,
          -73.9958267212,
          -73.98026,
          -73.9281750915,
          -74.007919,
          -73.988916,
          -73.99922,
          -73.985182,
          -74.00073,
          -74.0712469296,
          -73.97761,
          -73.9882882411,
          -73.948474,
          -73.9964861994,
          -73.9576737083,
          -73.9851494254,
          -73.9899386554,
          -74.00932,
          -73.97722,
          -74.00458,
          -73.94580500000001,
          -74.0077059599,
          -73.9901,
          -73.9509299397,
          -73.9641488,
          -73.9763089992,
          -73.9853739,
          -73.9568200707,
          -74.010284,
          -73.982659,
          -73.905479,
          -73.983207,
          -73.9825668335,
          -73.97785,
          -73.92068,
          -73.94873,
          -73.98631,
          -73.90351,
          -73.950234662,
          -73.952121,
          -73.980504,
          -74.0041220472,
          -73.9627275318,
          -73.9831304054,
          -74.0101907338,
          -73.999118,
          -73.9989318848,
          -73.99022,
          -73.9814881135,
          -73.9192518515,
          -73.98307,
          -73.9930061474,
          -73.98981,
          -73.988081,
          -73.98804,
          -73.9535711918,
          -73.9851989746,
          -73.98693,
          -73.991001,
          -73.95554,
          -73.955558,
          -73.97217,
          -73.923053896,
          -73.97042,
          -74.0038951002,
          -73.988325,
          -74.0081,
          -74.0032416,
          -74.0034680129,
          -73.9891322,
          -73.9572,
          -73.9875069,
          -73.973961,
          -73.954254,
          -73.99398,
          -73.9981723213,
          -73.99664,
          -73.9302,
          -73.9631,
          -74.00859,
          -73.9803699,
          -73.96351,
          -73.8531885,
          -73.971492,
          -73.98877,
          -73.94978,
          -73.9701736994,
          -74.107791,
          -73.997529,
          -73.9885666,
          -73.976134,
          -74.00275,
          -73.9805131,
          -74.0076622322,
          -74.001266,
          -73.99011,
          -74.0164375305,
          -73.9871140215,
          -73.99666,
          -73.986572,
          -73.985747,
          -73.98342
         ],
         "marker": {
          "color": "#D7BDE2",
          "size": 6
         },
         "mode": "markers",
         "name": "Reviewed Yelp Places",
         "type": "scattermapbox"
        },
        {
         "hoverinfo": "all",
         "hovertext": [
          "JUA<br>Price: $$$$<br>Rating: 4.5",
          "Bua Thai Ramen & Robata Grill<br>Price: $$<br>Rating: 4.5",
          "Tonchin<br>Price: $$<br>Rating: 4.5",
          "Fish Cheeks<br>Price: $$<br>Rating: 4.5",
          "Top Thai Vintage<br>Price: $$$<br>Rating: 4.5",
          "Raku<br>Price: $$<br>Rating: 4.5",
          "5ive Spice<br>Price: $$<br>Rating: 4.5",
          "THEP Thai Restaurant<br>Price: $$<br>Rating: 4.5",
          "Up Thai<br>Price: $$<br>Rating: 4.5",
          "Taiyaki NYC<br>Price: $<br>Rating: 4.5",
          "Tomi Jazz<br>Price: $$<br>Rating: 4.5",
          "Very Fresh Noodles<br>Price: $$<br>Rating: 4.5",
          "Buddakan<br>Price: $$$$<br>Rating: 4.0",
          "Hanoi House<br>Price: $$<br>Rating: 4.5",
          "JoJu<br>Price: $$<br>Rating: 4.5",
          "Ippudo Westside<br>Price: $$<br>Rating: 4.0",
          "PLANTA Queen Nomad<br>Price: $$<br>Rating: 4.5",
          "Sushi Nakazawa<br>Price: $$$$<br>Rating: 4.5",
          "COTE Korean Steakhouse<br>Price: $$$$<br>Rating: 4.0",
          "The Halal Guys<br>Price: $<br>Rating: 4.0",
          "Oiji Mi<br>Price: $$$$<br>Rating: 4.5",
          "Wah Fung No 1<br>Price: $<br>Rating: 4.5",
          "Szechuan Mountain House<br>Price: $$<br>Rating: 4.5",
          "Secchu Yokota<br>Price: $$$$<br>Rating: 5.0",
          "DOMODOMO - New York<br>Price: $$$<br>Rating: 4.0",
          "Kyuramen - Park Slope<br>Price: $$<br>Rating: 4.5",
          "Wayan<br>Price: $$$<br>Rating: 4.0",
          "Izakaya Juraku<br>Price: $$$<br>Rating: 4.5",
          "Yopparai<br>Price: $$$<br>Rating: 4.5",
          "Sushi By M<br>Price: $$$$<br>Rating: 4.5",
          "Shiki Omakase<br>Price: $$$$<br>Rating: 4.5",
          "KazuNori | NoMad<br>Price: $$<br>Rating: 4.5",
          "Little Mad<br>Price: $$$$<br>Rating: 4.5",
          "Yoon Haeundae Galbi<br>Price: $$$<br>Rating: 4.5",
          "Benemon<br>Price: $$<br>Rating: 4.5",
          "Shukette<br>Price: $$$<br>Rating: 4.5",
          "Kimura<br>Price: $$$<br>Rating: 4.5",
          "Lemongrass Brooklyn<br>Price: $$<br>Rating: 4.0",
          "Kochi<br>Price: $$$$<br>Rating: 4.5",
          "ilili Restaurant<br>Price: $$$<br>Rating: 4.0",
          "NR<br>Price: $$$<br>Rating: 4.5",
          "Boutros<br>Price: $$$<br>Rating: 4.5",
          "Chow House<br>Price: $$<br>Rating: 4.5",
          "Brooklyn Chop House<br>Price: $$$<br>Rating: 4.0",
          "Nan Xiang Xiao Long Bao - Manhattan<br>Price: $$<br>Rating: 4.5",
          "Hometown Hotpot & BBQ<br>Price: $$$<br>Rating: 4.0",
          "Kimika<br>Price: $$$<br>Rating: 4.0",
          "Nowon East Village <br>Price: $$$<br>Rating: 4.5",
          "Tasty Hand-Pulled Noodles<br>Price: $$<br>Rating: 4.0",
          "Grace Street<br>Price: $$<br>Rating: 4.0",
          "Shu Jiao Fu Zhou<br>Price: $<br>Rating: 4.5",
          "Au Za'atar<br>Price: $$<br>Rating: 4.0",
          "Hao Noodle Chelsea<br>Price: $$<br>Rating: 4.5",
          "Birds of a Feather<br>Price: $$<br>Rating: 4.0",
          "Café China<br>Price: $$<br>Rating: 4.0",
          "Aoi Kitchen<br>Price: $$<br>Rating: 4.5",
          "ICHIRAN - Times Square<br>Price: $$<br>Rating: 4.5",
          "Shanghai 21<br>Price: $$<br>Rating: 4.0",
          "Ye's Apothecary<br>Price: $$$<br>Rating: 4.5",
          "Chef's Table at Brooklyn Fare<br>Price: $$$$<br>Rating: 4.5",
          "Takumi Omakase<br>Price: $$$$<br>Rating: 4.5",
          "Sagaponack<br>Price: $$$<br>Rating: 4.5",
          "Vanessa's Dumpling House<br>Price: $<br>Rating: 4.0",
          "Hortus NYC<br>Price: $$$<br>Rating: 4.5",
          "wagamama - midtown<br>Price: $$<br>Rating: 4.5",
          "99 Favor Taste - New York<br>Price: $$$<br>Rating: 4.0",
          "Ramen Ishida<br>Price: $$<br>Rating: 4.5",
          "Tanoshi Sushi Sake Bar<br>Price: $$$$<br>Rating: 4.5",
          "Dhamaka<br>Price: $$$<br>Rating: 4.0",
          "Izakaya NoMad<br>Price: $$<br>Rating: 4.0",
          "Llama San<br>Price: $$$$<br>Rating: 4.0",
          "Set LES<br>Price: $$<br>Rating: 4.0",
          "Han Dynasty<br>Price: $$<br>Rating: 4.0",
          "Uncle Lou<br>Price: $$<br>Rating: 4.0",
          "Okiboru House of Tsukemen<br>Price: $$<br>Rating: 4.5",
          "The Drunken Munkey - UES<br>Price: $$<br>Rating: 4.5",
          "LumLum <br>Price: $$<br>Rating: 4.5",
          "Cho Dang Gol Korean Restaurant<br>Price: $$<br>Rating: 4.0",
          "Little Kirin<br>Price: $$<br>Rating: 5.0",
          "EN Japanese Brasserie<br>Price: $$$<br>Rating: 4.0",
          "Gyu-Kaku Japanese BBQ<br>Price: $$<br>Rating: 4.0",
          "Kuun<br>Price: $$$<br>Rating: 4.5",
          "Antoya Korean BBQ<br>Price: $$$<br>Rating: 4.0",
          "Spicy Moon East Village<br>Price: $$<br>Rating: 4.5",
          "Atomix<br>Price: $$$$<br>Rating: 4.5",
          "Sushi Yasaka<br>Price: $$<br>Rating: 4.0",
          "Basta Pasta<br>Price: $$<br>Rating: 4.0",
          "Turntable LP Bar & Karaoke<br>Price: $$<br>Rating: 4.5",
          "ChikaLicious Dessert Bar<br>Price: $$<br>Rating: 4.0",
          "Somtum Der<br>Price: $$<br>Rating: 4.0",
          "Sushi By Boū - NoMad<br>Price: $$$$<br>Rating: 4.5",
          "Mr Mista Oh<br>Price: $$<br>Rating: 4.5",
          "Juku<br>Price: $$$<br>Rating: 4.0",
          "Omakase By Korami<br>Price: $$$$<br>Rating: 5.0",
          "Nourish<br>Price: $$<br>Rating: 4.0",
          "Paratha Wala<br>Price: $$<br>Rating: 4.5",
          "886<br>Price: $$<br>Rating: 4.0",
          "Kalye<br>Price: $$<br>Rating: 4.5",
          "BCD Tofu House<br>Price: $$<br>Rating: 4.0",
          "Hirohisa<br>Price: $$$$<br>Rating: 4.5",
          "Hao Noodle - West Village<br>Price: $$<br>Rating: 4.0",
          "Di An Di<br>Price: $$<br>Rating: 4.0",
          "Nami Nori<br>Price: $$$<br>Rating: 4.5",
          "Woorijip<br>Price: $$<br>Rating: 4.0",
          "Samurai Mama<br>Price: $$<br>Rating: 4.0",
          "Liu's Shanghai<br>Price: $$<br>Rating: 4.5",
          "Pure Thai Cookhouse<br>Price: $$<br>Rating: 4.0",
          "1 OR 8<br>Price: $$$<br>Rating: 4.0",
          "Trad Room<br>Price: $$<br>Rating: 4.5",
          "Genki Omakase<br>Price: $$$$<br>Rating: 4.5",
          "Sake Kawa<br>Price: $$$<br>Rating: 4.5",
          "The Bao<br>Price: $$<br>Rating: 4.0",
          "Simple NYC<br>Price: $$<br>Rating: 4.5",
          "MONO+MONO<br>Price: $$<br>Rating: 4.0",
          "Mazu Szechuan<br>Price: $$<br>Rating: 4.5",
          "Pinklady Cheese Tart<br>Price: $$<br>Rating: 4.5",
          "Yin Ji Chang Fen Rice Roll<br>Price: $$<br>Rating: 4.0",
          "Al Badawi<br>Price: $$<br>Rating: 4.5",
          "Izakaya Fuku<br>Price: $$<br>Rating: 4.5",
          "Laser Wolf<br>Price: $$$<br>Rating: 4.5",
          "Tamarind<br>Price: $$$<br>Rating: 4.0",
          "K-Top Chicken<br>Price: $$<br>Rating: 4.5",
          "Bangkok Degree<br>Price: $$<br>Rating: 4.5",
          "The Chemistry Room<br>Price: $$$$<br>Rating: 4.5",
          "Laojie Hotpot<br>Price: $$$<br>Rating: 4.5",
          "Xi'an Famous Foods<br>Price: $<br>Rating: 4.0",
          "Ramen Danbo<br>Price: $$<br>Rating: 4.0",
          "Ai Ki Ya<br>Price: $$<br>Rating: 4.5",
          "Soju Haus<br>Price: $$<br>Rating: 4.0",
          "Peng's Noodle Folk<br>Price: $$<br>Rating: 4.5",
          "Momoya SoHo<br>Price: $$$<br>Rating: 4.0",
          "Izakaya<br>Price: $$<br>Rating: 4.0",
          "Milu<br>Price: $$<br>Rating: 4.5",
          "Sushi Zo | New York<br>Price: $$$$<br>Rating: 4.5",
          "The Original Buddha Bodai Kosher Vegetarian Restaurant<br>Price: $$<br>Rating: 4.0",
          "Royal Grill Halal Food<br>Price: $<br>Rating: 4.5",
          "Kimchi Grill<br>Price: $$<br>Rating: 4.0",
          "One More Charm<br>Price: $$<br>Rating: 4.5",
          "Hou Yi Hot Pot<br>Price: $$$<br>Rating: 4.0",
          "Karasu<br>Price: $$$<br>Rating: 4.0",
          "3 Times<br>Price: $$<br>Rating: 4.0",
          "YUBU<br>Price: $$<br>Rating: 4.5",
          "Burp Bowl Cafe<br>Price: $$<br>Rating: 4.5",
          "Curry House<br>Price: $$<br>Rating: 4.5",
          "Eight Turn Crêpe<br>Price: $$<br>Rating: 4.0",
          "Queen<br>Price: $$<br>Rating: 4.5",
          "Hey Yuet<br>Price: $$<br>Rating: 4.5",
          "Omakase Room by Mitsu<br>Price: $$$$<br>Rating: 4.5",
          "Hupo<br>Price: $$<br>Rating: 4.5",
          "Hiyake Omakase<br>Price: $$$$<br>Rating: 4.0",
          "Malii Gramercy<br>Price: $$<br>Rating: 4.5",
          "Sushi Kai - East Village<br>Price: $$$$<br>Rating: 4.5",
          "Levantine<br>Price: $$<br>Rating: 4.5",
          "SUteiShi<br>Price: $$$<br>Rating: 4.0",
          "Taiki<br>Price: $$$<br>Rating: 4.5",
          "Five Senses<br>Price: $$<br>Rating: 4.0",
          "Sabry's<br>Price: $$<br>Rating: 4.5",
          "Tsukimi<br>Price: $$$$<br>Rating: 5.0",
          "Sapps<br>Price: $$<br>Rating: 4.0",
          "Tradisyon<br>Price: $$<br>Rating: 4.5",
          "Geido<br>Price: $$<br>Rating: 4.5",
          "Boka<br>Price: $$<br>Rating: 3.5",
          "ONDO Jersey City<br>Price: $$$<br>Rating: 4.5",
          "ACRE<br>Price: $$<br>Rating: 4.5",
          "China North Dumpling 北方鍋貼<br>Price: $<br>Rating: 4.0",
          "Kosaka<br>Price: $$$$<br>Rating: 4.5",
          "KPOT Korean BBQ & Hot Pot<br>Price: $$$<br>Rating: 4.0",
          "Zatar<br>Price: $$<br>Rating: 4.5",
          "Towa<br>Price: $$$<br>Rating: 4.5",
          "Spice Symphony<br>Price: $$<br>Rating: 4.5",
          "Wanisa Home Kitchen<br>Price: $$<br>Rating: 4.0",
          "Golda<br>Price: $$<br>Rating: 4.0",
          "The Best Sichuan<br>Price: $$<br>Rating: 4.5",
          "Saiguette<br>Price: $$<br>Rating: 4.5",
          "Bites of Xi'an<br>Price: $<br>Rating: 4.5",
          "Java Indonesian Restaurant<br>Price: $$<br>Rating: 4.0",
          "Baoburg<br>Price: $$<br>Rating: 4.0",
          "KYU - New York<br>Price: $$$<br>Rating: 4.0",
          "Mr. Jones Supper Club<br>Price: $$$$<br>Rating: 5.0",
          "Mamoun's Falafel<br>Price: $$<br>Rating: 4.0",
          "NARO<br>Price: $$$$<br>Rating: 4.5",
          "SUGARFISH | Soho<br>Price: $$$<br>Rating: 4.0",
          "Watawa Sushi<br>Price: $$<br>Rating: 4.0",
          "Savory Thai<br>Price: $$<br>Rating: 4.5",
          "Ichibantei<br>Price: $$<br>Rating: 4.0",
          "Old Xi'an<br>Price: $$<br>Rating: 4.0",
          "Accent Restaurant & Bar<br>Price: $$<br>Rating: 4.5",
          "Shinsen<br>Price: $$<br>Rating: 4.0",
          "Kazuza<br>Price: $$<br>Rating: 4.0",
          "Sen Sakana<br>Price: $$$<br>Rating: 4.0",
          "Ayada Thai<br>Price: $$<br>Rating: 4.0",
          "Ming Wong Restaurant<br>Price: $$<br>Rating: 4.0",
          "Ling Kee Beef Jerky<br>Price: $<br>Rating: 4.5",
          "Ako<br>Price: $$<br>Rating: 4.0",
          "Maison Sun<br>Price: $$$$<br>Rating: 4.5",
          "Za-Ya Ramen<br>Price: $$<br>Rating: 4.5",
          "Umami Sushi<br>Price: $$<br>Rating: 4.5",
          "Sao Mai<br>Price: $$<br>Rating: 4.0",
          "Pecking House<br>Price: $$<br>Rating: 4.0",
          "Sushi Kaito<br>Price: $$$$<br>Rating: 4.5",
          "Kin Ramen<br>Price: $$<br>Rating: 4.5",
          "TJ Asian Bistro<br>Price: $$<br>Rating: 4.5",
          "Ootoya Union Square<br>Price: $$<br>Rating: 4.0",
          "Salma<br>Price: $$<br>Rating: 4.5",
          "Banh Mi Zon<br>Price: $$<br>Rating: 4.5",
          "Blossom Ice Cream & The Poké<br>Price: $$<br>Rating: 4.5",
          "Little Mo<br>Price: $$<br>Rating: 4.0",
          "Great NY Noodle Town<br>Price: $<br>Rating: 3.5",
          "Suzume<br>Price: $$<br>Rating: 4.0",
          "Dar 525<br>Price: $$<br>Rating: 4.5",
          "Momo Sushi Shack<br>Price: $$<br>Rating: 4.0",
          "Falansai<br>Price: $$<br>Rating: 4.0",
          "HinoMaru Ramen<br>Price: $$<br>Rating: 4.0",
          "Kanoyama<br>Price: $$$$<br>Rating: 4.0",
          "Matsuri<br>Price: $$<br>Rating: 4.5",
          "Yi Ji Shi Mo Noodle Corp<br>Price: $<br>Rating: 4.5",
          "SUGARFISH | Flatiron<br>Price: $$$<br>Rating: 4.0",
          "Joomak Banjum<br>Price: $$$$<br>Rating: 4.0",
          "Cardamom Indian cuisine<br>Price: $$<br>Rating: 4.5",
          "Nostrand Cafe<br>Price: $$<br>Rating: 4.5",
          "Zongzi lady<br>Price: $<br>Rating: 5.0",
          "Little Rascal<br>Price: $$<br>Rating: 4.0",
          "Mr. Sun<br>Price: $$<br>Rating: 4.5",
          "Takahachi Tribeca Restaurant<br>Price: $$$<br>Rating: 4.0",
          "Phil-Am Kusina<br>Price: $$<br>Rating: 4.5",
          "Trust Bae<br>Price: $$$$<br>Rating: 5.0",
          "Wu's Wonton King<br>Price: $$<br>Rating: 3.5",
          "Ki Sushi<br>Price: $$<br>Rating: 4.0",
          "Xi'an Famous Foods<br>Price: $$<br>Rating: 4.0",
          "Kings Co Imperial<br>Price: $$<br>Rating: 4.0",
          "Dun Huang -  Grand Central<br>Price: $$<br>Rating: 4.5",
          "LUNA  Asian Bistro & Lounge<br>Price: $$<br>Rating: 4.0",
          "Chu Ros Thai<br>Price: $$<br>Rating: 4.5",
          "Matsunori<br>Price: $$$$<br>Rating: 4.5",
          "Oh K-Dog<br>Price: $<br>Rating: 4.0",
          "Totto Ramen Hell's Kitchen<br>Price: $$<br>Rating: 4.0",
          "Gu Japanese Fusion Sushi & Bar<br>Price: $$<br>Rating: 4.0",
          "Aahar Indian Cuisine<br>Price: $$<br>Rating: 4.5",
          "Ramen Danbo<br>Price: $$<br>Rating: 4.5",
          "Tuk Tuk<br>Price: $$<br>Rating: 4.0",
          "Kono<br>Price: $$$$<br>Rating: 4.5",
          "Banh Mi Place<br>Price: $$<br>Rating: 4.0",
          "Vatan Indian Vegetarian<br>Price: $$$<br>Rating: 4.0",
          "Copper Throat Thai Cuisine<br>Price: $$<br>Rating: 4.0",
          "Mughlai Indian Cuisine<br>Price: $$<br>Rating: 4.5",
          "Am Thai Bistro<br>Price: $$<br>Rating: 4.0"
         ],
         "lat": [
          40.739694,
          40.7763615,
          40.7502727,
          40.7258,
          40.72990742,
          40.7264988089,
          40.681442,
          40.77078,
          40.7698275927,
          40.71789,
          40.75725,
          40.74207,
          40.7422762672,
          40.727066,
          40.74070517,
          40.76344,
          40.744435,
          40.731746522899996,
          40.741046,
          40.761861,
          40.73966,
          40.71735,
          40.72911,
          40.7228416514,
          40.7280299,
          40.67791,
          40.7213813139,
          40.7196796287,
          40.7197501398,
          40.72659,
          40.72654,
          40.74519,
          40.74502,
          40.7499675032,
          40.72551,
          40.74745,
          40.7290432506,
          40.688684,
          40.762010000000004,
          40.74435,
          40.770153,
          40.6901481294,
          40.72915,
          40.71151,
          40.7482252753,
          40.71931,
          40.720572,
          40.72532,
          40.7142,
          40.7478576794,
          40.7174109,
          40.728901,
          40.7406999,
          40.71442,
          40.751587,
          40.72683167,
          40.7600737531,
          40.71441,
          40.71945,
          40.756125995,
          40.7218841,
          40.741019,
          40.71839,
          40.745481,
          40.763160413,
          40.7176199,
          40.7196298,
          40.767568,
          40.7180658,
          40.74409,
          40.73225,
          40.7198495418,
          40.732072,
          40.71623,
          40.719348,
          40.78098,
          40.7629,
          40.7502365112,
          40.72782,
          40.7306,
          40.7591422379,
          40.6884292,
          40.74811,
          40.72674,
          40.74421,
          40.779583,
          40.73881,
          40.74769,
          40.7296463653,
          40.7252151982,
          40.745939,
          40.74324,
          40.71461,
          40.7635033079,
          40.677941,
          40.71044,
          40.72877,
          40.7179,
          40.7476973488,
          40.724597,
          40.733486319,
          40.72969,
          40.7191396454,
          40.74747,
          40.714247,
          40.6026411896,
          40.764291,
          40.6896859,
          40.68391,
          40.72933,
          40.7563,
          40.72939,
          40.71821,
          40.72549,
          40.745233999999996,
          40.7141357508,
          40.71583,
          40.69059,
          40.74635,
          40.720809,
          40.71909,
          40.71499,
          40.6747232719,
          40.75844,
          40.6389709339,
          40.755136,
          40.6761199579,
          40.74873,
          40.7468603,
          40.7711335539,
          40.72349,
          40.72667,
          40.741084,
          40.7297821045,
          40.7138543,
          40.7562107329,
          40.6750885,
          40.669892,
          40.7161793,
          40.6893727909,
          40.718271,
          40.72702,
          40.74183,
          40.714704354,
          40.6911103553,
          40.706071,
          40.747241,
          40.73382,
          40.742827,
          40.71871,
          40.73767,
          40.728498,
          40.715385,
          40.70788,
          40.6845433545,
          40.7475731586,
          40.768311,
          40.72908,
          40.74762,
          40.76491,
          40.67792,
          40.729519,
          40.72084,
          40.72633,
          40.7158,
          40.7381972956,
          40.69088,
          40.6980763645,
          40.7442,
          40.7558937073,
          40.687,
          40.68151,
          40.75266,
          40.7990529691,
          40.688006,
          40.662645,
          40.7234929272,
          40.7256179673,
          40.7317819,
          40.728721,
          40.7581054545,
          40.725117,
          40.774959,
          40.71395,
          40.7325968005,
          40.70591,
          40.74303,
          40.71558,
          40.72602,
          40.7552257152,
          40.7434403431,
          40.71601,
          40.71466,
          40.7168599,
          40.6885397234,
          40.6741699,
          40.73571,
          40.730362,
          40.6796443,
          40.779199,
          40.76435,
          40.7461895,
          40.73316,
          40.7303699423,
          40.72572,
          40.6892919,
          40.69701,
          40.715,
          40.7131652,
          40.72308,
          40.70512,
          40.70676,
          40.7748899167,
          40.730545186,
          40.7458357,
          40.71824,
          40.73901,
          40.74701,
          40.7438892342,
          40.689746,
          40.7181661,
          40.7208633,
          40.75809,
          40.71659,
          40.6123064741,
          40.7463491877,
          40.7139415502,
          40.68764,
          40.7243301735,
          40.7180159,
          40.74922,
          40.7573,
          40.78922,
          40.72088,
          40.72104,
          40.765055,
          40.75743,
          40.71334,
          40.7298950459,
          40.743232,
          40.71568,
          40.6732865,
          40.74236,
          40.71978,
          40.78002,
          40.6468364563
         ],
         "lon": [
          -73.987832,
          -73.95308,
          -73.9844951,
          -73.9927,
          -74.004213804,
          -73.9866526052,
          -73.977241,
          -73.95727,
          -73.9576330869,
          -73.9988,
          -73.96774,
          -74.00565,
          -74.0048000962,
          -73.983505,
          -73.8793501821,
          -73.98661,
          -73.98832,
          -74.0045493828,
          -73.991421,
          -73.979306,
          -73.99247,
          -73.99457,
          -73.98858,
          -73.9831015,
          -74.00167,
          -73.97929,
          -73.9950757665,
          -73.9887088537,
          -73.9848855773,
          -73.98873,
          -73.99956,
          -73.98824,
          -73.98513,
          -73.9844309551,
          -73.98838,
          -74.00041,
          -73.9882174,
          -73.993137,
          -73.99351,
          -73.98778,
          -73.954956,
          -73.9935445413,
          -74.00072,
          -74.00597,
          -73.9857786,
          -73.99689,
          -73.995206,
          -73.98334,
          -73.99787,
          -73.9865590632,
          -73.992100412,
          -73.981185,
          -74.00436,
          -73.960441,
          -73.985815,
          -73.98754333,
          -73.9833259411,
          -73.99902,
          -73.9898,
          -73.9965955641,
          -73.9866691,
          -73.990692,
          -73.9917399,
          -73.986518,
          -73.9788544409,
          -73.99249,
          -73.988366,
          -73.952815,
          -73.9881304,
          -73.98945,
          -74.00078,
          -73.9885318279,
          -73.988074,
          -73.99925,
          -73.989706,
          -73.94751,
          -73.98991,
          -73.9861984253,
          -73.98551,
          -74.00698,
          -73.9898985543,
          -73.9831506,
          -73.9872,
          -73.98722,
          -73.98286,
          -73.983482,
          -73.99407,
          -73.98735,
          -73.9862015437,
          -73.9842741682,
          -73.983523,
          -73.99123,
          -73.999528,
          -73.989323,
          -73.968455,
          -73.84942,
          -73.98873,
          -73.98999,
          -73.9860685308,
          -74.003174,
          -73.9998929006,
          -73.95827,
          -73.9528407272,
          -73.98648,
          -73.960055,
          -74.0038766549,
          -73.988159,
          -73.9703551,
          -73.929419,
          -73.99808,
          -73.92855,
          -73.9889199,
          -73.99223,
          -73.98803,
          -73.97812,
          -73.9988519624,
          -73.999336,
          -73.99503,
          -73.89383,
          -73.958752,
          -74.00892,
          -73.95833,
          -73.9757981977,
          -73.98306,
          -74.0046846944,
          -73.982194,
          -73.974519968,
          -73.98705,
          -73.9851724,
          -73.962035427,
          -73.99579,
          -73.98738,
          -73.985324,
          -73.9992218018,
          -73.9989484,
          -73.9833494825,
          -73.9634982,
          -73.979454,
          -73.9925896,
          -73.9732461,
          -73.985209,
          -73.98608,
          -73.98271,
          -73.9977050234,
          -73.9831850898,
          -73.922414,
          -73.996441,
          -74.00042,
          -73.953575,
          -73.9945,
          -73.98128,
          -73.98615,
          -73.944839,
          -74.00194,
          -73.9837775426,
          -73.9863122632,
          -73.91112,
          -73.98541,
          -73.94008,
          -73.987537,
          -73.97266,
          -73.989104,
          -74.03199,
          -73.95471,
          -73.9898,
          -74.001444988,
          -73.98378,
          -73.9245712109,
          -73.99062,
          -73.971534729,
          -73.99042,
          -73.95591,
          -73.98459,
          -73.9628195532,
          -73.982083,
          -73.9847769,
          -73.9503321851,
          -73.9952634137,
          -74.0025704,
          -73.988554,
          -73.9778530962,
          -74.003685,
          -73.9095,
          -73.95554,
          -73.9880024,
          -74.00747,
          -73.97986,
          -73.9967,
          -73.98393,
          -73.98163,
          -73.887628037,
          -73.99838,
          -73.99148,
          -73.95845,
          -73.9854437478,
          -73.99968,
          -74.00044,
          -73.98362,
          -73.97457729999999,
          -73.983662,
          -73.97904,
          -73.9136856,
          -73.99273,
          -73.9837222575,
          -73.98428,
          -73.9916948,
          -73.93368,
          -73.99706,
          -73.9494479,
          -73.9452699,
          -73.933463,
          -73.92877,
          -73.9092001319,
          -73.9865440288,
          -73.9035436,
          -73.99583,
          -73.98882,
          -73.98583,
          -73.9212168609,
          -73.951286,
          -73.9938466,
          -73.9950497,
          -73.98026,
          -74.007919,
          -74.0712469296,
          -73.9882882411,
          -73.9899386554,
          -73.9901,
          -73.9509299397,
          -73.9853739,
          -73.97785,
          -73.92068,
          -73.94873,
          -73.98981,
          -73.98804,
          -73.991001,
          -73.97042,
          -74.0081,
          -74.0034680129,
          -73.954254,
          -73.99664,
          -73.9631,
          -73.9803699,
          -73.98877,
          -73.94978,
          -73.9701736994
         ],
         "marker": {
          "color": "#D35400",
          "size": 6
         },
         "mode": "markers",
         "name": "Asian FnB",
         "type": "scattermapbox"
        }
       ],
       "layout": {
        "mapbox": {
         "center": {
          "lat": 40.72758458415976,
          "lon": -73.97994324921221
         },
         "style": "carto-positron",
         "zoom": 10
        },
        "template": {
         "data": {
          "bar": [
           {
            "error_x": {
             "color": "#2a3f5f"
            },
            "error_y": {
             "color": "#2a3f5f"
            },
            "marker": {
             "line": {
              "color": "#E5ECF6",
              "width": 0.5
             },
             "pattern": {
              "fillmode": "overlay",
              "size": 10,
              "solidity": 0.2
             }
            },
            "type": "bar"
           }
          ],
          "barpolar": [
           {
            "marker": {
             "line": {
              "color": "#E5ECF6",
              "width": 0.5
             },
             "pattern": {
              "fillmode": "overlay",
              "size": 10,
              "solidity": 0.2
             }
            },
            "type": "barpolar"
           }
          ],
          "carpet": [
           {
            "aaxis": {
             "endlinecolor": "#2a3f5f",
             "gridcolor": "white",
             "linecolor": "white",
             "minorgridcolor": "white",
             "startlinecolor": "#2a3f5f"
            },
            "baxis": {
             "endlinecolor": "#2a3f5f",
             "gridcolor": "white",
             "linecolor": "white",
             "minorgridcolor": "white",
             "startlinecolor": "#2a3f5f"
            },
            "type": "carpet"
           }
          ],
          "choropleth": [
           {
            "colorbar": {
             "outlinewidth": 0,
             "ticks": ""
            },
            "type": "choropleth"
           }
          ],
          "contour": [
           {
            "colorbar": {
             "outlinewidth": 0,
             "ticks": ""
            },
            "colorscale": [
             [
              0,
              "#0d0887"
             ],
             [
              0.1111111111111111,
              "#46039f"
             ],
             [
              0.2222222222222222,
              "#7201a8"
             ],
             [
              0.3333333333333333,
              "#9c179e"
             ],
             [
              0.4444444444444444,
              "#bd3786"
             ],
             [
              0.5555555555555556,
              "#d8576b"
             ],
             [
              0.6666666666666666,
              "#ed7953"
             ],
             [
              0.7777777777777778,
              "#fb9f3a"
             ],
             [
              0.8888888888888888,
              "#fdca26"
             ],
             [
              1,
              "#f0f921"
             ]
            ],
            "type": "contour"
           }
          ],
          "contourcarpet": [
           {
            "colorbar": {
             "outlinewidth": 0,
             "ticks": ""
            },
            "type": "contourcarpet"
           }
          ],
          "heatmap": [
           {
            "colorbar": {
             "outlinewidth": 0,
             "ticks": ""
            },
            "colorscale": [
             [
              0,
              "#0d0887"
             ],
             [
              0.1111111111111111,
              "#46039f"
             ],
             [
              0.2222222222222222,
              "#7201a8"
             ],
             [
              0.3333333333333333,
              "#9c179e"
             ],
             [
              0.4444444444444444,
              "#bd3786"
             ],
             [
              0.5555555555555556,
              "#d8576b"
             ],
             [
              0.6666666666666666,
              "#ed7953"
             ],
             [
              0.7777777777777778,
              "#fb9f3a"
             ],
             [
              0.8888888888888888,
              "#fdca26"
             ],
             [
              1,
              "#f0f921"
             ]
            ],
            "type": "heatmap"
           }
          ],
          "heatmapgl": [
           {
            "colorbar": {
             "outlinewidth": 0,
             "ticks": ""
            },
            "colorscale": [
             [
              0,
              "#0d0887"
             ],
             [
              0.1111111111111111,
              "#46039f"
             ],
             [
              0.2222222222222222,
              "#7201a8"
             ],
             [
              0.3333333333333333,
              "#9c179e"
             ],
             [
              0.4444444444444444,
              "#bd3786"
             ],
             [
              0.5555555555555556,
              "#d8576b"
             ],
             [
              0.6666666666666666,
              "#ed7953"
             ],
             [
              0.7777777777777778,
              "#fb9f3a"
             ],
             [
              0.8888888888888888,
              "#fdca26"
             ],
             [
              1,
              "#f0f921"
             ]
            ],
            "type": "heatmapgl"
           }
          ],
          "histogram": [
           {
            "marker": {
             "pattern": {
              "fillmode": "overlay",
              "size": 10,
              "solidity": 0.2
             }
            },
            "type": "histogram"
           }
          ],
          "histogram2d": [
           {
            "colorbar": {
             "outlinewidth": 0,
             "ticks": ""
            },
            "colorscale": [
             [
              0,
              "#0d0887"
             ],
             [
              0.1111111111111111,
              "#46039f"
             ],
             [
              0.2222222222222222,
              "#7201a8"
             ],
             [
              0.3333333333333333,
              "#9c179e"
             ],
             [
              0.4444444444444444,
              "#bd3786"
             ],
             [
              0.5555555555555556,
              "#d8576b"
             ],
             [
              0.6666666666666666,
              "#ed7953"
             ],
             [
              0.7777777777777778,
              "#fb9f3a"
             ],
             [
              0.8888888888888888,
              "#fdca26"
             ],
             [
              1,
              "#f0f921"
             ]
            ],
            "type": "histogram2d"
           }
          ],
          "histogram2dcontour": [
           {
            "colorbar": {
             "outlinewidth": 0,
             "ticks": ""
            },
            "colorscale": [
             [
              0,
              "#0d0887"
             ],
             [
              0.1111111111111111,
              "#46039f"
             ],
             [
              0.2222222222222222,
              "#7201a8"
             ],
             [
              0.3333333333333333,
              "#9c179e"
             ],
             [
              0.4444444444444444,
              "#bd3786"
             ],
             [
              0.5555555555555556,
              "#d8576b"
             ],
             [
              0.6666666666666666,
              "#ed7953"
             ],
             [
              0.7777777777777778,
              "#fb9f3a"
             ],
             [
              0.8888888888888888,
              "#fdca26"
             ],
             [
              1,
              "#f0f921"
             ]
            ],
            "type": "histogram2dcontour"
           }
          ],
          "mesh3d": [
           {
            "colorbar": {
             "outlinewidth": 0,
             "ticks": ""
            },
            "type": "mesh3d"
           }
          ],
          "parcoords": [
           {
            "line": {
             "colorbar": {
              "outlinewidth": 0,
              "ticks": ""
             }
            },
            "type": "parcoords"
           }
          ],
          "pie": [
           {
            "automargin": true,
            "type": "pie"
           }
          ],
          "scatter": [
           {
            "fillpattern": {
             "fillmode": "overlay",
             "size": 10,
             "solidity": 0.2
            },
            "type": "scatter"
           }
          ],
          "scatter3d": [
           {
            "line": {
             "colorbar": {
              "outlinewidth": 0,
              "ticks": ""
             }
            },
            "marker": {
             "colorbar": {
              "outlinewidth": 0,
              "ticks": ""
             }
            },
            "type": "scatter3d"
           }
          ],
          "scattercarpet": [
           {
            "marker": {
             "colorbar": {
              "outlinewidth": 0,
              "ticks": ""
             }
            },
            "type": "scattercarpet"
           }
          ],
          "scattergeo": [
           {
            "marker": {
             "colorbar": {
              "outlinewidth": 0,
              "ticks": ""
             }
            },
            "type": "scattergeo"
           }
          ],
          "scattergl": [
           {
            "marker": {
             "colorbar": {
              "outlinewidth": 0,
              "ticks": ""
             }
            },
            "type": "scattergl"
           }
          ],
          "scattermapbox": [
           {
            "marker": {
             "colorbar": {
              "outlinewidth": 0,
              "ticks": ""
             }
            },
            "type": "scattermapbox"
           }
          ],
          "scatterpolar": [
           {
            "marker": {
             "colorbar": {
              "outlinewidth": 0,
              "ticks": ""
             }
            },
            "type": "scatterpolar"
           }
          ],
          "scatterpolargl": [
           {
            "marker": {
             "colorbar": {
              "outlinewidth": 0,
              "ticks": ""
             }
            },
            "type": "scatterpolargl"
           }
          ],
          "scatterternary": [
           {
            "marker": {
             "colorbar": {
              "outlinewidth": 0,
              "ticks": ""
             }
            },
            "type": "scatterternary"
           }
          ],
          "surface": [
           {
            "colorbar": {
             "outlinewidth": 0,
             "ticks": ""
            },
            "colorscale": [
             [
              0,
              "#0d0887"
             ],
             [
              0.1111111111111111,
              "#46039f"
             ],
             [
              0.2222222222222222,
              "#7201a8"
             ],
             [
              0.3333333333333333,
              "#9c179e"
             ],
             [
              0.4444444444444444,
              "#bd3786"
             ],
             [
              0.5555555555555556,
              "#d8576b"
             ],
             [
              0.6666666666666666,
              "#ed7953"
             ],
             [
              0.7777777777777778,
              "#fb9f3a"
             ],
             [
              0.8888888888888888,
              "#fdca26"
             ],
             [
              1,
              "#f0f921"
             ]
            ],
            "type": "surface"
           }
          ],
          "table": [
           {
            "cells": {
             "fill": {
              "color": "#EBF0F8"
             },
             "line": {
              "color": "white"
             }
            },
            "header": {
             "fill": {
              "color": "#C8D4E3"
             },
             "line": {
              "color": "white"
             }
            },
            "type": "table"
           }
          ]
         },
         "layout": {
          "annotationdefaults": {
           "arrowcolor": "#2a3f5f",
           "arrowhead": 0,
           "arrowwidth": 1
          },
          "autotypenumbers": "strict",
          "coloraxis": {
           "colorbar": {
            "outlinewidth": 0,
            "ticks": ""
           }
          },
          "colorscale": {
           "diverging": [
            [
             0,
             "#8e0152"
            ],
            [
             0.1,
             "#c51b7d"
            ],
            [
             0.2,
             "#de77ae"
            ],
            [
             0.3,
             "#f1b6da"
            ],
            [
             0.4,
             "#fde0ef"
            ],
            [
             0.5,
             "#f7f7f7"
            ],
            [
             0.6,
             "#e6f5d0"
            ],
            [
             0.7,
             "#b8e186"
            ],
            [
             0.8,
             "#7fbc41"
            ],
            [
             0.9,
             "#4d9221"
            ],
            [
             1,
             "#276419"
            ]
           ],
           "sequential": [
            [
             0,
             "#0d0887"
            ],
            [
             0.1111111111111111,
             "#46039f"
            ],
            [
             0.2222222222222222,
             "#7201a8"
            ],
            [
             0.3333333333333333,
             "#9c179e"
            ],
            [
             0.4444444444444444,
             "#bd3786"
            ],
            [
             0.5555555555555556,
             "#d8576b"
            ],
            [
             0.6666666666666666,
             "#ed7953"
            ],
            [
             0.7777777777777778,
             "#fb9f3a"
            ],
            [
             0.8888888888888888,
             "#fdca26"
            ],
            [
             1,
             "#f0f921"
            ]
           ],
           "sequentialminus": [
            [
             0,
             "#0d0887"
            ],
            [
             0.1111111111111111,
             "#46039f"
            ],
            [
             0.2222222222222222,
             "#7201a8"
            ],
            [
             0.3333333333333333,
             "#9c179e"
            ],
            [
             0.4444444444444444,
             "#bd3786"
            ],
            [
             0.5555555555555556,
             "#d8576b"
            ],
            [
             0.6666666666666666,
             "#ed7953"
            ],
            [
             0.7777777777777778,
             "#fb9f3a"
            ],
            [
             0.8888888888888888,
             "#fdca26"
            ],
            [
             1,
             "#f0f921"
            ]
           ]
          },
          "colorway": [
           "#636efa",
           "#EF553B",
           "#00cc96",
           "#ab63fa",
           "#FFA15A",
           "#19d3f3",
           "#FF6692",
           "#B6E880",
           "#FF97FF",
           "#FECB52"
          ],
          "font": {
           "color": "#2a3f5f"
          },
          "geo": {
           "bgcolor": "white",
           "lakecolor": "white",
           "landcolor": "#E5ECF6",
           "showlakes": true,
           "showland": true,
           "subunitcolor": "white"
          },
          "hoverlabel": {
           "align": "left"
          },
          "hovermode": "closest",
          "mapbox": {
           "style": "light"
          },
          "paper_bgcolor": "white",
          "plot_bgcolor": "#E5ECF6",
          "polar": {
           "angularaxis": {
            "gridcolor": "white",
            "linecolor": "white",
            "ticks": ""
           },
           "bgcolor": "#E5ECF6",
           "radialaxis": {
            "gridcolor": "white",
            "linecolor": "white",
            "ticks": ""
           }
          },
          "scene": {
           "xaxis": {
            "backgroundcolor": "#E5ECF6",
            "gridcolor": "white",
            "gridwidth": 2,
            "linecolor": "white",
            "showbackground": true,
            "ticks": "",
            "zerolinecolor": "white"
           },
           "yaxis": {
            "backgroundcolor": "#E5ECF6",
            "gridcolor": "white",
            "gridwidth": 2,
            "linecolor": "white",
            "showbackground": true,
            "ticks": "",
            "zerolinecolor": "white"
           },
           "zaxis": {
            "backgroundcolor": "#E5ECF6",
            "gridcolor": "white",
            "gridwidth": 2,
            "linecolor": "white",
            "showbackground": true,
            "ticks": "",
            "zerolinecolor": "white"
           }
          },
          "shapedefaults": {
           "line": {
            "color": "#2a3f5f"
           }
          },
          "ternary": {
           "aaxis": {
            "gridcolor": "white",
            "linecolor": "white",
            "ticks": ""
           },
           "baxis": {
            "gridcolor": "white",
            "linecolor": "white",
            "ticks": ""
           },
           "bgcolor": "#E5ECF6",
           "caxis": {
            "gridcolor": "white",
            "linecolor": "white",
            "ticks": ""
           }
          },
          "title": {
           "x": 0.05
          },
          "xaxis": {
           "automargin": true,
           "gridcolor": "white",
           "linecolor": "white",
           "ticks": "",
           "title": {
            "standoff": 15
           },
           "zerolinecolor": "white",
           "zerolinewidth": 2
          },
          "yaxis": {
           "automargin": true,
           "gridcolor": "white",
           "linecolor": "white",
           "ticks": "",
           "title": {
            "standoff": 15
           },
           "zerolinecolor": "white",
           "zerolinewidth": 2
          }
         }
        }
       }
      },
      "text/html": [
       "<div>                            <div id=\"3837c894-6e08-435d-b846-2063c8e5d43f\" class=\"plotly-graph-div\" style=\"height:525px; width:100%;\"></div>            <script type=\"text/javascript\">                require([\"plotly\"], function(Plotly) {                    window.PLOTLYENV=window.PLOTLYENV || {};                                    if (document.getElementById(\"3837c894-6e08-435d-b846-2063c8e5d43f\")) {                    Plotly.newPlot(                        \"3837c894-6e08-435d-b846-2063c8e5d43f\",                        [{\"hoverinfo\":\"none\",\"lat\":[40.7416907417,40.760835,40.7230875561,40.754704598800004,40.739694,40.7080062769,40.722766,40.7763615,40.761557,40.7027471877,40.709945,40.7502727,40.76442,40.7258,40.722237,40.72990742,40.756326,40.7264988089,40.681442,40.77078,40.7698275927,40.689413,40.7866504412,40.705686492,40.71757,40.71789,40.7384,40.7038667131,40.75725,40.76064,40.74207,40.7422762672,40.727066,40.71244,40.7183878,40.72996,40.7644044527,40.71909,40.74070517,40.721021,40.76344,40.7273355778,40.7247404628,40.7422546402,40.744435,40.7063449,40.731746522899996,40.741046,40.7377500834,40.71694,40.761861,40.7142634,40.73966,40.71226,40.72191,40.745414,40.779449,40.7524054938,40.710372,40.71735,40.7502059937,40.72911,40.7228416514,40.716337,40.7280299,40.67791,40.74424,40.7213813139,40.7196796287,40.74501,40.7197501398,40.72659,40.759876,40.72979,40.750132,40.73382,40.7320465,40.737772,40.7217399,40.68451,40.6749782204,40.72654,40.74519,40.71338,40.7293750156,40.74502,40.7499675032,40.71419,40.72551,40.6907607509,40.74745,40.7290432506,40.688684,40.7392732839,40.6846046448,40.72516,40.762010000000004,40.72545,40.75433,40.744509,40.764958,40.75558,40.74435,40.770153,40.6901481294,40.718437,40.72371,40.721593496,40.705042,40.6651821086,40.72915,40.6998889,40.71151,40.7342670595,40.723625,40.7629734278,40.7482252753,40.764345,40.71931,40.720572,40.719135,40.7610956593,40.7547,40.6879459,40.680161,40.703306333,40.71747,40.72532,40.704676,40.7019547715,40.7142,40.772855,40.72787,40.7478576794,40.7174109,40.711191,40.728901,40.7249227818,40.7406999,40.71442,40.731516,40.7605062893,40.7270590142,40.751587,40.746183,40.7842696,40.71798,40.753517,40.72683167,40.726035,40.7600737531,40.71441,40.71945,40.7177673,40.756125995,40.74428,40.7218841,40.7197229754,40.728790000000004,40.75596,40.741019,40.724,40.7229078654,40.6749240943,40.730932,40.71839,40.7436999,40.7398895226,40.70789,40.70329,40.727283504,40.7646298318,40.6835199838,40.7276,40.7707702253,40.72191,40.712168,40.7715009532,40.745481,40.763160413,40.7439934462,40.7605198742,40.70411,40.687037,40.7176199,40.721988,40.7196298,40.72161,40.767568,40.7180658,40.74409,40.71377,40.7200099,40.71876,40.73225,40.721999,40.75238,40.6938569335,40.7078529,40.75107,40.7198495418,40.76079,40.68692,40.75878,40.625093,40.75634,40.7243479164,40.73661,40.732072,40.71981,40.717414735,40.69165,40.71623,40.742702,40.6797687107,40.719348,40.7402334889,40.721936,40.725612,40.743619,40.78098,40.71946,40.66642,40.7536079618,40.74133,40.6127378,40.7629,40.7502365112,40.72517,40.7198118,40.72418,40.7253571044,40.6860234099,40.733152,40.7059677365,40.728,40.72782,40.7306,40.752727697,40.7263350655,40.673165,40.6291809,40.6833699737,40.7312720665,40.76075,40.68134,40.72583,40.686412,40.7591422379,40.6884292,40.7623,40.74811,40.7218036215,40.686448,40.72674,40.74421,40.7234742086,40.779583,40.728647,40.71692,40.73881,40.724759,40.7157238,40.7535743713,40.735088,40.74769,40.68146,40.74897,40.7296463653,40.73913,40.7252151982,40.69506,40.73113,40.68562,40.745939,40.70401,40.7184736,40.74324,40.7287,40.722647,40.71461,40.7320627017,40.7635033079,40.677941,40.7309471231,40.70421,40.7433018974,40.71044,40.7629335072,40.72877,40.7705,40.7297938747,40.72741,40.70961,40.717115,40.6773052,40.7179,40.7476973488,40.727102,40.724597,40.7529411138,40.6987126,40.733486319,40.793509,40.758413,40.6076329987,40.68412,40.727861,40.720081060300004,40.72969,40.752092,40.690706,40.7191396454,40.74747,40.714247,40.73398,40.6717311854,40.7289445,40.720079,40.6026411896,40.6833674,40.74477,40.7272,40.7113574432,40.764291,40.6896859,40.72378,40.6662419,40.68391,40.66296,40.72933,40.703111,40.733983,40.722387,40.75233,40.70413,40.7563,40.72939,40.6834345007,40.7262073,40.763702,40.76733,40.738058,40.6808,40.74598,40.758364,40.68618,40.704512,40.719021952,40.6871172878,40.760943924,40.73542,40.66476,40.71994,40.71821,40.6872641,40.72549,40.71524,40.71125,40.7139015198,40.745233999999996,40.7141357508,40.762711,40.74165,40.6688499964,40.71583,40.75261,40.725639,40.7167661606,40.69059,40.70683,40.67343,40.75435,40.7200188461,40.677274876,40.74635,40.708865,40.7211087,40.745216,40.7409807,40.73654,40.753188,40.714954204,40.7351368757,40.722704,40.7486725,40.68562,40.7525275895,40.7334346,40.748310000000004,40.7608512,40.6830415994,40.7191369,40.7510509219,40.720809,40.71909,40.71499,40.6824378967,40.63319,40.6747232719,40.69316,40.724483,40.75844,40.67349,40.73437,40.70806,40.74078,40.689264,40.76256,40.6832286326,40.6389709339,40.755136,40.6761199579,40.74873,40.698279,40.7144776643,40.761855,40.7468603,40.7711335539,40.756282,40.74164,40.673484,40.72349,40.68755,40.67987,40.71991,40.68309,40.75923,40.739475,40.72667,40.741084,40.72012,40.7297821045,40.7138543,40.7294630362,40.7097005195,40.7562107329,40.7508121,40.7267693111,40.75801,40.75407,40.76033,40.6750885,40.7336822146,40.669892,40.71672,40.7273563342,40.760935269,40.759761,40.722484,40.725925,40.7161793,40.70419,40.6893727909,40.7582670861,40.7042482,40.718271,40.721845,40.7321845555,40.72702,40.7585214267,40.71897,40.722815737,40.7291,40.7601538839,40.74183,40.71852,40.714704354,40.68777,40.7459087,40.7555993938,40.6911103553,40.7196975497,40.706071,40.72967,40.743843,40.7456996892,40.712808,40.7431,40.72695,40.747241,40.73382,40.71897,40.727303,40.742827,40.76372,40.686579,40.7073514,40.71871,40.6730907423,40.748448,40.72598,40.7455012523,40.73767,40.720809,40.712746,40.7533599,40.6923575699,40.76339,40.7047772,40.728498,40.7593755,40.715385,40.7589,40.73931,40.7311,40.70788,40.7065,40.73307,40.71153,40.7662427,40.7032670673,40.7140625,40.71054,40.6845433545,40.7597626504,40.72803,40.6876506909,40.7313423,40.743456049,40.73495,40.77235,40.727942,40.67499,40.7475731586,40.72374,40.6770523795,40.768311,40.67123,40.6933631897,40.71086,40.727125,40.703785,40.66549,40.747961,40.73086,40.72908,40.722386,40.67443,40.7594945116,40.727617,40.74762,40.76491,40.763732,40.733828,40.7188720703,40.7354,40.712389,40.71354,40.7398415,40.67792,40.7188586,40.6913170316,40.7189865112,40.7211890205,40.729519,40.717057,40.721433,40.73879,40.72084,40.72633,40.7158,40.7381972956,40.75183,40.6821546664,40.751734,40.697516,40.7393774,40.69088,40.70933,40.7133090172,40.76018,40.6980763645,40.7442,40.7135,40.7558937073,40.76157,40.73331,40.687,40.68151,40.7262776244,40.71267,40.67959,40.67719,40.74232,40.7750008,40.70359,40.75266,40.726628038,40.7819,40.6932355,40.724329,40.74138,40.7189,40.72743,40.7990529691,40.688006,40.662645,40.7234929272,40.715528,40.754,40.755963,40.7256179673,40.75547,40.7298,40.781225,40.7317819,40.670861,40.67,40.728721,40.713506642,40.7053698665,40.71972,40.6655697293,40.68099,40.7117379047,40.68692,40.76005,40.6896,40.7354552763,40.75427,40.719949,40.7581054545,40.759979,40.725117,40.74337,40.7583874009,40.72277,40.723937,40.73251,40.72242,40.774959,40.7459491718,40.7473853657,40.71395,40.73437,40.6962553196,40.68202,40.72331,40.7417,40.724022941,40.7502441406,40.71707,40.7618463162,40.71792,40.6993863969,40.6868253181,40.7325968005,40.7517735073,40.7288816875,40.70275,40.6560593,40.72511,40.74506,40.757858,40.70591,40.7322779619,40.7596626938,40.74303,40.7209581056,40.71928,40.7229699,40.71558,40.71897,40.70634,40.6891838586,40.72602,40.7104955692,40.72494,40.7552257152,40.7434403431,40.71601,40.71941,40.71466,40.72708,40.760256,40.72908,40.71432,40.715591,40.774977,40.74754,40.727688,40.67741,40.7402121,40.7168599,40.75414,40.72218,40.6885397234,40.72152,40.7054623,40.6741699,40.7733268782,40.72884,40.6631667074,40.723826,40.7606,40.7125,40.7298109369,40.7538189544,40.73571,40.75213,40.7433420116,40.7158246143,40.730362,40.74633,40.69473,40.760558,40.72077,40.748500492,40.7102965208,40.669616,40.6797218323,40.73615,40.73829,40.7159480622,40.6796443,40.6642062,40.5982399,40.759407,40.6712095109,40.798066975,40.779199,40.76435,40.72808,40.6931816,40.7461895,40.616988,40.703234,40.724691,40.71693,40.7187372958,40.7468940064,40.752881388,40.73104,40.73316,40.7027,40.7302502416,40.7303699423,40.7434133401,40.72572,40.6875,40.754416,40.717937,40.690328882,40.7632,40.6892919,40.69701,40.715,40.72621,40.77249,40.772194,40.7131652,40.73596,40.76508,40.72308,40.739135,40.756377,40.707518,40.741502,40.70512,40.69104,40.70676,40.71766,40.7268242337,40.753781,40.7400439663,40.7748899167,40.707387,40.738070676,40.75251,40.730545186,40.723699,40.791077,40.72432,40.7458357,40.7763650432,40.7230242082,40.7273733082,40.6687898634,40.7335489,40.717593,40.7471282,40.7332670925,40.6822863089,40.70707,40.72317,40.71824,40.7144450596,40.73901,40.723026,40.748558628,40.74701,40.70659,40.6680246549,40.7624395,40.7438892342,40.7062346082,40.689746,40.7142,40.7285088308,40.72611,40.760876,40.7616673527,40.7176139,40.73328,40.7181661,40.71755,40.7196877017,40.7208633,40.7396659851,40.75809,40.7633418051,40.71659,40.665832,40.7395,40.728212,40.72957,40.6123064741,40.74534,40.7463491877,40.788825,40.7296921,40.7212414,40.6708930769,40.7139415502,40.73885,40.74666,40.7189,40.694143,40.7142682507,40.68764,40.7243301735,40.7158556938,40.7614994603,40.7180159,40.6876300136,40.715022,40.677496,40.706891,40.723015,40.6652526855,40.74922,40.7573,40.78922,40.74761,40.74459,40.6844714495,40.712343,40.766056,40.7383506435,40.6764068073,40.6884272,40.673491210899996,40.7395804,40.7392845154,40.71551,40.7366922552,40.765533763,40.73038,40.7593184619,40.72088,40.718056,40.72104,40.770385434,40.7271881104,40.7576,40.765055,40.71385,40.736202,40.64606,40.7051384475,40.75743,40.7299986601,40.726746,40.71334,40.7348192,40.7298950459,40.763719947,40.72836,40.760949169,40.747115,40.743232,40.72732,40.7144061704,40.71568,40.70427,40.6732865,40.70579,40.74236,40.7104799,40.747311,40.758143,40.71978,40.78002,40.6468364563,40.645338,40.721372,40.7199624,40.750341,40.73012,40.7560965066,40.7166436879,40.687597,40.74114,40.6913770269,40.7196288494,40.72066,40.688182,40.719135,40.72692],\"lon\":[-73.9872074872,-73.987823,-73.9945300118,-73.9722253396,-73.987832,-74.0088822652,-73.996233,-73.95308,-73.981763,-73.993434902,-73.962478,-73.9844951,-73.98169,-73.9927,-73.9875259,-74.004213804,-73.981117,-73.9866526052,-73.977241,-73.95727,-73.9576330869,-73.970866,-73.9755284786,-74.0021896145,-73.95236,-73.9988,-73.99892,-73.9947936022,-73.96774,-73.99023,-74.00565,-74.0048000962,-73.983505,-73.994,-74.0015522,-74.00065,-73.9767805052,-74.00013,-73.8793501821,-73.962177,-73.98661,-74.0002623933,-73.9914435834,-74.0059581,-73.98832,-74.0076944,-74.0045493828,-73.991421,-73.9896341365,-74.0057,-73.979306,-73.9616646,-73.99247,-73.96641,-73.957873,-73.979004,-73.963245,-73.9982864847,-73.96794,-73.99457,-73.9953231812,-73.98858,-73.9831015,-73.988577,-74.00167,-73.97929,-73.98878,-73.9950757665,-73.9887088537,-73.95363,-73.9848855773,-73.98873,-73.986767,-74.00455,-73.983824,-74.00042,-73.9996698411,-73.987876,-73.98739,-73.99225,-73.9995224876,-73.99956,-73.98824,-73.95136,-74.0038630671,-73.98513,-73.9844309551,-73.99041,-73.98838,-73.9830572638,-74.00041,-73.9882174,-73.993137,-73.9734576883,-73.9921875,-74.00296,-73.99351,-73.99269,-73.97277,-73.9856,-73.976206,-73.99012,-73.98778,-73.954956,-73.9935445413,-73.989807,-73.95157,-73.9955956045,-73.928078,-73.9865395411,-74.00072,-73.9067463,-74.00597,-73.9910549188,-73.988555,-73.9211956412,-73.9857786,-73.98798,-73.99689,-73.995206,-73.991758,-73.9777572447,-73.98696,-73.988257,-73.977716,-73.9916549605,-73.95005,-73.98334,-73.987975,-73.903537,-73.99787,-73.983121,-74.0010999,-73.9865590632,-73.992100412,-73.961424,-73.981185,-74.0021553663,-74.00436,-73.960441,-73.989501,-73.9945644889,-73.9885927273,-73.985815,-73.997642,-73.9734941,-73.99042,-73.937647,-73.98754333,-73.989936,-73.9833259411,-73.99902,-73.9898,-73.990589,-73.9965955641,-74.00272,-73.9866691,-73.9891977172,-74.00165,-73.98532,-73.990692,-74.010502,-73.9852072054,-73.9566017389,-73.988061,-73.9917399,-74.00314,-74.007379635,-74.00712,-74.01102,-73.9858313,-73.9159499109,-73.9669024162,-74.000045,-73.9663760712,-73.98768,-73.955707,-73.9560898337,-73.986518,-73.9788544409,-73.9240421355,-73.9219700561,-74.01186,-73.978577,-73.99249,-73.992466,-73.988366,-73.98875,-73.952815,-73.9881304,-73.98945,-73.95786,-73.993839,-73.991026,-74.00078,-73.959708,-73.98939,-74.0030887378,-73.9437707,-73.98135,-73.9885318279,-73.97221,-73.98437,-73.89165,-73.961531,-73.966489,-73.9512226101,-73.99181,-73.988074,-73.99722,-74.0094323599,-73.98603,-73.99925,-74.000778,-74.0103686973,-73.989706,-73.9962661,-73.950597,-74.007916,-73.999928,-73.94751,-73.98498,-73.97535,-73.9832969941,-73.98747,-74.0339271,-73.98991,-73.9861984253,-74.00212,-74.0083092,-74.00837,-73.9832095,-73.9731421,-74.003638,-73.9966657489,-73.99441,-73.98551,-74.00698,-73.9772394603,-73.9920476876,-73.983292,-74.0057526,-73.9437798411,-73.9593493648,-73.97379,-73.9938279,-73.99299,-73.966629,-73.9898985543,-73.9831506,-73.92555,-73.9872,-73.9964836,-73.974163,-73.98722,-73.98286,-73.9963118,-73.983482,-73.999383,-74.00792,-73.99407,-73.994728,-73.9916115,-73.9914321899,-73.9931414,-73.98735,-73.95589,-73.98348,-73.9862015437,-74.00363,-73.9842741682,-73.98339,-74.00306,-73.9819,-73.983523,-73.93086,-73.9600178,-73.99123,-73.99971,-73.995246,-73.999528,-74.003655227,-73.989323,-73.968455,-74.0041171779,-74.01208,-73.9962961113,-73.84942,-73.9776668698,-73.98873,-73.92066,-73.9853292,-73.98816,-74.0093799,-73.940613,-73.9863991,-73.98999,-73.9860685308,-73.982987,-74.003174,-73.998724286,-73.9926383973,-73.9998929006,-73.94066,-73.983292,-73.9428921973,-74.0024,-73.979339,-73.9903375,-73.95827,-74.0026757,-73.9952269,-73.9528407272,-73.98648,-73.960055,-73.95504,-73.957878,-74.0015073,-73.987785,-74.0038766549,-73.9997959,-73.98701,-73.99228,-74.0178817098,-73.988159,-73.9703551,-73.98849,-73.985749,-73.929419,-73.98468,-73.99808,-73.921892,-74.006549,-74.0095662,-73.97353,-73.93309,-73.92855,-73.9889199,-73.9346118564,-74.0018919,-73.988386,-73.98945,-73.989289,-73.97764,-73.97753,-73.924101,-73.97377,-74.009834,-73.9845000316,-73.9779228256,-73.9768230849,-73.98835,-73.98648,-73.95791,-73.99223,-73.9449562,-73.98803,-73.99183,-73.9468,-73.9604492188,-73.97812,-73.9988519624,-73.986708,-73.98154,-73.9896939344,-73.999336,-73.97342,-73.991714,-73.9616957,-73.99503,-73.9228,-73.95682,-73.97282,-73.9969412165,-73.9554135086,-73.89383,-74.01117,-74.0098128,-73.95357,-73.9980996,-74.00639,-73.969365,-73.959786,-74.0068169793,-73.98332,-73.9945145,-73.98587,-73.9829860255,-73.9916923,-73.9499,-73.9694809,-73.9928337146,-73.9908998,-74.001948082,-73.958752,-74.00892,-73.95833,-73.9931335449,-74.02742,-73.9757981977,-73.99871,-73.99504,-73.98306,-73.9574,-74.00272,-74.0051,-73.99695,-74.0445004,-73.97566,-73.9319809048,-74.0046846944,-73.982194,-73.974519968,-73.98705,-73.993031,-74.0074549,-73.964895,-73.9851724,-73.962035427,-73.8806,-73.98132,-73.957267,-73.99579,-73.962357,-73.964352,-73.98476,-73.9928,-73.9841,-74.001143,-73.98738,-73.985324,-73.98932,-73.9992218018,-73.9989484,-73.9868481248,-74.013953805,-73.9833494825,-73.9819335,-73.9847712789,-73.98008,-73.96623,-73.92245,-73.9634982,-73.9895997904,-73.979454,-73.96543,-74.0004944801,-73.9888988739,-73.992065,-73.989129,-74.009489,-73.9925896,-73.93044,-73.9732461,-73.9768371,-74.0101127,-73.985209,-73.995802,-74.0032725,-73.98608,-73.9718883426,-73.99693,-73.9557975,-73.98105,-73.9909442573,-73.98271,-74.00491,-73.9977050234,-73.97887,-73.9937093,-73.9944156727,-73.9831850898,-73.9873982202,-73.922414,-74.00421,-73.856118,-73.9880941,-74.009065,-73.9871,-73.984328,-73.996441,-74.00042,-73.95634,-74.00243,-73.953575,-73.92158,-73.974191,-73.9222454,-73.9945,-73.9573492245,-73.985669,-73.98672,-73.9534122021,-73.98128,-73.958752,-74.01338,-73.9732416,-73.945768699,-73.97404,-74.006428741,-73.98615,-73.9794036288,-73.944839,-73.91941,-73.99243,-73.993241,-74.00194,-74.00777,-74.005693,-73.96761,-73.9812435,-73.9922419277,-73.9653783254,-73.85006,-73.9837775426,-73.9652888022,-74.00097,-73.9793075316,-74.0028996,-73.984703009,-74.00628,-73.92922,-73.984469,-73.99961,-73.9863122632,-73.9893,-73.9634169638,-73.91112,-73.991018,-73.970413208,-73.95386,-74.007683,-73.930765,-73.98259,-73.99163,-73.989939,-73.98541,-73.991958,-73.95022,-73.9867345196,-73.993464,-73.94008,-73.987537,-73.9215625,-73.993052,-73.9453811646,-73.95528,-73.9555675,-73.9413,-73.9792862,-73.97266,-73.9552174,-73.9878609404,-73.9969329834,-73.9570004493,-73.989104,-73.958764,-73.995689,-73.99455,-74.03199,-73.95471,-73.9898,-74.001444988,-73.97236,-73.9380417432,-73.984183,-73.967514,-73.9889987,-73.98378,-73.95407,-74.0101668242,-73.991093,-73.9245712109,-73.99062,-73.944046,-73.971534729,-73.9744,-73.98763,-73.99042,-73.95591,-73.9835707495,-73.96082,-73.96837,-74.01291,-73.91777,-73.9095623,-73.99411,-73.98459,-73.9844047694,-73.95197,-74.0007940774,-74.002508,-73.98107,-73.956843,-73.98521,-73.9628195532,-73.982083,-73.9847769,-73.9503321851,-73.944273,-73.9298699,-73.928666,-73.9952634137,-73.99439,-73.95971,-73.948904,-74.0025704,-73.963442,-73.95837,-73.988554,-73.9585529681,-74.0010540251,-74.00707,-73.9822988918,-73.97752,-73.9629429869,-73.97469,-73.98913,-73.96982,-74.0082208401,-73.9903099,-73.988297,-73.9778530962,-73.97824,-74.003685,-73.99153,-73.9718681,-73.98989,-73.983519,-73.99866,-73.98397,-73.9095,-73.9775669,-73.9967849753,-73.95554,-74.00272,-73.9975168581,-73.94977,-74.00363,-73.990571,-73.9938613,-73.9970245361,-73.96322,-73.9742299835,-73.988317,-73.9265948743,-73.962869,-73.9880024,-73.9905076101,-74.0030682157,-73.98124,-73.9597273,-74.00333,-73.99834,-73.980035,-74.00747,-73.9929321762,-73.9862253358,-73.97986,-73.9624738336,-74.00597,-73.99576,-73.9967,-74.00102,-73.93136,-73.9549609646,-73.98393,-73.9587849124,-74.03631,-73.98163,-73.887628037,-73.99838,-73.98501,-73.99148,-73.98546,-73.907328,-73.97815,-74.00972,-73.9649236,-73.913251,-73.9735,-74.0004851282,-73.98265,-73.9874529,-73.95845,-73.99245,-73.98319,-73.9854437478,-73.98462,-74.0016428,-73.99968,-73.9113807678,-74.00488,-73.9845233118,-73.9509979,-73.995,-73.96056,-73.9926904,-74.002155715,-74.00044,-73.98383,-73.9910807129,-73.9914940147,-73.98362,-73.98902,-73.99361,-73.990357,-73.99646,-73.9879776294,-73.966014,-73.986601,-73.9821624756,-74.00609,-74.0054,-73.9873785184,-73.97457729999999,-73.9807260017,-74.0798,-73.971051,-73.9579255587,-73.9368363595,-73.983662,-73.97904,-73.98615,-74.000869,-73.9136856,-74.034023,-74.008687,-73.983688,-73.94295,-73.9481994726,-74.0049896785,-73.981064558,-73.9932199,-73.99273,-73.99314,-73.9578101411,-73.9837222575,-73.999627722,-73.98428,-74.00135,-73.989586,-73.9989123366,-73.9938121,-73.98469,-73.9916948,-73.93368,-73.99706,-74.00431,-73.95713,-73.9776,-73.9494479,-74.00093,-73.99128,-73.9452699,-74.005738,-73.923855,-73.903177,-74.008175,-73.933463,-73.98328,-73.92877,-73.99836,-73.984036,-73.9689989,-73.9930878,-73.9092001319,-73.922843,-73.988587927,-73.96758,-73.9865440288,-73.987809,-73.973763,-73.97851,-73.9035436,-73.9529693361,-73.9917936789,-74.0438175,-73.990421,-73.9901842,-73.998396,-73.9869043,-73.9929751334,-73.9800181247,-74.00244,-73.99568,-73.99583,-73.9615832,-73.98882,-73.989664,-73.9859369288,-73.98583,-74.00266,-73.9878008,-73.9971462,-73.9212168609,-74.0023067,-73.951286,-73.99886,-73.9861517027,-74.0009180868,-73.99006,-73.9755601503,-73.990234,-73.99905,-73.9938466,-73.95603,-73.9961054743,-73.9950497,-73.9958267212,-73.98026,-73.9281750915,-74.007919,-73.988916,-73.99922,-73.985182,-74.00073,-74.0712469296,-73.97761,-73.9882882411,-73.948474,-73.9964861994,-73.9576737083,-73.9851494254,-73.9899386554,-74.00932,-73.97722,-74.00458,-73.94580500000001,-74.0077059599,-73.9901,-73.9509299397,-73.9641488,-73.9763089992,-73.9853739,-73.9568200707,-74.010284,-73.982659,-73.905479,-73.983207,-73.9825668335,-73.97785,-73.92068,-73.94873,-73.98631,-73.90351,-73.950234662,-73.952121,-73.980504,-74.0041220472,-73.9627275318,-73.9831304054,-74.0101907338,-73.999118,-73.9989318848,-73.99022,-73.9814881135,-73.9192518515,-73.98307,-73.9930061474,-73.98981,-73.988081,-73.98804,-73.9535711918,-73.9851989746,-73.98693,-73.991001,-73.95554,-73.955558,-73.97217,-73.923053896,-73.97042,-74.0038951002,-73.988325,-74.0081,-74.0032416,-74.0034680129,-73.9891322,-73.9572,-73.9875069,-73.973961,-73.954254,-73.99398,-73.9981723213,-73.99664,-73.9302,-73.9631,-74.00859,-73.9803699,-73.96351,-73.8531885,-73.971492,-73.98877,-73.94978,-73.9701736994,-74.107791,-73.997529,-73.9885666,-73.976134,-74.00275,-73.9805131,-74.0076622322,-74.001266,-73.99011,-74.0164375305,-73.9871140215,-73.99666,-73.986572,-73.985747,-73.98342],\"marker\":{\"color\":\"#D7BDE2\",\"size\":6},\"mode\":\"markers\",\"name\":\"Reviewed Yelp Places\",\"type\":\"scattermapbox\"},{\"hoverinfo\":\"all\",\"hovertext\":[\"JUA\\u003cbr\\u003ePrice: $$$$\\u003cbr\\u003eRating: 4.5\",\"Bua Thai Ramen & Robata Grill\\u003cbr\\u003ePrice: $$\\u003cbr\\u003eRating: 4.5\",\"Tonchin\\u003cbr\\u003ePrice: $$\\u003cbr\\u003eRating: 4.5\",\"Fish Cheeks\\u003cbr\\u003ePrice: $$\\u003cbr\\u003eRating: 4.5\",\"Top Thai Vintage\\u003cbr\\u003ePrice: $$$\\u003cbr\\u003eRating: 4.5\",\"Raku\\u003cbr\\u003ePrice: $$\\u003cbr\\u003eRating: 4.5\",\"5ive Spice\\u003cbr\\u003ePrice: $$\\u003cbr\\u003eRating: 4.5\",\"THEP Thai Restaurant\\u003cbr\\u003ePrice: $$\\u003cbr\\u003eRating: 4.5\",\"Up Thai\\u003cbr\\u003ePrice: $$\\u003cbr\\u003eRating: 4.5\",\"Taiyaki NYC\\u003cbr\\u003ePrice: $\\u003cbr\\u003eRating: 4.5\",\"Tomi Jazz\\u003cbr\\u003ePrice: $$\\u003cbr\\u003eRating: 4.5\",\"Very Fresh Noodles\\u003cbr\\u003ePrice: $$\\u003cbr\\u003eRating: 4.5\",\"Buddakan\\u003cbr\\u003ePrice: $$$$\\u003cbr\\u003eRating: 4.0\",\"Hanoi House\\u003cbr\\u003ePrice: $$\\u003cbr\\u003eRating: 4.5\",\"JoJu\\u003cbr\\u003ePrice: $$\\u003cbr\\u003eRating: 4.5\",\"Ippudo Westside\\u003cbr\\u003ePrice: $$\\u003cbr\\u003eRating: 4.0\",\"PLANTA Queen Nomad\\u003cbr\\u003ePrice: $$\\u003cbr\\u003eRating: 4.5\",\"Sushi Nakazawa\\u003cbr\\u003ePrice: $$$$\\u003cbr\\u003eRating: 4.5\",\"COTE Korean Steakhouse\\u003cbr\\u003ePrice: $$$$\\u003cbr\\u003eRating: 4.0\",\"The Halal Guys\\u003cbr\\u003ePrice: $\\u003cbr\\u003eRating: 4.0\",\"Oiji Mi\\u003cbr\\u003ePrice: $$$$\\u003cbr\\u003eRating: 4.5\",\"Wah Fung No 1\\u003cbr\\u003ePrice: $\\u003cbr\\u003eRating: 4.5\",\"Szechuan Mountain House\\u003cbr\\u003ePrice: $$\\u003cbr\\u003eRating: 4.5\",\"Secchu Yokota\\u003cbr\\u003ePrice: $$$$\\u003cbr\\u003eRating: 5.0\",\"DOMODOMO - New York\\u003cbr\\u003ePrice: $$$\\u003cbr\\u003eRating: 4.0\",\"Kyuramen - Park Slope\\u003cbr\\u003ePrice: $$\\u003cbr\\u003eRating: 4.5\",\"Wayan\\u003cbr\\u003ePrice: $$$\\u003cbr\\u003eRating: 4.0\",\"Izakaya Juraku\\u003cbr\\u003ePrice: $$$\\u003cbr\\u003eRating: 4.5\",\"Yopparai\\u003cbr\\u003ePrice: $$$\\u003cbr\\u003eRating: 4.5\",\"Sushi By M\\u003cbr\\u003ePrice: $$$$\\u003cbr\\u003eRating: 4.5\",\"Shiki Omakase\\u003cbr\\u003ePrice: $$$$\\u003cbr\\u003eRating: 4.5\",\"KazuNori | NoMad\\u003cbr\\u003ePrice: $$\\u003cbr\\u003eRating: 4.5\",\"Little Mad\\u003cbr\\u003ePrice: $$$$\\u003cbr\\u003eRating: 4.5\",\"Yoon Haeundae Galbi\\u003cbr\\u003ePrice: $$$\\u003cbr\\u003eRating: 4.5\",\"Benemon\\u003cbr\\u003ePrice: $$\\u003cbr\\u003eRating: 4.5\",\"Shukette\\u003cbr\\u003ePrice: $$$\\u003cbr\\u003eRating: 4.5\",\"Kimura\\u003cbr\\u003ePrice: $$$\\u003cbr\\u003eRating: 4.5\",\"Lemongrass Brooklyn\\u003cbr\\u003ePrice: $$\\u003cbr\\u003eRating: 4.0\",\"Kochi\\u003cbr\\u003ePrice: $$$$\\u003cbr\\u003eRating: 4.5\",\"ilili Restaurant\\u003cbr\\u003ePrice: $$$\\u003cbr\\u003eRating: 4.0\",\"NR\\u003cbr\\u003ePrice: $$$\\u003cbr\\u003eRating: 4.5\",\"Boutros\\u003cbr\\u003ePrice: $$$\\u003cbr\\u003eRating: 4.5\",\"Chow House\\u003cbr\\u003ePrice: $$\\u003cbr\\u003eRating: 4.5\",\"Brooklyn Chop House\\u003cbr\\u003ePrice: $$$\\u003cbr\\u003eRating: 4.0\",\"Nan Xiang Xiao Long Bao - Manhattan\\u003cbr\\u003ePrice: $$\\u003cbr\\u003eRating: 4.5\",\"Hometown Hotpot & BBQ\\u003cbr\\u003ePrice: $$$\\u003cbr\\u003eRating: 4.0\",\"Kimika\\u003cbr\\u003ePrice: $$$\\u003cbr\\u003eRating: 4.0\",\"Nowon East Village \\u003cbr\\u003ePrice: $$$\\u003cbr\\u003eRating: 4.5\",\"Tasty Hand-Pulled Noodles\\u003cbr\\u003ePrice: $$\\u003cbr\\u003eRating: 4.0\",\"Grace Street\\u003cbr\\u003ePrice: $$\\u003cbr\\u003eRating: 4.0\",\"Shu Jiao Fu Zhou\\u003cbr\\u003ePrice: $\\u003cbr\\u003eRating: 4.5\",\"Au Za'atar\\u003cbr\\u003ePrice: $$\\u003cbr\\u003eRating: 4.0\",\"Hao Noodle Chelsea\\u003cbr\\u003ePrice: $$\\u003cbr\\u003eRating: 4.5\",\"Birds of a Feather\\u003cbr\\u003ePrice: $$\\u003cbr\\u003eRating: 4.0\",\"Caf\\u00e9 China\\u003cbr\\u003ePrice: $$\\u003cbr\\u003eRating: 4.0\",\"Aoi Kitchen\\u003cbr\\u003ePrice: $$\\u003cbr\\u003eRating: 4.5\",\"ICHIRAN - Times Square\\u003cbr\\u003ePrice: $$\\u003cbr\\u003eRating: 4.5\",\"Shanghai 21\\u003cbr\\u003ePrice: $$\\u003cbr\\u003eRating: 4.0\",\"Ye's Apothecary\\u003cbr\\u003ePrice: $$$\\u003cbr\\u003eRating: 4.5\",\"Chef's Table at Brooklyn Fare\\u003cbr\\u003ePrice: $$$$\\u003cbr\\u003eRating: 4.5\",\"Takumi Omakase\\u003cbr\\u003ePrice: $$$$\\u003cbr\\u003eRating: 4.5\",\"Sagaponack\\u003cbr\\u003ePrice: $$$\\u003cbr\\u003eRating: 4.5\",\"Vanessa's Dumpling House\\u003cbr\\u003ePrice: $\\u003cbr\\u003eRating: 4.0\",\"Hortus NYC\\u003cbr\\u003ePrice: $$$\\u003cbr\\u003eRating: 4.5\",\"wagamama - midtown\\u003cbr\\u003ePrice: $$\\u003cbr\\u003eRating: 4.5\",\"99 Favor Taste - New York\\u003cbr\\u003ePrice: $$$\\u003cbr\\u003eRating: 4.0\",\"Ramen Ishida\\u003cbr\\u003ePrice: $$\\u003cbr\\u003eRating: 4.5\",\"Tanoshi Sushi Sake Bar\\u003cbr\\u003ePrice: $$$$\\u003cbr\\u003eRating: 4.5\",\"Dhamaka\\u003cbr\\u003ePrice: $$$\\u003cbr\\u003eRating: 4.0\",\"Izakaya NoMad\\u003cbr\\u003ePrice: $$\\u003cbr\\u003eRating: 4.0\",\"Llama San\\u003cbr\\u003ePrice: $$$$\\u003cbr\\u003eRating: 4.0\",\"Set LES\\u003cbr\\u003ePrice: $$\\u003cbr\\u003eRating: 4.0\",\"Han Dynasty\\u003cbr\\u003ePrice: $$\\u003cbr\\u003eRating: 4.0\",\"Uncle Lou\\u003cbr\\u003ePrice: $$\\u003cbr\\u003eRating: 4.0\",\"Okiboru House of Tsukemen\\u003cbr\\u003ePrice: $$\\u003cbr\\u003eRating: 4.5\",\"The Drunken Munkey - UES\\u003cbr\\u003ePrice: $$\\u003cbr\\u003eRating: 4.5\",\"LumLum \\u003cbr\\u003ePrice: $$\\u003cbr\\u003eRating: 4.5\",\"Cho Dang Gol Korean Restaurant\\u003cbr\\u003ePrice: $$\\u003cbr\\u003eRating: 4.0\",\"Little Kirin\\u003cbr\\u003ePrice: $$\\u003cbr\\u003eRating: 5.0\",\"EN Japanese Brasserie\\u003cbr\\u003ePrice: $$$\\u003cbr\\u003eRating: 4.0\",\"Gyu-Kaku Japanese BBQ\\u003cbr\\u003ePrice: $$\\u003cbr\\u003eRating: 4.0\",\"Kuun\\u003cbr\\u003ePrice: $$$\\u003cbr\\u003eRating: 4.5\",\"Antoya Korean BBQ\\u003cbr\\u003ePrice: $$$\\u003cbr\\u003eRating: 4.0\",\"Spicy Moon East Village\\u003cbr\\u003ePrice: $$\\u003cbr\\u003eRating: 4.5\",\"Atomix\\u003cbr\\u003ePrice: $$$$\\u003cbr\\u003eRating: 4.5\",\"Sushi Yasaka\\u003cbr\\u003ePrice: $$\\u003cbr\\u003eRating: 4.0\",\"Basta Pasta\\u003cbr\\u003ePrice: $$\\u003cbr\\u003eRating: 4.0\",\"Turntable LP Bar & Karaoke\\u003cbr\\u003ePrice: $$\\u003cbr\\u003eRating: 4.5\",\"ChikaLicious Dessert Bar\\u003cbr\\u003ePrice: $$\\u003cbr\\u003eRating: 4.0\",\"Somtum Der\\u003cbr\\u003ePrice: $$\\u003cbr\\u003eRating: 4.0\",\"Sushi By Bo\\u016b - NoMad\\u003cbr\\u003ePrice: $$$$\\u003cbr\\u003eRating: 4.5\",\"Mr Mista Oh\\u003cbr\\u003ePrice: $$\\u003cbr\\u003eRating: 4.5\",\"Juku\\u003cbr\\u003ePrice: $$$\\u003cbr\\u003eRating: 4.0\",\"Omakase By Korami\\u003cbr\\u003ePrice: $$$$\\u003cbr\\u003eRating: 5.0\",\"Nourish\\u003cbr\\u003ePrice: $$\\u003cbr\\u003eRating: 4.0\",\"Paratha Wala\\u003cbr\\u003ePrice: $$\\u003cbr\\u003eRating: 4.5\",\"886\\u003cbr\\u003ePrice: $$\\u003cbr\\u003eRating: 4.0\",\"Kalye\\u003cbr\\u003ePrice: $$\\u003cbr\\u003eRating: 4.5\",\"BCD Tofu House\\u003cbr\\u003ePrice: $$\\u003cbr\\u003eRating: 4.0\",\"Hirohisa\\u003cbr\\u003ePrice: $$$$\\u003cbr\\u003eRating: 4.5\",\"Hao Noodle - West Village\\u003cbr\\u003ePrice: $$\\u003cbr\\u003eRating: 4.0\",\"Di An Di\\u003cbr\\u003ePrice: $$\\u003cbr\\u003eRating: 4.0\",\"Nami Nori\\u003cbr\\u003ePrice: $$$\\u003cbr\\u003eRating: 4.5\",\"Woorijip\\u003cbr\\u003ePrice: $$\\u003cbr\\u003eRating: 4.0\",\"Samurai Mama\\u003cbr\\u003ePrice: $$\\u003cbr\\u003eRating: 4.0\",\"Liu's Shanghai\\u003cbr\\u003ePrice: $$\\u003cbr\\u003eRating: 4.5\",\"Pure Thai Cookhouse\\u003cbr\\u003ePrice: $$\\u003cbr\\u003eRating: 4.0\",\"1 OR 8\\u003cbr\\u003ePrice: $$$\\u003cbr\\u003eRating: 4.0\",\"Trad Room\\u003cbr\\u003ePrice: $$\\u003cbr\\u003eRating: 4.5\",\"Genki Omakase\\u003cbr\\u003ePrice: $$$$\\u003cbr\\u003eRating: 4.5\",\"Sake Kawa\\u003cbr\\u003ePrice: $$$\\u003cbr\\u003eRating: 4.5\",\"The Bao\\u003cbr\\u003ePrice: $$\\u003cbr\\u003eRating: 4.0\",\"Simple NYC\\u003cbr\\u003ePrice: $$\\u003cbr\\u003eRating: 4.5\",\"MONO+MONO\\u003cbr\\u003ePrice: $$\\u003cbr\\u003eRating: 4.0\",\"Mazu Szechuan\\u003cbr\\u003ePrice: $$\\u003cbr\\u003eRating: 4.5\",\"Pinklady Cheese Tart\\u003cbr\\u003ePrice: $$\\u003cbr\\u003eRating: 4.5\",\"Yin Ji Chang Fen Rice Roll\\u003cbr\\u003ePrice: $$\\u003cbr\\u003eRating: 4.0\",\"Al Badawi\\u003cbr\\u003ePrice: $$\\u003cbr\\u003eRating: 4.5\",\"Izakaya Fuku\\u003cbr\\u003ePrice: $$\\u003cbr\\u003eRating: 4.5\",\"Laser Wolf\\u003cbr\\u003ePrice: $$$\\u003cbr\\u003eRating: 4.5\",\"Tamarind\\u003cbr\\u003ePrice: $$$\\u003cbr\\u003eRating: 4.0\",\"K-Top Chicken\\u003cbr\\u003ePrice: $$\\u003cbr\\u003eRating: 4.5\",\"Bangkok Degree\\u003cbr\\u003ePrice: $$\\u003cbr\\u003eRating: 4.5\",\"The Chemistry Room\\u003cbr\\u003ePrice: $$$$\\u003cbr\\u003eRating: 4.5\",\"Laojie Hotpot\\u003cbr\\u003ePrice: $$$\\u003cbr\\u003eRating: 4.5\",\"Xi'an Famous Foods\\u003cbr\\u003ePrice: $\\u003cbr\\u003eRating: 4.0\",\"Ramen Danbo\\u003cbr\\u003ePrice: $$\\u003cbr\\u003eRating: 4.0\",\"Ai Ki Ya\\u003cbr\\u003ePrice: $$\\u003cbr\\u003eRating: 4.5\",\"Soju Haus\\u003cbr\\u003ePrice: $$\\u003cbr\\u003eRating: 4.0\",\"Peng's Noodle Folk\\u003cbr\\u003ePrice: $$\\u003cbr\\u003eRating: 4.5\",\"Momoya SoHo\\u003cbr\\u003ePrice: $$$\\u003cbr\\u003eRating: 4.0\",\"Izakaya\\u003cbr\\u003ePrice: $$\\u003cbr\\u003eRating: 4.0\",\"Milu\\u003cbr\\u003ePrice: $$\\u003cbr\\u003eRating: 4.5\",\"Sushi Zo | New York\\u003cbr\\u003ePrice: $$$$\\u003cbr\\u003eRating: 4.5\",\"The Original Buddha Bodai Kosher Vegetarian Restaurant\\u003cbr\\u003ePrice: $$\\u003cbr\\u003eRating: 4.0\",\"Royal Grill Halal Food\\u003cbr\\u003ePrice: $\\u003cbr\\u003eRating: 4.5\",\"Kimchi Grill\\u003cbr\\u003ePrice: $$\\u003cbr\\u003eRating: 4.0\",\"One More Charm\\u003cbr\\u003ePrice: $$\\u003cbr\\u003eRating: 4.5\",\"Hou Yi Hot Pot\\u003cbr\\u003ePrice: $$$\\u003cbr\\u003eRating: 4.0\",\"Karasu\\u003cbr\\u003ePrice: $$$\\u003cbr\\u003eRating: 4.0\",\"3 Times\\u003cbr\\u003ePrice: $$\\u003cbr\\u003eRating: 4.0\",\"YUBU\\u003cbr\\u003ePrice: $$\\u003cbr\\u003eRating: 4.5\",\"Burp Bowl Cafe\\u003cbr\\u003ePrice: $$\\u003cbr\\u003eRating: 4.5\",\"Curry House\\u003cbr\\u003ePrice: $$\\u003cbr\\u003eRating: 4.5\",\"Eight Turn Cr\\u00eape\\u003cbr\\u003ePrice: $$\\u003cbr\\u003eRating: 4.0\",\"Queen\\u003cbr\\u003ePrice: $$\\u003cbr\\u003eRating: 4.5\",\"Hey Yuet\\u003cbr\\u003ePrice: $$\\u003cbr\\u003eRating: 4.5\",\"Omakase Room by Mitsu\\u003cbr\\u003ePrice: $$$$\\u003cbr\\u003eRating: 4.5\",\"Hupo\\u003cbr\\u003ePrice: $$\\u003cbr\\u003eRating: 4.5\",\"Hiyake Omakase\\u003cbr\\u003ePrice: $$$$\\u003cbr\\u003eRating: 4.0\",\"Malii Gramercy\\u003cbr\\u003ePrice: $$\\u003cbr\\u003eRating: 4.5\",\"Sushi Kai - East Village\\u003cbr\\u003ePrice: $$$$\\u003cbr\\u003eRating: 4.5\",\"Levantine\\u003cbr\\u003ePrice: $$\\u003cbr\\u003eRating: 4.5\",\"SUteiShi\\u003cbr\\u003ePrice: $$$\\u003cbr\\u003eRating: 4.0\",\"Taiki\\u003cbr\\u003ePrice: $$$\\u003cbr\\u003eRating: 4.5\",\"Five Senses\\u003cbr\\u003ePrice: $$\\u003cbr\\u003eRating: 4.0\",\"Sabry's\\u003cbr\\u003ePrice: $$\\u003cbr\\u003eRating: 4.5\",\"Tsukimi\\u003cbr\\u003ePrice: $$$$\\u003cbr\\u003eRating: 5.0\",\"Sapps\\u003cbr\\u003ePrice: $$\\u003cbr\\u003eRating: 4.0\",\"Tradisyon\\u003cbr\\u003ePrice: $$\\u003cbr\\u003eRating: 4.5\",\"Geido\\u003cbr\\u003ePrice: $$\\u003cbr\\u003eRating: 4.5\",\"Boka\\u003cbr\\u003ePrice: $$\\u003cbr\\u003eRating: 3.5\",\"ONDO Jersey City\\u003cbr\\u003ePrice: $$$\\u003cbr\\u003eRating: 4.5\",\"ACRE\\u003cbr\\u003ePrice: $$\\u003cbr\\u003eRating: 4.5\",\"China North Dumpling \\u5317\\u65b9\\u934b\\u8cbc\\u003cbr\\u003ePrice: $\\u003cbr\\u003eRating: 4.0\",\"Kosaka\\u003cbr\\u003ePrice: $$$$\\u003cbr\\u003eRating: 4.5\",\"KPOT Korean BBQ & Hot Pot\\u003cbr\\u003ePrice: $$$\\u003cbr\\u003eRating: 4.0\",\"Zatar\\u003cbr\\u003ePrice: $$\\u003cbr\\u003eRating: 4.5\",\"Towa\\u003cbr\\u003ePrice: $$$\\u003cbr\\u003eRating: 4.5\",\"Spice Symphony\\u003cbr\\u003ePrice: $$\\u003cbr\\u003eRating: 4.5\",\"Wanisa Home Kitchen\\u003cbr\\u003ePrice: $$\\u003cbr\\u003eRating: 4.0\",\"Golda\\u003cbr\\u003ePrice: $$\\u003cbr\\u003eRating: 4.0\",\"The Best Sichuan\\u003cbr\\u003ePrice: $$\\u003cbr\\u003eRating: 4.5\",\"Saiguette\\u003cbr\\u003ePrice: $$\\u003cbr\\u003eRating: 4.5\",\"Bites of Xi'an\\u003cbr\\u003ePrice: $\\u003cbr\\u003eRating: 4.5\",\"Java Indonesian Restaurant\\u003cbr\\u003ePrice: $$\\u003cbr\\u003eRating: 4.0\",\"Baoburg\\u003cbr\\u003ePrice: $$\\u003cbr\\u003eRating: 4.0\",\"KYU - New York\\u003cbr\\u003ePrice: $$$\\u003cbr\\u003eRating: 4.0\",\"Mr. Jones Supper Club\\u003cbr\\u003ePrice: $$$$\\u003cbr\\u003eRating: 5.0\",\"Mamoun's Falafel\\u003cbr\\u003ePrice: $$\\u003cbr\\u003eRating: 4.0\",\"NARO\\u003cbr\\u003ePrice: $$$$\\u003cbr\\u003eRating: 4.5\",\"SUGARFISH | Soho\\u003cbr\\u003ePrice: $$$\\u003cbr\\u003eRating: 4.0\",\"Watawa Sushi\\u003cbr\\u003ePrice: $$\\u003cbr\\u003eRating: 4.0\",\"Savory Thai\\u003cbr\\u003ePrice: $$\\u003cbr\\u003eRating: 4.5\",\"Ichibantei\\u003cbr\\u003ePrice: $$\\u003cbr\\u003eRating: 4.0\",\"Old Xi'an\\u003cbr\\u003ePrice: $$\\u003cbr\\u003eRating: 4.0\",\"Accent Restaurant & Bar\\u003cbr\\u003ePrice: $$\\u003cbr\\u003eRating: 4.5\",\"Shinsen\\u003cbr\\u003ePrice: $$\\u003cbr\\u003eRating: 4.0\",\"Kazuza\\u003cbr\\u003ePrice: $$\\u003cbr\\u003eRating: 4.0\",\"Sen Sakana\\u003cbr\\u003ePrice: $$$\\u003cbr\\u003eRating: 4.0\",\"Ayada Thai\\u003cbr\\u003ePrice: $$\\u003cbr\\u003eRating: 4.0\",\"Ming Wong Restaurant\\u003cbr\\u003ePrice: $$\\u003cbr\\u003eRating: 4.0\",\"Ling Kee Beef Jerky\\u003cbr\\u003ePrice: $\\u003cbr\\u003eRating: 4.5\",\"Ako\\u003cbr\\u003ePrice: $$\\u003cbr\\u003eRating: 4.0\",\"Maison Sun\\u003cbr\\u003ePrice: $$$$\\u003cbr\\u003eRating: 4.5\",\"Za-Ya Ramen\\u003cbr\\u003ePrice: $$\\u003cbr\\u003eRating: 4.5\",\"Umami Sushi\\u003cbr\\u003ePrice: $$\\u003cbr\\u003eRating: 4.5\",\"Sao Mai\\u003cbr\\u003ePrice: $$\\u003cbr\\u003eRating: 4.0\",\"Pecking House\\u003cbr\\u003ePrice: $$\\u003cbr\\u003eRating: 4.0\",\"Sushi Kaito\\u003cbr\\u003ePrice: $$$$\\u003cbr\\u003eRating: 4.5\",\"Kin Ramen\\u003cbr\\u003ePrice: $$\\u003cbr\\u003eRating: 4.5\",\"TJ Asian Bistro\\u003cbr\\u003ePrice: $$\\u003cbr\\u003eRating: 4.5\",\"Ootoya Union Square\\u003cbr\\u003ePrice: $$\\u003cbr\\u003eRating: 4.0\",\"Salma\\u003cbr\\u003ePrice: $$\\u003cbr\\u003eRating: 4.5\",\"Banh Mi Zon\\u003cbr\\u003ePrice: $$\\u003cbr\\u003eRating: 4.5\",\"Blossom Ice Cream & The Pok\\u00e9\\u003cbr\\u003ePrice: $$\\u003cbr\\u003eRating: 4.5\",\"Little Mo\\u003cbr\\u003ePrice: $$\\u003cbr\\u003eRating: 4.0\",\"Great NY Noodle Town\\u003cbr\\u003ePrice: $\\u003cbr\\u003eRating: 3.5\",\"Suzume\\u003cbr\\u003ePrice: $$\\u003cbr\\u003eRating: 4.0\",\"Dar 525\\u003cbr\\u003ePrice: $$\\u003cbr\\u003eRating: 4.5\",\"Momo Sushi Shack\\u003cbr\\u003ePrice: $$\\u003cbr\\u003eRating: 4.0\",\"Falansai\\u003cbr\\u003ePrice: $$\\u003cbr\\u003eRating: 4.0\",\"HinoMaru Ramen\\u003cbr\\u003ePrice: $$\\u003cbr\\u003eRating: 4.0\",\"Kanoyama\\u003cbr\\u003ePrice: $$$$\\u003cbr\\u003eRating: 4.0\",\"Matsuri\\u003cbr\\u003ePrice: $$\\u003cbr\\u003eRating: 4.5\",\"Yi Ji Shi Mo Noodle Corp\\u003cbr\\u003ePrice: $\\u003cbr\\u003eRating: 4.5\",\"SUGARFISH | Flatiron\\u003cbr\\u003ePrice: $$$\\u003cbr\\u003eRating: 4.0\",\"Joomak Banjum\\u003cbr\\u003ePrice: $$$$\\u003cbr\\u003eRating: 4.0\",\"Cardamom Indian cuisine\\u003cbr\\u003ePrice: $$\\u003cbr\\u003eRating: 4.5\",\"Nostrand Cafe\\u003cbr\\u003ePrice: $$\\u003cbr\\u003eRating: 4.5\",\"Zongzi lady\\u003cbr\\u003ePrice: $\\u003cbr\\u003eRating: 5.0\",\"Little Rascal\\u003cbr\\u003ePrice: $$\\u003cbr\\u003eRating: 4.0\",\"Mr. Sun\\u003cbr\\u003ePrice: $$\\u003cbr\\u003eRating: 4.5\",\"Takahachi Tribeca Restaurant\\u003cbr\\u003ePrice: $$$\\u003cbr\\u003eRating: 4.0\",\"Phil-Am Kusina\\u003cbr\\u003ePrice: $$\\u003cbr\\u003eRating: 4.5\",\"Trust Bae\\u003cbr\\u003ePrice: $$$$\\u003cbr\\u003eRating: 5.0\",\"Wu's Wonton King\\u003cbr\\u003ePrice: $$\\u003cbr\\u003eRating: 3.5\",\"Ki Sushi\\u003cbr\\u003ePrice: $$\\u003cbr\\u003eRating: 4.0\",\"Xi'an Famous Foods\\u003cbr\\u003ePrice: $$\\u003cbr\\u003eRating: 4.0\",\"Kings Co Imperial\\u003cbr\\u003ePrice: $$\\u003cbr\\u003eRating: 4.0\",\"Dun Huang -  Grand Central\\u003cbr\\u003ePrice: $$\\u003cbr\\u003eRating: 4.5\",\"LUNA  Asian Bistro & Lounge\\u003cbr\\u003ePrice: $$\\u003cbr\\u003eRating: 4.0\",\"Chu Ros Thai\\u003cbr\\u003ePrice: $$\\u003cbr\\u003eRating: 4.5\",\"Matsunori\\u003cbr\\u003ePrice: $$$$\\u003cbr\\u003eRating: 4.5\",\"Oh K-Dog\\u003cbr\\u003ePrice: $\\u003cbr\\u003eRating: 4.0\",\"Totto Ramen Hell's Kitchen\\u003cbr\\u003ePrice: $$\\u003cbr\\u003eRating: 4.0\",\"Gu Japanese Fusion Sushi & Bar\\u003cbr\\u003ePrice: $$\\u003cbr\\u003eRating: 4.0\",\"Aahar Indian Cuisine\\u003cbr\\u003ePrice: $$\\u003cbr\\u003eRating: 4.5\",\"Ramen Danbo\\u003cbr\\u003ePrice: $$\\u003cbr\\u003eRating: 4.5\",\"Tuk Tuk\\u003cbr\\u003ePrice: $$\\u003cbr\\u003eRating: 4.0\",\"Kono\\u003cbr\\u003ePrice: $$$$\\u003cbr\\u003eRating: 4.5\",\"Banh Mi Place\\u003cbr\\u003ePrice: $$\\u003cbr\\u003eRating: 4.0\",\"Vatan Indian Vegetarian\\u003cbr\\u003ePrice: $$$\\u003cbr\\u003eRating: 4.0\",\"Copper Throat Thai Cuisine\\u003cbr\\u003ePrice: $$\\u003cbr\\u003eRating: 4.0\",\"Mughlai Indian Cuisine\\u003cbr\\u003ePrice: $$\\u003cbr\\u003eRating: 4.5\",\"Am Thai Bistro\\u003cbr\\u003ePrice: $$\\u003cbr\\u003eRating: 4.0\"],\"lat\":[40.739694,40.7763615,40.7502727,40.7258,40.72990742,40.7264988089,40.681442,40.77078,40.7698275927,40.71789,40.75725,40.74207,40.7422762672,40.727066,40.74070517,40.76344,40.744435,40.731746522899996,40.741046,40.761861,40.73966,40.71735,40.72911,40.7228416514,40.7280299,40.67791,40.7213813139,40.7196796287,40.7197501398,40.72659,40.72654,40.74519,40.74502,40.7499675032,40.72551,40.74745,40.7290432506,40.688684,40.762010000000004,40.74435,40.770153,40.6901481294,40.72915,40.71151,40.7482252753,40.71931,40.720572,40.72532,40.7142,40.7478576794,40.7174109,40.728901,40.7406999,40.71442,40.751587,40.72683167,40.7600737531,40.71441,40.71945,40.756125995,40.7218841,40.741019,40.71839,40.745481,40.763160413,40.7176199,40.7196298,40.767568,40.7180658,40.74409,40.73225,40.7198495418,40.732072,40.71623,40.719348,40.78098,40.7629,40.7502365112,40.72782,40.7306,40.7591422379,40.6884292,40.74811,40.72674,40.74421,40.779583,40.73881,40.74769,40.7296463653,40.7252151982,40.745939,40.74324,40.71461,40.7635033079,40.677941,40.71044,40.72877,40.7179,40.7476973488,40.724597,40.733486319,40.72969,40.7191396454,40.74747,40.714247,40.6026411896,40.764291,40.6896859,40.68391,40.72933,40.7563,40.72939,40.71821,40.72549,40.745233999999996,40.7141357508,40.71583,40.69059,40.74635,40.720809,40.71909,40.71499,40.6747232719,40.75844,40.6389709339,40.755136,40.6761199579,40.74873,40.7468603,40.7711335539,40.72349,40.72667,40.741084,40.7297821045,40.7138543,40.7562107329,40.6750885,40.669892,40.7161793,40.6893727909,40.718271,40.72702,40.74183,40.714704354,40.6911103553,40.706071,40.747241,40.73382,40.742827,40.71871,40.73767,40.728498,40.715385,40.70788,40.6845433545,40.7475731586,40.768311,40.72908,40.74762,40.76491,40.67792,40.729519,40.72084,40.72633,40.7158,40.7381972956,40.69088,40.6980763645,40.7442,40.7558937073,40.687,40.68151,40.75266,40.7990529691,40.688006,40.662645,40.7234929272,40.7256179673,40.7317819,40.728721,40.7581054545,40.725117,40.774959,40.71395,40.7325968005,40.70591,40.74303,40.71558,40.72602,40.7552257152,40.7434403431,40.71601,40.71466,40.7168599,40.6885397234,40.6741699,40.73571,40.730362,40.6796443,40.779199,40.76435,40.7461895,40.73316,40.7303699423,40.72572,40.6892919,40.69701,40.715,40.7131652,40.72308,40.70512,40.70676,40.7748899167,40.730545186,40.7458357,40.71824,40.73901,40.74701,40.7438892342,40.689746,40.7181661,40.7208633,40.75809,40.71659,40.6123064741,40.7463491877,40.7139415502,40.68764,40.7243301735,40.7180159,40.74922,40.7573,40.78922,40.72088,40.72104,40.765055,40.75743,40.71334,40.7298950459,40.743232,40.71568,40.6732865,40.74236,40.71978,40.78002,40.6468364563],\"lon\":[-73.987832,-73.95308,-73.9844951,-73.9927,-74.004213804,-73.9866526052,-73.977241,-73.95727,-73.9576330869,-73.9988,-73.96774,-74.00565,-74.0048000962,-73.983505,-73.8793501821,-73.98661,-73.98832,-74.0045493828,-73.991421,-73.979306,-73.99247,-73.99457,-73.98858,-73.9831015,-74.00167,-73.97929,-73.9950757665,-73.9887088537,-73.9848855773,-73.98873,-73.99956,-73.98824,-73.98513,-73.9844309551,-73.98838,-74.00041,-73.9882174,-73.993137,-73.99351,-73.98778,-73.954956,-73.9935445413,-74.00072,-74.00597,-73.9857786,-73.99689,-73.995206,-73.98334,-73.99787,-73.9865590632,-73.992100412,-73.981185,-74.00436,-73.960441,-73.985815,-73.98754333,-73.9833259411,-73.99902,-73.9898,-73.9965955641,-73.9866691,-73.990692,-73.9917399,-73.986518,-73.9788544409,-73.99249,-73.988366,-73.952815,-73.9881304,-73.98945,-74.00078,-73.9885318279,-73.988074,-73.99925,-73.989706,-73.94751,-73.98991,-73.9861984253,-73.98551,-74.00698,-73.9898985543,-73.9831506,-73.9872,-73.98722,-73.98286,-73.983482,-73.99407,-73.98735,-73.9862015437,-73.9842741682,-73.983523,-73.99123,-73.999528,-73.989323,-73.968455,-73.84942,-73.98873,-73.98999,-73.9860685308,-74.003174,-73.9998929006,-73.95827,-73.9528407272,-73.98648,-73.960055,-74.0038766549,-73.988159,-73.9703551,-73.929419,-73.99808,-73.92855,-73.9889199,-73.99223,-73.98803,-73.97812,-73.9988519624,-73.999336,-73.99503,-73.89383,-73.958752,-74.00892,-73.95833,-73.9757981977,-73.98306,-74.0046846944,-73.982194,-73.974519968,-73.98705,-73.9851724,-73.962035427,-73.99579,-73.98738,-73.985324,-73.9992218018,-73.9989484,-73.9833494825,-73.9634982,-73.979454,-73.9925896,-73.9732461,-73.985209,-73.98608,-73.98271,-73.9977050234,-73.9831850898,-73.922414,-73.996441,-74.00042,-73.953575,-73.9945,-73.98128,-73.98615,-73.944839,-74.00194,-73.9837775426,-73.9863122632,-73.91112,-73.98541,-73.94008,-73.987537,-73.97266,-73.989104,-74.03199,-73.95471,-73.9898,-74.001444988,-73.98378,-73.9245712109,-73.99062,-73.971534729,-73.99042,-73.95591,-73.98459,-73.9628195532,-73.982083,-73.9847769,-73.9503321851,-73.9952634137,-74.0025704,-73.988554,-73.9778530962,-74.003685,-73.9095,-73.95554,-73.9880024,-74.00747,-73.97986,-73.9967,-73.98393,-73.98163,-73.887628037,-73.99838,-73.99148,-73.95845,-73.9854437478,-73.99968,-74.00044,-73.98362,-73.97457729999999,-73.983662,-73.97904,-73.9136856,-73.99273,-73.9837222575,-73.98428,-73.9916948,-73.93368,-73.99706,-73.9494479,-73.9452699,-73.933463,-73.92877,-73.9092001319,-73.9865440288,-73.9035436,-73.99583,-73.98882,-73.98583,-73.9212168609,-73.951286,-73.9938466,-73.9950497,-73.98026,-74.007919,-74.0712469296,-73.9882882411,-73.9899386554,-73.9901,-73.9509299397,-73.9853739,-73.97785,-73.92068,-73.94873,-73.98981,-73.98804,-73.991001,-73.97042,-74.0081,-74.0034680129,-73.954254,-73.99664,-73.9631,-73.9803699,-73.98877,-73.94978,-73.9701736994],\"marker\":{\"color\":\"#D35400\",\"size\":6},\"mode\":\"markers\",\"name\":\"Asian FnB\",\"type\":\"scattermapbox\"}],                        {\"template\":{\"data\":{\"histogram2dcontour\":[{\"type\":\"histogram2dcontour\",\"colorbar\":{\"outlinewidth\":0,\"ticks\":\"\"},\"colorscale\":[[0.0,\"#0d0887\"],[0.1111111111111111,\"#46039f\"],[0.2222222222222222,\"#7201a8\"],[0.3333333333333333,\"#9c179e\"],[0.4444444444444444,\"#bd3786\"],[0.5555555555555556,\"#d8576b\"],[0.6666666666666666,\"#ed7953\"],[0.7777777777777778,\"#fb9f3a\"],[0.8888888888888888,\"#fdca26\"],[1.0,\"#f0f921\"]]}],\"choropleth\":[{\"type\":\"choropleth\",\"colorbar\":{\"outlinewidth\":0,\"ticks\":\"\"}}],\"histogram2d\":[{\"type\":\"histogram2d\",\"colorbar\":{\"outlinewidth\":0,\"ticks\":\"\"},\"colorscale\":[[0.0,\"#0d0887\"],[0.1111111111111111,\"#46039f\"],[0.2222222222222222,\"#7201a8\"],[0.3333333333333333,\"#9c179e\"],[0.4444444444444444,\"#bd3786\"],[0.5555555555555556,\"#d8576b\"],[0.6666666666666666,\"#ed7953\"],[0.7777777777777778,\"#fb9f3a\"],[0.8888888888888888,\"#fdca26\"],[1.0,\"#f0f921\"]]}],\"heatmap\":[{\"type\":\"heatmap\",\"colorbar\":{\"outlinewidth\":0,\"ticks\":\"\"},\"colorscale\":[[0.0,\"#0d0887\"],[0.1111111111111111,\"#46039f\"],[0.2222222222222222,\"#7201a8\"],[0.3333333333333333,\"#9c179e\"],[0.4444444444444444,\"#bd3786\"],[0.5555555555555556,\"#d8576b\"],[0.6666666666666666,\"#ed7953\"],[0.7777777777777778,\"#fb9f3a\"],[0.8888888888888888,\"#fdca26\"],[1.0,\"#f0f921\"]]}],\"heatmapgl\":[{\"type\":\"heatmapgl\",\"colorbar\":{\"outlinewidth\":0,\"ticks\":\"\"},\"colorscale\":[[0.0,\"#0d0887\"],[0.1111111111111111,\"#46039f\"],[0.2222222222222222,\"#7201a8\"],[0.3333333333333333,\"#9c179e\"],[0.4444444444444444,\"#bd3786\"],[0.5555555555555556,\"#d8576b\"],[0.6666666666666666,\"#ed7953\"],[0.7777777777777778,\"#fb9f3a\"],[0.8888888888888888,\"#fdca26\"],[1.0,\"#f0f921\"]]}],\"contourcarpet\":[{\"type\":\"contourcarpet\",\"colorbar\":{\"outlinewidth\":0,\"ticks\":\"\"}}],\"contour\":[{\"type\":\"contour\",\"colorbar\":{\"outlinewidth\":0,\"ticks\":\"\"},\"colorscale\":[[0.0,\"#0d0887\"],[0.1111111111111111,\"#46039f\"],[0.2222222222222222,\"#7201a8\"],[0.3333333333333333,\"#9c179e\"],[0.4444444444444444,\"#bd3786\"],[0.5555555555555556,\"#d8576b\"],[0.6666666666666666,\"#ed7953\"],[0.7777777777777778,\"#fb9f3a\"],[0.8888888888888888,\"#fdca26\"],[1.0,\"#f0f921\"]]}],\"surface\":[{\"type\":\"surface\",\"colorbar\":{\"outlinewidth\":0,\"ticks\":\"\"},\"colorscale\":[[0.0,\"#0d0887\"],[0.1111111111111111,\"#46039f\"],[0.2222222222222222,\"#7201a8\"],[0.3333333333333333,\"#9c179e\"],[0.4444444444444444,\"#bd3786\"],[0.5555555555555556,\"#d8576b\"],[0.6666666666666666,\"#ed7953\"],[0.7777777777777778,\"#fb9f3a\"],[0.8888888888888888,\"#fdca26\"],[1.0,\"#f0f921\"]]}],\"mesh3d\":[{\"type\":\"mesh3d\",\"colorbar\":{\"outlinewidth\":0,\"ticks\":\"\"}}],\"scatter\":[{\"fillpattern\":{\"fillmode\":\"overlay\",\"size\":10,\"solidity\":0.2},\"type\":\"scatter\"}],\"parcoords\":[{\"type\":\"parcoords\",\"line\":{\"colorbar\":{\"outlinewidth\":0,\"ticks\":\"\"}}}],\"scatterpolargl\":[{\"type\":\"scatterpolargl\",\"marker\":{\"colorbar\":{\"outlinewidth\":0,\"ticks\":\"\"}}}],\"bar\":[{\"error_x\":{\"color\":\"#2a3f5f\"},\"error_y\":{\"color\":\"#2a3f5f\"},\"marker\":{\"line\":{\"color\":\"#E5ECF6\",\"width\":0.5},\"pattern\":{\"fillmode\":\"overlay\",\"size\":10,\"solidity\":0.2}},\"type\":\"bar\"}],\"scattergeo\":[{\"type\":\"scattergeo\",\"marker\":{\"colorbar\":{\"outlinewidth\":0,\"ticks\":\"\"}}}],\"scatterpolar\":[{\"type\":\"scatterpolar\",\"marker\":{\"colorbar\":{\"outlinewidth\":0,\"ticks\":\"\"}}}],\"histogram\":[{\"marker\":{\"pattern\":{\"fillmode\":\"overlay\",\"size\":10,\"solidity\":0.2}},\"type\":\"histogram\"}],\"scattergl\":[{\"type\":\"scattergl\",\"marker\":{\"colorbar\":{\"outlinewidth\":0,\"ticks\":\"\"}}}],\"scatter3d\":[{\"type\":\"scatter3d\",\"line\":{\"colorbar\":{\"outlinewidth\":0,\"ticks\":\"\"}},\"marker\":{\"colorbar\":{\"outlinewidth\":0,\"ticks\":\"\"}}}],\"scattermapbox\":[{\"type\":\"scattermapbox\",\"marker\":{\"colorbar\":{\"outlinewidth\":0,\"ticks\":\"\"}}}],\"scatterternary\":[{\"type\":\"scatterternary\",\"marker\":{\"colorbar\":{\"outlinewidth\":0,\"ticks\":\"\"}}}],\"scattercarpet\":[{\"type\":\"scattercarpet\",\"marker\":{\"colorbar\":{\"outlinewidth\":0,\"ticks\":\"\"}}}],\"carpet\":[{\"aaxis\":{\"endlinecolor\":\"#2a3f5f\",\"gridcolor\":\"white\",\"linecolor\":\"white\",\"minorgridcolor\":\"white\",\"startlinecolor\":\"#2a3f5f\"},\"baxis\":{\"endlinecolor\":\"#2a3f5f\",\"gridcolor\":\"white\",\"linecolor\":\"white\",\"minorgridcolor\":\"white\",\"startlinecolor\":\"#2a3f5f\"},\"type\":\"carpet\"}],\"table\":[{\"cells\":{\"fill\":{\"color\":\"#EBF0F8\"},\"line\":{\"color\":\"white\"}},\"header\":{\"fill\":{\"color\":\"#C8D4E3\"},\"line\":{\"color\":\"white\"}},\"type\":\"table\"}],\"barpolar\":[{\"marker\":{\"line\":{\"color\":\"#E5ECF6\",\"width\":0.5},\"pattern\":{\"fillmode\":\"overlay\",\"size\":10,\"solidity\":0.2}},\"type\":\"barpolar\"}],\"pie\":[{\"automargin\":true,\"type\":\"pie\"}]},\"layout\":{\"autotypenumbers\":\"strict\",\"colorway\":[\"#636efa\",\"#EF553B\",\"#00cc96\",\"#ab63fa\",\"#FFA15A\",\"#19d3f3\",\"#FF6692\",\"#B6E880\",\"#FF97FF\",\"#FECB52\"],\"font\":{\"color\":\"#2a3f5f\"},\"hovermode\":\"closest\",\"hoverlabel\":{\"align\":\"left\"},\"paper_bgcolor\":\"white\",\"plot_bgcolor\":\"#E5ECF6\",\"polar\":{\"bgcolor\":\"#E5ECF6\",\"angularaxis\":{\"gridcolor\":\"white\",\"linecolor\":\"white\",\"ticks\":\"\"},\"radialaxis\":{\"gridcolor\":\"white\",\"linecolor\":\"white\",\"ticks\":\"\"}},\"ternary\":{\"bgcolor\":\"#E5ECF6\",\"aaxis\":{\"gridcolor\":\"white\",\"linecolor\":\"white\",\"ticks\":\"\"},\"baxis\":{\"gridcolor\":\"white\",\"linecolor\":\"white\",\"ticks\":\"\"},\"caxis\":{\"gridcolor\":\"white\",\"linecolor\":\"white\",\"ticks\":\"\"}},\"coloraxis\":{\"colorbar\":{\"outlinewidth\":0,\"ticks\":\"\"}},\"colorscale\":{\"sequential\":[[0.0,\"#0d0887\"],[0.1111111111111111,\"#46039f\"],[0.2222222222222222,\"#7201a8\"],[0.3333333333333333,\"#9c179e\"],[0.4444444444444444,\"#bd3786\"],[0.5555555555555556,\"#d8576b\"],[0.6666666666666666,\"#ed7953\"],[0.7777777777777778,\"#fb9f3a\"],[0.8888888888888888,\"#fdca26\"],[1.0,\"#f0f921\"]],\"sequentialminus\":[[0.0,\"#0d0887\"],[0.1111111111111111,\"#46039f\"],[0.2222222222222222,\"#7201a8\"],[0.3333333333333333,\"#9c179e\"],[0.4444444444444444,\"#bd3786\"],[0.5555555555555556,\"#d8576b\"],[0.6666666666666666,\"#ed7953\"],[0.7777777777777778,\"#fb9f3a\"],[0.8888888888888888,\"#fdca26\"],[1.0,\"#f0f921\"]],\"diverging\":[[0,\"#8e0152\"],[0.1,\"#c51b7d\"],[0.2,\"#de77ae\"],[0.3,\"#f1b6da\"],[0.4,\"#fde0ef\"],[0.5,\"#f7f7f7\"],[0.6,\"#e6f5d0\"],[0.7,\"#b8e186\"],[0.8,\"#7fbc41\"],[0.9,\"#4d9221\"],[1,\"#276419\"]]},\"xaxis\":{\"gridcolor\":\"white\",\"linecolor\":\"white\",\"ticks\":\"\",\"title\":{\"standoff\":15},\"zerolinecolor\":\"white\",\"automargin\":true,\"zerolinewidth\":2},\"yaxis\":{\"gridcolor\":\"white\",\"linecolor\":\"white\",\"ticks\":\"\",\"title\":{\"standoff\":15},\"zerolinecolor\":\"white\",\"automargin\":true,\"zerolinewidth\":2},\"scene\":{\"xaxis\":{\"backgroundcolor\":\"#E5ECF6\",\"gridcolor\":\"white\",\"linecolor\":\"white\",\"showbackground\":true,\"ticks\":\"\",\"zerolinecolor\":\"white\",\"gridwidth\":2},\"yaxis\":{\"backgroundcolor\":\"#E5ECF6\",\"gridcolor\":\"white\",\"linecolor\":\"white\",\"showbackground\":true,\"ticks\":\"\",\"zerolinecolor\":\"white\",\"gridwidth\":2},\"zaxis\":{\"backgroundcolor\":\"#E5ECF6\",\"gridcolor\":\"white\",\"linecolor\":\"white\",\"showbackground\":true,\"ticks\":\"\",\"zerolinecolor\":\"white\",\"gridwidth\":2}},\"shapedefaults\":{\"line\":{\"color\":\"#2a3f5f\"}},\"annotationdefaults\":{\"arrowcolor\":\"#2a3f5f\",\"arrowhead\":0,\"arrowwidth\":1},\"geo\":{\"bgcolor\":\"white\",\"landcolor\":\"#E5ECF6\",\"subunitcolor\":\"white\",\"showland\":true,\"showlakes\":true,\"lakecolor\":\"white\"},\"title\":{\"x\":0.05},\"mapbox\":{\"style\":\"light\"}}},\"mapbox\":{\"center\":{\"lat\":40.72758458415976,\"lon\":-73.97994324921221},\"style\":\"carto-positron\",\"zoom\":10}},                        {\"responsive\": true}                    ).then(function(){\n",
       "                            \n",
       "var gd = document.getElementById('3837c894-6e08-435d-b846-2063c8e5d43f');\n",
       "var x = new MutationObserver(function (mutations, observer) {{\n",
       "        var display = window.getComputedStyle(gd).display;\n",
       "        if (!display || display === 'none') {{\n",
       "            console.log([gd, 'removed!']);\n",
       "            Plotly.purge(gd);\n",
       "            observer.disconnect();\n",
       "        }}\n",
       "}});\n",
       "\n",
       "// Listen for the removal of the full notebook cells\n",
       "var notebookContainer = gd.closest('#notebook-container');\n",
       "if (notebookContainer) {{\n",
       "    x.observe(notebookContainer, {childList: true});\n",
       "}}\n",
       "\n",
       "// Listen for the clearing of the current output cell\n",
       "var outputEl = gd.closest('.output');\n",
       "if (outputEl) {{\n",
       "    x.observe(outputEl, {childList: true});\n",
       "}}\n",
       "\n",
       "                        })                };                });            </script>        </div>"
      ]
     },
     "metadata": {},
     "output_type": "display_data"
    }
   ],
   "source": [
    "import plotly.graph_objects as go\n",
    "\n",
    "# Initialize the map\n",
    "fig = go.Figure()\n",
    "\n",
    "# Adding cleaned_df2 data as non-interactive purple dots\n",
    "fig.add_trace(go.Scattermapbox(\n",
    "    lat=cleaned_df2['lat'],\n",
    "    lon=cleaned_df2['long'],\n",
    "    mode='markers',\n",
    "    marker=go.scattermapbox.Marker(size=6, color='#D7BDE2'),  # Making the points purple\n",
    "    hoverinfo='none',  # Making it non-interactive\n",
    "    name='Reviewed Yelp Places'\n",
    "))\n",
    "\n",
    "# Adding SEA_df3_gdf data as interactive orange points\n",
    "fig.add_trace(go.Scattermapbox(\n",
    "    lat=SEA_df3_gdf['lat'],\n",
    "    lon=SEA_df3_gdf['long'],\n",
    "    mode='markers',\n",
    "    marker=go.scattermapbox.Marker(size=6, color='#D35400'),  # Making the points orange\n",
    "    hoverinfo='all',\n",
    "    hovertext=SEA_df3_gdf['name'] + '<br>Price: ' + SEA_df3_gdf['price'].astype(str) + '<br>Rating: ' + SEA_df3_gdf['rating'].astype(str),\n",
    "    name='Asian FnB'\n",
    "))\n",
    "\n",
    "# Set mapbox style and zoom\n",
    "fig.update_layout(\n",
    "    mapbox_style=\"carto-positron\",\n",
    "    mapbox_zoom=10,\n",
    "    mapbox_center_lat=SEA_df3_gdf['lat'].mean(),\n",
    "    mapbox_center_lon=SEA_df3_gdf['long'].mean()\n",
    ")\n",
    "\n",
    "fig.show()\n",
    "fig.write_html(\"map_output2.html\")\n"
   ]
  },
  {
   "cell_type": "code",
   "execution_count": null,
   "id": "3316e909",
   "metadata": {},
   "outputs": [],
   "source": []
  }
 ],
 "metadata": {
  "kernelspec": {
   "display_name": "Python 3 (ipykernel)",
   "language": "python",
   "name": "python3"
  },
  "language_info": {
   "codemirror_mode": {
    "name": "ipython",
    "version": 3
   },
   "file_extension": ".py",
   "mimetype": "text/x-python",
   "name": "python",
   "nbconvert_exporter": "python",
   "pygments_lexer": "ipython3",
   "version": "3.8.18"
  }
 },
 "nbformat": 4,
 "nbformat_minor": 5
}
